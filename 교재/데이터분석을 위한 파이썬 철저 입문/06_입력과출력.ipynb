{
 "cells": [
  {
   "cell_type": "markdown",
   "metadata": {},
   "source": [
    "## 01. 화면 출력\n",
    "- 기본 출력"
   ]
  },
  {
   "cell_type": "code",
   "execution_count": 1,
   "metadata": {},
   "outputs": [
    {
     "name": "stdout",
     "output_type": "stream",
     "text": [
      "Hello Python!\n"
     ]
    }
   ],
   "source": [
    "print(\"Hello Python!\")"
   ]
  },
  {
   "cell_type": "code",
   "execution_count": 2,
   "metadata": {},
   "outputs": [
    {
     "name": "stdout",
     "output_type": "stream",
     "text": [
      "Best python book\n"
     ]
    }
   ],
   "source": [
    "print(\"Best\", \"python\", \"book\")"
   ]
  },
  {
   "cell_type": "code",
   "execution_count": 3,
   "metadata": {},
   "outputs": [
    {
     "name": "stdout",
     "output_type": "stream",
     "text": [
      "Best-:*:-python-:*:-book\n"
     ]
    }
   ],
   "source": [
    "# sep= : separate의 약자\n",
    "print(\"Best\", \"python\", \"book\", sep=\"-:*:-\")"
   ]
  },
  {
   "cell_type": "code",
   "execution_count": 4,
   "metadata": {},
   "outputs": [
    {
     "name": "stdout",
     "output_type": "stream",
     "text": [
      "abcdefg\n"
     ]
    }
   ],
   "source": [
    "print('abcd'+'efg')"
   ]
  },
  {
   "cell_type": "code",
   "execution_count": 5,
   "metadata": {},
   "outputs": [
    {
     "name": "stdout",
     "output_type": "stream",
     "text": [
      "Best python book : This book\n"
     ]
    }
   ],
   "source": [
    "print(\"Best\", \"python\", \"book\", \":\", \"This book\")"
   ]
  },
  {
   "cell_type": "code",
   "execution_count": 7,
   "metadata": {},
   "outputs": [
    {
     "name": "stdout",
     "output_type": "stream",
     "text": [
      "Name: James, ID Number: 789\n"
     ]
    }
   ],
   "source": [
    "name = \"James\"\n",
    "ID_num = 789\n",
    "print(\"Name:\", name + ',', \"ID Number:\", ID_num)"
   ]
  },
  {
   "cell_type": "code",
   "execution_count": 8,
   "metadata": {},
   "outputs": [
    {
     "name": "stdout",
     "output_type": "stream",
     "text": [
      "James is my friend. \n",
      "He is Korean\n"
     ]
    }
   ],
   "source": [
    "print('James is my friend. \\nHe is Korean')"
   ]
  },
  {
   "cell_type": "code",
   "execution_count": 9,
   "metadata": {},
   "outputs": [
    {
     "name": "stdout",
     "output_type": "stream",
     "text": [
      "James is my friend. \n",
      "\n",
      "He is Korean\n"
     ]
    }
   ],
   "source": [
    "print('James is my friend. \\n\\nHe is Korean')"
   ]
  },
  {
   "cell_type": "code",
   "execution_count": 10,
   "metadata": {},
   "outputs": [
    {
     "name": "stdout",
     "output_type": "stream",
     "text": [
      "Welcome\n",
      "to python !\n"
     ]
    }
   ],
   "source": [
    "print(\"Welcome\")\n",
    "print(\"to python !\")"
   ]
  },
  {
   "cell_type": "code",
   "execution_count": 12,
   "metadata": {},
   "outputs": [
    {
     "name": "stdout",
     "output_type": "stream",
     "text": [
      "Welcome to python !\n"
     ]
    }
   ],
   "source": [
    "print(\"Welcome \", end=\"\")\n",
    "print(\"to python !\")"
   ]
  },
  {
   "cell_type": "markdown",
   "metadata": {},
   "source": [
    "- 형식 지정 출력"
   ]
  },
  {
   "cell_type": "code",
   "execution_count": 1,
   "metadata": {},
   "outputs": [
    {
     "name": "stdout",
     "output_type": "stream",
     "text": [
      "James는 나의 친구입니다\n"
     ]
    }
   ],
   "source": [
    "name = \"James\"\n",
    "print(\"%s는 나의 친구입니다\" %name)"
   ]
  },
  {
   "cell_type": "code",
   "execution_count": 3,
   "metadata": {},
   "outputs": [
    {
     "name": "stdout",
     "output_type": "stream",
     "text": [
      "Animal: cat\n",
      "Animal: cat, dog, fox\n"
     ]
    }
   ],
   "source": [
    "animal_0 = 'cat'\n",
    "animal_1 = 'dog'\n",
    "animal_2 = 'fox'\n",
    "\n",
    "print('Animal: {0}'.format(animal_0))\n",
    "print('Animal: {0}, {1}, {2}'.format(animal_0, animal_1, animal_2))"
   ]
  },
  {
   "cell_type": "code",
   "execution_count": 4,
   "metadata": {},
   "outputs": [
    {
     "name": "stdout",
     "output_type": "stream",
     "text": [
      "Animal: dog, cat, fox\n"
     ]
    }
   ],
   "source": [
    "print(\"Animal: {1}, {0}, {2}\".format(animal_0, animal_1, animal_2))"
   ]
  },
  {
   "cell_type": "markdown",
   "metadata": {},
   "source": [
    "- 키보드 입력"
   ]
  },
  {
   "cell_type": "code",
   "execution_count": 5,
   "metadata": {},
   "outputs": [
    {
     "name": "stdout",
     "output_type": "stream",
     "text": [
      "당신은 홍길동이군요.\n"
     ]
    }
   ],
   "source": [
    "yourName = input(\"당신의 이름은? \")\n",
    "print(\"당신은 {}이군요.\".format(yourName))"
   ]
  },
  {
   "cell_type": "code",
   "execution_count": 6,
   "metadata": {},
   "outputs": [
    {
     "name": "stdout",
     "output_type": "stream",
     "text": [
      "당신이 입력한 숫자는 5입니다.\n"
     ]
    }
   ],
   "source": [
    "num = input(\"숫자를 입력하세요.\")\n",
    "print(f\"당신이 입력한 숫자는 {num}입니다.\")"
   ]
  },
  {
   "cell_type": "code",
   "execution_count": 8,
   "metadata": {},
   "outputs": [
    {
     "name": "stdout",
     "output_type": "stream",
     "text": [
      "정사각형의 넓이: 25\n"
     ]
    }
   ],
   "source": [
    "a = input(\"정사각형 한 변의 길이는?\")\n",
    "area = int(a) ** 2\n",
    "print(f\"정사각형의 넓이: {area}\")"
   ]
  },
  {
   "cell_type": "code",
   "execution_count": null,
   "metadata": {},
   "outputs": [],
   "source": []
  }
 ],
 "metadata": {
  "kernelspec": {
   "display_name": "study",
   "language": "python",
   "name": "python3"
  },
  "language_info": {
   "codemirror_mode": {
    "name": "ipython",
    "version": 3
   },
   "file_extension": ".py",
   "mimetype": "text/x-python",
   "name": "python",
   "nbconvert_exporter": "python",
   "pygments_lexer": "ipython3",
   "version": "3.9.16"
  },
  "orig_nbformat": 4
 },
 "nbformat": 4,
 "nbformat_minor": 2
}
