{
  "cells": [
    {
      "cell_type": "markdown",
      "source": [
        "# Word2Vec 직접 구현"
      ],
      "metadata": {
        "id": "jGkgqA_h5jmg"
      }
    },
    {
      "cell_type": "code",
      "source": [
        "doc = 'you will never know until you try'"
      ],
      "metadata": {
        "id": "XjZChkA55jXz"
      },
      "execution_count": 1,
      "outputs": []
    },
    {
      "cell_type": "code",
      "source": [
        "# 1. 입력 문장 토큰화\n",
        "\n",
        "tokens = doc.split()\n",
        "tokens"
      ],
      "metadata": {
        "colab": {
          "base_uri": "https://localhost:8080/"
        },
        "id": "ovtlKcEc5oWb",
        "outputId": "0117153a-dace-4fe8-f8f4-b4128b2da2ef"
      },
      "execution_count": 3,
      "outputs": [
        {
          "output_type": "execute_result",
          "data": {
            "text/plain": [
              "['you', 'will', 'never', 'know', 'until', 'you', 'try']"
            ]
          },
          "metadata": {},
          "execution_count": 3
        }
      ]
    },
    {
      "cell_type": "code",
      "source": [
        "# 가중치 행렬 초기화\n",
        "V = len(set(tokens)) # 유니크한 단어 수\n",
        "N = 4 # 임베딩 차원 수\n",
        "\n",
        "import numpy as np\n",
        "\n",
        "W1 = np.random.rand(V, N)\n",
        "W2 = np.random.rand(N, V)"
      ],
      "metadata": {
        "id": "7W3_ErC_5oUT"
      },
      "execution_count": 4,
      "outputs": []
    },
    {
      "cell_type": "code",
      "source": [
        "W1"
      ],
      "metadata": {
        "colab": {
          "base_uri": "https://localhost:8080/"
        },
        "id": "XyrpB6Fa5oR4",
        "outputId": "5554f683-83f5-4b94-a22f-dd917286fc2b"
      },
      "execution_count": 5,
      "outputs": [
        {
          "output_type": "execute_result",
          "data": {
            "text/plain": [
              "array([[0.16706635, 0.50201166, 0.26023192, 0.0909682 ],\n",
              "       [0.80627133, 0.46452407, 0.02396506, 0.89092634],\n",
              "       [0.43522734, 0.83778993, 0.43958554, 0.61408447],\n",
              "       [0.74132226, 0.83938373, 0.82681653, 0.70989679],\n",
              "       [0.32434718, 0.88594071, 0.26621789, 0.1628421 ],\n",
              "       [0.3454707 , 0.56313297, 0.57234765, 0.56572554]])"
            ]
          },
          "metadata": {},
          "execution_count": 5
        }
      ]
    },
    {
      "cell_type": "code",
      "source": [
        "print(W2)"
      ],
      "metadata": {
        "colab": {
          "base_uri": "https://localhost:8080/"
        },
        "id": "LRC1OZnK5oPO",
        "outputId": "8eebcd19-41a0-4805-ef17-c82767f4fd49"
      },
      "execution_count": 7,
      "outputs": [
        {
          "output_type": "stream",
          "name": "stdout",
          "text": [
            "[[0.8258209  0.72145237 0.69240276 0.10646522 0.31520983 0.37404955]\n",
            " [0.67202008 0.39856966 0.28578391 0.11975541 0.66936122 0.62968863]\n",
            " [0.34658711 0.45770879 0.83354775 0.99485189 0.6242996  0.78705514]\n",
            " [0.31887058 0.26235249 0.5547687  0.49502284 0.53884625 0.33314883]]\n"
          ]
        }
      ]
    },
    {
      "cell_type": "code",
      "source": [
        "one_hot_vector = np.eye(V)\n",
        "word2idx = {v: i for i, v in enumerate(set(tokens))}"
      ],
      "metadata": {
        "id": "33qTKXe25oMx"
      },
      "execution_count": 9,
      "outputs": []
    },
    {
      "cell_type": "code",
      "source": [
        "word2idx"
      ],
      "metadata": {
        "colab": {
          "base_uri": "https://localhost:8080/"
        },
        "id": "FMGukq4M7PXZ",
        "outputId": "47b0db8e-55c9-47aa-eec2-d669eafb4c7b"
      },
      "execution_count": 10,
      "outputs": [
        {
          "output_type": "execute_result",
          "data": {
            "text/plain": [
              "{'until': 0, 'will': 1, 'never': 2, 'you': 3, 'know': 4, 'try': 5}"
            ]
          },
          "metadata": {},
          "execution_count": 10
        }
      ]
    },
    {
      "cell_type": "code",
      "source": [
        "# 학습을 위한 데이터 구축\n",
        "training_data = [\n",
        "    # [target_word, (context_words)]\n",
        "]\n",
        "\n",
        "window_size = 1\n",
        "for i, token in enumerate(tokens):\n",
        "    target_word = token\n",
        "    context_words = []\n",
        "    if i-1 >= 0:\n",
        "        context_words.append(tokens[i-1])\n",
        "    if i+1 < len(tokens):\n",
        "        context_words.append(tokens[i+1])\n",
        "    training_data.append([target_word, context_words])\n",
        "training_data"
      ],
      "metadata": {
        "colab": {
          "base_uri": "https://localhost:8080/"
        },
        "id": "Rh0sTtlW7VbF",
        "outputId": "05f1498b-86bb-469a-db06-928e7ee4a6a4"
      },
      "execution_count": 12,
      "outputs": [
        {
          "output_type": "execute_result",
          "data": {
            "text/plain": [
              "[['you', ['will']],\n",
              " ['will', ['you', 'never']],\n",
              " ['never', ['will', 'know']],\n",
              " ['know', ['never', 'until']],\n",
              " ['until', ['know', 'you']],\n",
              " ['you', ['until', 'try']],\n",
              " ['try', ['you']]]"
            ]
          },
          "metadata": {},
          "execution_count": 12
        }
      ]
    },
    {
      "cell_type": "code",
      "source": [
        "W1"
      ],
      "metadata": {
        "colab": {
          "base_uri": "https://localhost:8080/"
        },
        "id": "cFZrl2qI-cty",
        "outputId": "c69fdcfc-7e16-447a-b0cb-0c8f285dab8a"
      },
      "execution_count": 14,
      "outputs": [
        {
          "output_type": "execute_result",
          "data": {
            "text/plain": [
              "array([[0.16706635, 0.50201166, 0.26023192, 0.0909682 ],\n",
              "       [0.80627133, 0.46452407, 0.02396506, 0.89092634],\n",
              "       [0.43522734, 0.83778993, 0.43958554, 0.61408447],\n",
              "       [0.74132226, 0.83938373, 0.82681653, 0.70989679],\n",
              "       [0.32434718, 0.88594071, 0.26621789, 0.1628421 ],\n",
              "       [0.3454707 , 0.56313297, 0.57234765, 0.56572554]])"
            ]
          },
          "metadata": {},
          "execution_count": 14
        }
      ]
    },
    {
      "cell_type": "code",
      "source": [
        "# 학습\n",
        "\n",
        "learning_rate = 0.01\n",
        "\n",
        "loss_list = []\n",
        "for epoch in range(100):\n",
        "    loss_total = 0.0\n",
        "    for target_word, context_words in training_data:\n",
        "        # Feed Forward\n",
        "        # 1. Input - Hidden\n",
        "        for word in context_words:\n",
        "            hidden_vector = one_hot_vector[word2idx[word], :].reshape(1, V).dot(W1) # 1x4 행렬\n",
        "            # print(hidden_vector)\n",
        "\n",
        "            # 2. Hidden - Output\n",
        "            output_vector = hidden_vector.dot(W2) # 1x6 행렬\n",
        "\n",
        "            # Activation Function (Softmax)\n",
        "            def softmax(x):\n",
        "                return np.exp(x) / np.sum(np.exp(x))\n",
        "\n",
        "            y_hat = softmax(output_vector)\n",
        "            y_real = one_hot_vector[word2idx[target_word], :] # (6, )\n",
        "\n",
        "            # 3. Loss 계산 cross entropy loss\n",
        "            loss = -np.sum(y_real * np.log(y_hat))\n",
        "\n",
        "            loss_total += loss\n",
        "\n",
        "            # 4. Backpropagation\n",
        "            gradient_w2 = hidden_vector.T.dot(y_hat - y_real) # 1x4 * 1x6 -> 4x6\n",
        "            # print(gradient_w2)\n",
        "            # one hot vector = 1x6\n",
        "            # w2 4x6\n",
        "            # y_hat - y_real # 1x6\n",
        "            # 4x1.T => 1x4\n",
        "\n",
        "            # w1 특정 부분만 업데이트 (1x4)\n",
        "            gradient_w1 = (y_hat-y_real).dot(W2.T)\n",
        "            # print(gradient_w1)\n",
        "\n",
        "            W1[word2idx[word], :] -= learning_rate * gradient_w1.ravel()\n",
        "            W2 -= learning_rate * gradient_w2\n",
        "        loss_list.append(loss)\n"
      ],
      "metadata": {
        "id": "A9L5w5tk7Uwh"
      },
      "execution_count": 37,
      "outputs": []
    },
    {
      "cell_type": "code",
      "source": [
        "import matplotlib.pyplot as plt\n",
        "\n",
        "plt.plot(loss_list)"
      ],
      "metadata": {
        "colab": {
          "base_uri": "https://localhost:8080/",
          "height": 449
        },
        "id": "Ar7fhzVHDTzM",
        "outputId": "f5bc90fb-ff58-432c-a382-29da976167aa"
      },
      "execution_count": 38,
      "outputs": [
        {
          "output_type": "execute_result",
          "data": {
            "text/plain": [
              "[<matplotlib.lines.Line2D at 0x7f00864ae1d0>]"
            ]
          },
          "metadata": {},
          "execution_count": 38
        },
        {
          "output_type": "display_data",
          "data": {
            "text/plain": [
              "<Figure size 640x480 with 1 Axes>"
            ],
            "image/png": "[encoded data removed]"
          },
          "metadata": {}
        }
      ]
    },
    {
      "cell_type": "code",
      "source": [
        "W1, W2"
      ],
      "metadata": {
        "colab": {
          "base_uri": "https://localhost:8080/"
        },
        "id": "FNA0ufzeC2BP",
        "outputId": "06650f87-9090-4150-9272-e8553ad5977a"
      },
      "execution_count": 29,
      "outputs": [
        {
          "output_type": "execute_result",
          "data": {
            "text/plain": [
              "(array([[-0.53169591,  0.40432357,  0.58534896,  0.49075588],\n",
              "        [ 0.68435442, -0.05822517,  0.35754375,  1.35238542],\n",
              "        [ 0.25405085,  1.12678136,  0.2775227 ,  0.54253679],\n",
              "        [ 1.07120633,  1.13849298,  0.59088685,  0.14624874],\n",
              "        [ 0.83875424,  0.79405718, -0.03757834,  0.14450889],\n",
              "        [ 0.03276377,  0.26370978,  0.98709078,  0.92783583]]),\n",
              " array([[ 1.0500486 ,  0.82111749,  0.95052545, -0.03154555, -0.24605884,\n",
              "          0.49131347],\n",
              "        [ 0.824648  ,  0.73143639,  0.05188798, -0.06981234,  0.80297953,\n",
              "          0.43403934],\n",
              "        [ 0.26581543,  0.58350916,  0.38927716,  1.43045268,  0.6161534 ,\n",
              "          0.75884247],\n",
              "        [-0.11846091,  0.21595192,  0.70374683,  1.27102764,  0.46450329,\n",
              "         -0.03375907]]))"
            ]
          },
          "metadata": {},
          "execution_count": 29
        }
      ]
    },
    {
      "cell_type": "code",
      "source": [],
      "metadata": {
        "id": "AWfDKJwBCveh"
      },
      "execution_count": null,
      "outputs": []
    },
    {
      "cell_type": "markdown",
      "metadata": {
        "id": "qbxjGPN05yqn"
      },
      "source": [
        "# 1 Word2Vec"
      ]
    },
    {
      "cell_type": "code",
      "execution_count": null,
      "metadata": {
        "id": "uZOPysE7617U"
      },
      "outputs": [],
      "source": [
        "# 필요한 데이터를 불러와 it_df와 culture_df에 저장한다\n",
        "import pandas as pd\n",
        "it_df = pd.read_csv('./Word Representation_it.csv').dropna()\n",
        "culture_df = pd.read_csv('./Word Representation_culture.csv').dropna()"
      ]
    },
    {
      "cell_type": "code",
      "execution_count": null,
      "metadata": {
        "id": "6Ok87rnn6102"
      },
      "outputs": [],
      "source": [
        "# word2vec을 하기 위한 전처리\n",
        "# it_df와 culture_df의 컬럼 '1'의 토큰을 리스트 형태로 변경\n",
        "it_token_ls = list(it_df.loc[:,'1'])\n",
        "culture_token_ls = list(culture_df.loc[:,'1'])\n",
        "\n",
        "total_token_ls = it_token_ls + culture_token_ls  # it_df의 리스트와 culture_df의 리스트를 한개로 합침\n",
        "\n",
        "# 리스트의 값을 ','로 분리\n",
        "total_token_ls = [tokens.split(',') for tokens in total_token_ls]\n",
        "print(total_token_ls[0][:10])"
      ]
    },
    {
      "cell_type": "code",
      "execution_count": null,
      "metadata": {
        "id": "NHsyT7mo67O3"
      },
      "outputs": [],
      "source": [
        "# gensim이라는 패키지에 word2Vec 클래스 사용\n",
        "from gensim.models import Word2Vec\n",
        "word2vec = Word2Vec( sentences = total_token_ls,      # 학습시킬 문장\n",
        "                     vector_size = 10,         # 임베딩된 단어 벡터의 차원 크기\n",
        "                     alpha = 0.025,     # 학습률(Learning rate)\n",
        "                     min_count=2,       # 2번 미만 등장한 단어는 제외\n",
        "                     window = 8,        # 문맥의 크기 (window_size)\n",
        "                     sample = 0.001,    # sub-sampling\n",
        "                     sg = 1,            # 0: CBOW, 1: Skip-gram\n",
        "                     epochs = 10)         # 전체 문장 반복학습 횟수(epoch)\n"
      ]
    },
    {
      "cell_type": "code",
      "execution_count": null,
      "metadata": {
        "id": "cWk2rnqV7YMW"
      },
      "outputs": [],
      "source": [
        "# '인공'의 단어 임베딩\n",
        "word_embedding = word2vec.wv.__getitem__('인공')\n",
        "print(word_embedding)"
      ]
    },
    {
      "cell_type": "code",
      "execution_count": null,
      "metadata": {
        "id": "wJPc-Bcg7Zg7"
      },
      "outputs": [],
      "source": [
        "# '데이터'의 단어 임베딩\n",
        "word_embedding = word2vec.wv.__getitem__('데이터')\n",
        "print(word_embedding)"
      ]
    },
    {
      "cell_type": "code",
      "execution_count": null,
      "metadata": {
        "id": "TZ17uTEO7c1k"
      },
      "outputs": [],
      "source": [
        "# '인공'과 유사도가 높은 단어\n",
        "word_similar_1 = word2vec.wv.most_similar('인공')\n",
        "print(word_similar_1)\n",
        "\n",
        "#'데이터'와 유사도가 높은 단어\n",
        "word_similar_2 = word2vec.wv.most_similar('데이터')\n",
        "print(word_similar_2)\n"
      ]
    },
    {
      "cell_type": "markdown",
      "metadata": {
        "id": "JwRSC34m5vPs"
      },
      "source": [
        "# 2 GloVe\n",
        "\n",
        "- 더이상 지원하지 않음"
      ]
    },
    {
      "cell_type": "code",
      "execution_count": null,
      "metadata": {
        "id": "v9wo1mA02cHz"
      },
      "outputs": [],
      "source": [
        "# !pip install glove_python_binary\n",
        "\n",
        "# from glove import Corpus, Glove\n",
        "\n",
        "# corpus = Corpus()\n",
        "# corpus.fit(total_token_ls, window=5)\n",
        "# # 훈련 데이터로부터 GloVe에서 사용할 동시 등장 행렬 생성\n",
        "\n",
        "# glove = Glove(no_components=100, learning_rate=0.05)\n",
        "# glove.fit(corpus.matrix, epochs=20, no_threads=4, verbose=True)\n",
        "# glove.add_dictionary(corpus.dictionary)\n",
        "# # 학습에 이용할 쓰레드의 개수는 4로 설정, 에포크는 20.\n",
        "\n",
        "# glove.most_similar(\"인공\")\n",
        "# glove.most_similar(\"지능\")"
      ]
    },
    {
      "cell_type": "markdown",
      "metadata": {
        "id": "dMVqD431-HS4"
      },
      "source": [
        "# 3 FastText"
      ]
    },
    {
      "cell_type": "code",
      "execution_count": null,
      "metadata": {
        "id": "lfJ-l1Po-IhS"
      },
      "outputs": [],
      "source": [
        "from gensim.models.word2vec import Text8Corpus\n",
        "from gensim.models import FastText\n",
        "\n",
        "# FastText 모델생성\n",
        "ft_model = FastText(total_token_ls,\n",
        "                      vector_size=10,                 # 임베딩된 단어 벡터의 차원 크기\n",
        "                      window=8,                 # 문맥의 크기(window_size)\n",
        "                      min_count=2,            # 2번 미만 등장한 단어는 제외\n",
        "                      alpha = 0.025,                    # 학습률(Learning rate)\n",
        "                      sg = 1,                             # 0: CBOW, 1: Skip-gram\n",
        "                      epochs = 10,              # 전체 문장 반복학습 횟수(epoch)\n",
        "                      min_n=3, max_n=6)            # 최소, 최대 N-gram 수"
      ]
    },
    {
      "cell_type": "code",
      "execution_count": null,
      "metadata": {
        "id": "SOvGNGjG-LAW"
      },
      "outputs": [],
      "source": [
        "# Getting most similar vectors\n",
        "print(ft_model.wv.most_similar('인공'))\n",
        "\n",
        "# Getting most similar vectors\n",
        "print(ft_model.wv.most_similar('안공지능'))"
      ]
    },
    {
      "cell_type": "code",
      "execution_count": null,
      "metadata": {
        "id": "D0gMrWOj_5de"
      },
      "outputs": [],
      "source": [
        "ft_model.wv['너지']"
      ]
    },
    {
      "cell_type": "code",
      "execution_count": null,
      "metadata": {
        "id": "6WvlJkdYj5l-"
      },
      "outputs": [],
      "source": []
    }
  ],
  "metadata": {
    "colab": {
      "provenance": []
    },
    "kernelspec": {
      "display_name": "Python 3",
      "name": "python3"
    }
  },
  "nbformat": 4,
  "nbformat_minor": 0
}