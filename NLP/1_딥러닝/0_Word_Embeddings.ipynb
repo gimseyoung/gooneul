{
  "cells": [
    {
      "cell_type": "markdown",
      "source": [
        "# Word2Vec 직접 구현"
      ],
      "metadata": {
        "id": "jGkgqA_h5jmg"
      }
    },
    {
      "cell_type": "code",
      "source": [
        "doc = 'you will never know until you try'"
      ],
      "metadata": {
        "id": "XjZChkA55jXz"
      },
      "execution_count": null,
      "outputs": []
    },
    {
      "cell_type": "code",
      "source": [
        "# 1. 입력 문장 토큰화\n",
        "\n",
        "tokens = doc.split()\n",
        "tokens"
      ],
      "metadata": {
        "colab": {
          "base_uri": "https://localhost:8080/"
        },
        "id": "ovtlKcEc5oWb",
        "outputId": "0117153a-dace-4fe8-f8f4-b4128b2da2ef"
      },
      "execution_count": null,
      "outputs": [
        {
          "output_type": "execute_result",
          "data": {
            "text/plain": [
              "['you', 'will', 'never', 'know', 'until', 'you', 'try']"
            ]
          },
          "metadata": {},
          "execution_count": 3
        }
      ]
    },
    {
      "cell_type": "code",
      "source": [
        "# 가중치 행렬 초기화\n",
        "V = len(set(tokens)) # 유니크한 단어 수\n",
        "N = 4 # 임베딩 차원 수\n",
        "\n",
        "import numpy as np\n",
        "\n",
        "W1 = np.random.rand(V, N)\n",
        "W2 = np.random.rand(N, V)"
      ],
      "metadata": {
        "id": "7W3_ErC_5oUT"
      },
      "execution_count": null,
      "outputs": []
    },
    {
      "cell_type": "code",
      "source": [
        "W1"
      ],
      "metadata": {
        "colab": {
          "base_uri": "https://localhost:8080/"
        },
        "id": "XyrpB6Fa5oR4",
        "outputId": "5554f683-83f5-4b94-a22f-dd917286fc2b"
      },
      "execution_count": null,
      "outputs": [
        {
          "output_type": "execute_result",
          "data": {
            "text/plain": [
              "array([[0.16706635, 0.50201166, 0.26023192, 0.0909682 ],\n",
              "       [0.80627133, 0.46452407, 0.02396506, 0.89092634],\n",
              "       [0.43522734, 0.83778993, 0.43958554, 0.61408447],\n",
              "       [0.74132226, 0.83938373, 0.82681653, 0.70989679],\n",
              "       [0.32434718, 0.88594071, 0.26621789, 0.1628421 ],\n",
              "       [0.3454707 , 0.56313297, 0.57234765, 0.56572554]])"
            ]
          },
          "metadata": {},
          "execution_count": 5
        }
      ]
    },
    {
      "cell_type": "code",
      "source": [
        "print(W2)"
      ],
      "metadata": {
        "colab": {
          "base_uri": "https://localhost:8080/"
        },
        "id": "LRC1OZnK5oPO",
        "outputId": "8eebcd19-41a0-4805-ef17-c82767f4fd49"
      },
      "execution_count": null,
      "outputs": [
        {
          "output_type": "stream",
          "name": "stdout",
          "text": [
            "[[0.8258209  0.72145237 0.69240276 0.10646522 0.31520983 0.37404955]\n",
            " [0.67202008 0.39856966 0.28578391 0.11975541 0.66936122 0.62968863]\n",
            " [0.34658711 0.45770879 0.83354775 0.99485189 0.6242996  0.78705514]\n",
            " [0.31887058 0.26235249 0.5547687  0.49502284 0.53884625 0.33314883]]\n"
          ]
        }
      ]
    },
    {
      "cell_type": "code",
      "source": [
        "one_hot_vector = np.eye(V)\n",
        "word2idx = {v: i for i, v in enumerate(set(tokens))}"
      ],
      "metadata": {
        "id": "33qTKXe25oMx"
      },
      "execution_count": null,
      "outputs": []
    },
    {
      "cell_type": "code",
      "source": [
        "word2idx"
      ],
      "metadata": {
        "colab": {
          "base_uri": "https://localhost:8080/"
        },
        "id": "FMGukq4M7PXZ",
        "outputId": "47b0db8e-55c9-47aa-eec2-d669eafb4c7b"
      },
      "execution_count": null,
      "outputs": [
        {
          "output_type": "execute_result",
          "data": {
            "text/plain": [
              "{'until': 0, 'will': 1, 'never': 2, 'you': 3, 'know': 4, 'try': 5}"
            ]
          },
          "metadata": {},
          "execution_count": 10
        }
      ]
    },
    {
      "cell_type": "code",
      "source": [
        "# 학습을 위한 데이터 구축\n",
        "training_data = [\n",
        "    # [target_word, (context_words)]\n",
        "]\n",
        "\n",
        "window_size = 1\n",
        "for i, token in enumerate(tokens):\n",
        "    target_word = token\n",
        "    context_words = []\n",
        "    if i-1 >= 0:\n",
        "        context_words.append(tokens[i-1])\n",
        "    if i+1 < len(tokens):\n",
        "        context_words.append(tokens[i+1])\n",
        "    training_data.append([target_word, context_words])\n",
        "training_data"
      ],
      "metadata": {
        "colab": {
          "base_uri": "https://localhost:8080/"
        },
        "id": "Rh0sTtlW7VbF",
        "outputId": "05f1498b-86bb-469a-db06-928e7ee4a6a4"
      },
      "execution_count": null,
      "outputs": [
        {
          "output_type": "execute_result",
          "data": {
            "text/plain": [
              "[['you', ['will']],\n",
              " ['will', ['you', 'never']],\n",
              " ['never', ['will', 'know']],\n",
              " ['know', ['never', 'until']],\n",
              " ['until', ['know', 'you']],\n",
              " ['you', ['until', 'try']],\n",
              " ['try', ['you']]]"
            ]
          },
          "metadata": {},
          "execution_count": 12
        }
      ]
    },
    {
      "cell_type": "code",
      "source": [
        "W1"
      ],
      "metadata": {
        "colab": {
          "base_uri": "https://localhost:8080/"
        },
        "id": "cFZrl2qI-cty",
        "outputId": "c69fdcfc-7e16-447a-b0cb-0c8f285dab8a"
      },
      "execution_count": null,
      "outputs": [
        {
          "output_type": "execute_result",
          "data": {
            "text/plain": [
              "array([[0.16706635, 0.50201166, 0.26023192, 0.0909682 ],\n",
              "       [0.80627133, 0.46452407, 0.02396506, 0.89092634],\n",
              "       [0.43522734, 0.83778993, 0.43958554, 0.61408447],\n",
              "       [0.74132226, 0.83938373, 0.82681653, 0.70989679],\n",
              "       [0.32434718, 0.88594071, 0.26621789, 0.1628421 ],\n",
              "       [0.3454707 , 0.56313297, 0.57234765, 0.56572554]])"
            ]
          },
          "metadata": {},
          "execution_count": 14
        }
      ]
    },
    {
      "cell_type": "code",
      "source": [
        "# 학습\n",
        "\n",
        "learning_rate = 0.01\n",
        "\n",
        "loss_list = []\n",
        "for epoch in range(100):\n",
        "    loss_total = 0.0\n",
        "    for target_word, context_words in training_data:\n",
        "        # Feed Forward\n",
        "        # 1. Input - Hidden\n",
        "        for word in context_words:\n",
        "            hidden_vector = one_hot_vector[word2idx[word], :].reshape(1, V).dot(W1) # 1x4 행렬\n",
        "            # print(hidden_vector)\n",
        "\n",
        "            # 2. Hidden - Output\n",
        "            output_vector = hidden_vector.dot(W2) # 1x6 행렬\n",
        "\n",
        "            # Activation Function (Softmax)\n",
        "            def softmax(x):\n",
        "                return np.exp(x) / np.sum(np.exp(x))\n",
        "\n",
        "            y_hat = softmax(output_vector)\n",
        "            y_real = one_hot_vector[word2idx[target_word], :] # (6, )\n",
        "\n",
        "            # 3. Loss 계산 cross entropy loss\n",
        "            loss = -np.sum(y_real * np.log(y_hat))\n",
        "\n",
        "            loss_total += loss\n",
        "\n",
        "            # 4. Backpropagation\n",
        "            gradient_w2 = hidden_vector.T.dot(y_hat - y_real) # 1x4 * 1x6 -> 4x6\n",
        "            # print(gradient_w2)\n",
        "            # one hot vector = 1x6\n",
        "            # w2 4x6\n",
        "            # y_hat - y_real # 1x6\n",
        "            # 4x1.T => 1x4\n",
        "\n",
        "            # w1 해당 단어 가중치만 업데이트 (1x4)\n",
        "            gradient_w1 = (y_hat-y_real).dot(W2.T)\n",
        "            # print(gradient_w1)\n",
        "\n",
        "            W1[word2idx[word], :] -= learning_rate * gradient_w1.ravel()\n",
        "            W2 -= learning_rate * gradient_w2\n",
        "    loss_list.append(loss_total)\n"
      ],
      "metadata": {
        "id": "A9L5w5tk7Uwh"
      },
      "execution_count": null,
      "outputs": []
    },
    {
      "cell_type": "code",
      "source": [
        "import matplotlib.pyplot as plt\n",
        "\n",
        "plt.plot(loss_list)"
      ],
      "metadata": {
        "colab": {
          "base_uri": "https://localhost:8080/",
          "height": 449
        },
        "id": "Ar7fhzVHDTzM",
        "outputId": "1bb0e7c5-1a59-4199-eba4-2c97b2948914"
      },
      "execution_count": null,
      "outputs": [
        {
          "output_type": "execute_result",
          "data": {
            "text/plain": [
              "[<matplotlib.lines.Line2D at 0x7f00863353f0>]"
            ]
          },
          "metadata": {},
          "execution_count": 40
        },
        {
          "output_type": "display_data",
          "data": {
            "text/plain": [
              "<Figure size 640x480 with 1 Axes>"
            ],
            "image/png": "[encoded data removed]"
          },
          "metadata": {}
        }
      ]
    },
    {
      "cell_type": "code",
      "source": [
        "W1, W2"
      ],
      "metadata": {
        "colab": {
          "base_uri": "https://localhost:8080/"
        },
        "id": "FNA0ufzeC2BP",
        "outputId": "86e965d1-af15-47a4-9682-3e3a13cfaa7f"
      },
      "execution_count": null,
      "outputs": [
        {
          "output_type": "execute_result",
          "data": {
            "text/plain": [
              "(array([[-1.58785003,  0.33759909,  0.81013329,  1.04521738],\n",
              "        [ 0.91077929, -0.69445197,  0.31259805,  1.9834525 ],\n",
              "        [-0.5871099 ,  2.32109736,  0.16554707,  0.44610842],\n",
              "        [ 1.40380457,  1.38714984,  0.78756752, -1.03399417],\n",
              "        [ 1.97648957,  0.08650235, -0.99526432,  0.46962205],\n",
              "        [-0.21767181, -0.27105325,  1.59971781,  1.49744065]]),\n",
              " array([[ 2.03984375,  0.31606263,  1.65374134, -0.42054359, -1.47105537,\n",
              "          0.91735187],\n",
              "        [ 0.53919661,  1.90645118, -0.67599298, -0.76311601,  1.3041703 ,\n",
              "          0.46446982],\n",
              "        [-0.29093294,  0.69772269, -0.2230439 ,  2.05723509,  0.66664211,\n",
              "          1.13642724],\n",
              "        [-0.47977071, -0.20956421,  1.45908379,  2.00294473,  0.75456805,\n",
              "         -1.02425197]]))"
            ]
          },
          "metadata": {},
          "execution_count": 41
        }
      ]
    },
    {
      "cell_type": "markdown",
      "source": [
        "## Word2Vec 대용량 데이터 처리"
      ],
      "metadata": {
        "id": "6hYAv7Jm1v4v"
      }
    },
    {
      "cell_type": "code",
      "source": [
        "import zipfile"
      ],
      "metadata": {
        "id": "AWfDKJwBCveh"
      },
      "execution_count": null,
      "outputs": []
    },
    {
      "cell_type": "code",
      "source": [
        "zf = zipfile.ZipFile('./simpsons_dataset.csv.zip')"
      ],
      "metadata": {
        "id": "fQGoCLPE-IcE"
      },
      "execution_count": null,
      "outputs": []
    },
    {
      "cell_type": "code",
      "source": [
        "zf.extractall('./')"
      ],
      "metadata": {
        "id": "LHOtKJu1-IZ5"
      },
      "execution_count": null,
      "outputs": []
    },
    {
      "cell_type": "code",
      "source": [
        "import pandas as pd\n",
        "\n",
        "simpson_df = pd.read_csv('./simpsons_dataset.csv')"
      ],
      "metadata": {
        "id": "MEEp1JYo-gxf"
      },
      "execution_count": null,
      "outputs": []
    },
    {
      "cell_type": "code",
      "source": [
        "simpson_df.head(2).T"
      ],
      "metadata": {
        "colab": {
          "base_uri": "https://localhost:8080/",
          "height": 112
        },
        "id": "KBjg9YXy-IXV",
        "outputId": "e1fe8b6d-d509-424b-9006-c82d216d92f9"
      },
      "execution_count": null,
      "outputs": [
        {
          "output_type": "execute_result",
          "data": {
            "text/plain": [
              "                                                                    0  \\\n",
              "raw_character_text                                        Miss Hoover   \n",
              "spoken_words        No, actually, it was a little of both. Sometim...   \n",
              "\n",
              "                                         1  \n",
              "raw_character_text            Lisa Simpson  \n",
              "spoken_words        Where's Mr. Bergstrom?  "
            ],
            "text/html": [
              "\n",
              "\n",
              "  <div id=\"df-11687c39-18a3-4c5e-af1c-f36e27e6d862\">\n",
              "    <div class=\"colab-df-container\">\n",
              "      <div>\n",
              "<style scoped>\n",
              "    .dataframe tbody tr th:only-of-type {\n",
              "        vertical-align: middle;\n",
              "    }\n",
              "\n",
              "    .dataframe tbody tr th {\n",
              "        vertical-align: top;\n",
              "    }\n",
              "\n",
              "    .dataframe thead th {\n",
              "        text-align: right;\n",
              "    }\n",
              "</style>\n",
              "<table border=\"1\" class=\"dataframe\">\n",
              "  <thead>\n",
              "    <tr style=\"text-align: right;\">\n",
              "      <th></th>\n",
              "      <th>0</th>\n",
              "      <th>1</th>\n",
              "    </tr>\n",
              "  </thead>\n",
              "  <tbody>\n",
              "    <tr>\n",
              "      <th>raw_character_text</th>\n",
              "      <td>Miss Hoover</td>\n",
              "      <td>Lisa Simpson</td>\n",
              "    </tr>\n",
              "    <tr>\n",
              "      <th>spoken_words</th>\n",
              "      <td>No, actually, it was a little of both. Sometim...</td>\n",
              "      <td>Where's Mr. Bergstrom?</td>\n",
              "    </tr>\n",
              "  </tbody>\n",
              "</table>\n",
              "</div>\n",
              "      <button class=\"colab-df-convert\" onclick=\"convertToInteractive('df-11687c39-18a3-4c5e-af1c-f36e27e6d862')\"\n",
              "              title=\"Convert this dataframe to an interactive table.\"\n",
              "              style=\"display:none;\">\n",
              "\n",
              "  <svg xmlns=\"http://www.w3.org/2000/svg\" height=\"24px\"viewBox=\"0 0 24 24\"\n",
              "       width=\"24px\">\n",
              "    <path d=\"M0 0h24v24H0V0z\" fill=\"none\"/>\n",
              "    <path d=\"M18.56 5.44l.94 2.06.94-2.06 2.06-.94-2.06-.94-.94-2.06-.94 2.06-2.06.94zm-11 1L8.5 8.5l.94-2.06 2.06-.94-2.06-.94L8.5 2.5l-.94 2.06-2.06.94zm10 10l.94 2.06.94-2.06 2.06-.94-2.06-.94-.94-2.06-.94 2.06-2.06.94z\"/><path d=\"M17.41 7.96l-1.37-1.37c-.4-.4-.92-.59-1.43-.59-.52 0-1.04.2-1.43.59L10.3 9.45l-7.72 7.72c-.78.78-.78 2.05 0 2.83L4 21.41c.39.39.9.59 1.41.59.51 0 1.02-.2 1.41-.59l7.78-7.78 2.81-2.81c.8-.78.8-2.07 0-2.86zM5.41 20L4 18.59l7.72-7.72 1.47 1.35L5.41 20z\"/>\n",
              "  </svg>\n",
              "      </button>\n",
              "\n",
              "\n",
              "\n",
              "    <div id=\"df-79527c57-60d5-4f51-962c-40717a3bd66a\">\n",
              "      <button class=\"colab-df-quickchart\" onclick=\"quickchart('df-79527c57-60d5-4f51-962c-40717a3bd66a')\"\n",
              "              title=\"Suggest charts.\"\n",
              "              style=\"display:none;\">\n",
              "\n",
              "<svg xmlns=\"http://www.w3.org/2000/svg\" height=\"24px\"viewBox=\"0 0 24 24\"\n",
              "     width=\"24px\">\n",
              "    <g>\n",
              "        <path d=\"M19 3H5c-1.1 0-2 .9-2 2v14c0 1.1.9 2 2 2h14c1.1 0 2-.9 2-2V5c0-1.1-.9-2-2-2zM9 17H7v-7h2v7zm4 0h-2V7h2v10zm4 0h-2v-4h2v4z\"/>\n",
              "    </g>\n",
              "</svg>\n",
              "      </button>\n",
              "    </div>\n",
              "\n",
              "<style>\n",
              "  .colab-df-quickchart {\n",
              "    background-color: #E8F0FE;\n",
              "    border: none;\n",
              "    border-radius: 50%;\n",
              "    cursor: pointer;\n",
              "    display: none;\n",
              "    fill: #1967D2;\n",
              "    height: 32px;\n",
              "    padding: 0 0 0 0;\n",
              "    width: 32px;\n",
              "  }\n",
              "\n",
              "  .colab-df-quickchart:hover {\n",
              "    background-color: #E2EBFA;\n",
              "    box-shadow: 0px 1px 2px rgba(60, 64, 67, 0.3), 0px 1px 3px 1px rgba(60, 64, 67, 0.15);\n",
              "    fill: #174EA6;\n",
              "  }\n",
              "\n",
              "  [theme=dark] .colab-df-quickchart {\n",
              "    background-color: #3B4455;\n",
              "    fill: #D2E3FC;\n",
              "  }\n",
              "\n",
              "  [theme=dark] .colab-df-quickchart:hover {\n",
              "    background-color: #434B5C;\n",
              "    box-shadow: 0px 1px 3px 1px rgba(0, 0, 0, 0.15);\n",
              "    filter: drop-shadow(0px 1px 2px rgba(0, 0, 0, 0.3));\n",
              "    fill: #FFFFFF;\n",
              "  }\n",
              "</style>\n",
              "\n",
              "    <script>\n",
              "      async function quickchart(key) {\n",
              "        const containerElement = document.querySelector('#' + key);\n",
              "        const charts = await google.colab.kernel.invokeFunction(\n",
              "            'suggestCharts', [key], {});\n",
              "      }\n",
              "    </script>\n",
              "\n",
              "\n",
              "      <script>\n",
              "\n",
              "function displayQuickchartButton(domScope) {\n",
              "  let quickchartButtonEl =\n",
              "    domScope.querySelector('#df-79527c57-60d5-4f51-962c-40717a3bd66a button.colab-df-quickchart');\n",
              "  quickchartButtonEl.style.display =\n",
              "    google.colab.kernel.accessAllowed ? 'block' : 'none';\n",
              "}\n",
              "\n",
              "        displayQuickchartButton(document);\n",
              "      </script>\n",
              "      <style>\n",
              "    .colab-df-container {\n",
              "      display:flex;\n",
              "      flex-wrap:wrap;\n",
              "      gap: 12px;\n",
              "    }\n",
              "\n",
              "    .colab-df-convert {\n",
              "      background-color: #E8F0FE;\n",
              "      border: none;\n",
              "      border-radius: 50%;\n",
              "      cursor: pointer;\n",
              "      display: none;\n",
              "      fill: #1967D2;\n",
              "      height: 32px;\n",
              "      padding: 0 0 0 0;\n",
              "      width: 32px;\n",
              "    }\n",
              "\n",
              "    .colab-df-convert:hover {\n",
              "      background-color: #E2EBFA;\n",
              "      box-shadow: 0px 1px 2px rgba(60, 64, 67, 0.3), 0px 1px 3px 1px rgba(60, 64, 67, 0.15);\n",
              "      fill: #174EA6;\n",
              "    }\n",
              "\n",
              "    [theme=dark] .colab-df-convert {\n",
              "      background-color: #3B4455;\n",
              "      fill: #D2E3FC;\n",
              "    }\n",
              "\n",
              "    [theme=dark] .colab-df-convert:hover {\n",
              "      background-color: #434B5C;\n",
              "      box-shadow: 0px 1px 3px 1px rgba(0, 0, 0, 0.15);\n",
              "      filter: drop-shadow(0px 1px 2px rgba(0, 0, 0, 0.3));\n",
              "      fill: #FFFFFF;\n",
              "    }\n",
              "  </style>\n",
              "\n",
              "      <script>\n",
              "        const buttonEl =\n",
              "          document.querySelector('#df-11687c39-18a3-4c5e-af1c-f36e27e6d862 button.colab-df-convert');\n",
              "        buttonEl.style.display =\n",
              "          google.colab.kernel.accessAllowed ? 'block' : 'none';\n",
              "\n",
              "        async function convertToInteractive(key) {\n",
              "          const element = document.querySelector('#df-11687c39-18a3-4c5e-af1c-f36e27e6d862');\n",
              "          const dataTable =\n",
              "            await google.colab.kernel.invokeFunction('convertToInteractive',\n",
              "                                                     [key], {});\n",
              "          if (!dataTable) return;\n",
              "\n",
              "          const docLinkHtml = 'Like what you see? Visit the ' +\n",
              "            '<a target=\"_blank\" href=https://colab.research.google.com/notebooks/data_table.ipynb>data table notebook</a>'\n",
              "            + ' to learn more about interactive tables.';\n",
              "          element.innerHTML = '';\n",
              "          dataTable['output_type'] = 'display_data';\n",
              "          await google.colab.output.renderOutput(dataTable, element);\n",
              "          const docLink = document.createElement('div');\n",
              "          docLink.innerHTML = docLinkHtml;\n",
              "          element.appendChild(docLink);\n",
              "        }\n",
              "      </script>\n",
              "    </div>\n",
              "  </div>\n"
            ]
          },
          "metadata": {},
          "execution_count": 2
        }
      ]
    },
    {
      "cell_type": "code",
      "source": [
        "# EDA\n",
        "print(len(simpson_df))\n",
        "simpson_df.isna().sum()"
      ],
      "metadata": {
        "colab": {
          "base_uri": "https://localhost:8080/"
        },
        "id": "OT2yEl8w_TxG",
        "outputId": "7723a6b3-f5fe-4200-fd85-627cdd8cd74f"
      },
      "execution_count": null,
      "outputs": [
        {
          "output_type": "stream",
          "name": "stdout",
          "text": [
            "158314\n"
          ]
        },
        {
          "output_type": "execute_result",
          "data": {
            "text/plain": [
              "raw_character_text    17814\n",
              "spoken_words          26459\n",
              "dtype: int64"
            ]
          },
          "metadata": {},
          "execution_count": 3
        }
      ]
    },
    {
      "cell_type": "code",
      "source": [
        "sents = simpson_df['spoken_words'].dropna()"
      ],
      "metadata": {
        "id": "290wF8LO-ITE"
      },
      "execution_count": null,
      "outputs": []
    },
    {
      "cell_type": "code",
      "source": [
        "len(sents) #.tolist()"
      ],
      "metadata": {
        "colab": {
          "base_uri": "https://localhost:8080/"
        },
        "id": "wPzFX7_p_Os1",
        "outputId": "891ca7f2-6e1c-4259-c55e-9c808ac34038"
      },
      "execution_count": null,
      "outputs": [
        {
          "output_type": "execute_result",
          "data": {
            "text/plain": [
              "131855"
            ]
          },
          "metadata": {},
          "execution_count": 5
        }
      ]
    },
    {
      "cell_type": "code",
      "source": [
        "import nltk\n",
        "nltk.download('punkt')\n",
        "nltk.download('wordnet')\n",
        "nltk.download('omw-1.4')\n",
        "nltk.download('stopwords')"
      ],
      "metadata": {
        "id": "6zkD9mmbAEcS"
      },
      "execution_count": null,
      "outputs": []
    },
    {
      "cell_type": "code",
      "source": [
        "import re\n",
        "from nltk.tokenize import word_tokenize\n",
        "from nltk.corpus import stopwords\n",
        "from nltk.stem import WordNetLemmatizer, PorterStemmer\n",
        "\n",
        "sw = stopwords.words()\n",
        "wnl = WordNetLemmatizer()\n",
        "ps = PorterStemmer()\n",
        "\n",
        "def preprocess(sent:str) -> list[str]:\n",
        "    # 문장부호 제거\n",
        "    sent = re.sub('[^\\w \\']+', '', sent)\n",
        "\n",
        "    # lower()\n",
        "    sent = sent.lower()\n",
        "\n",
        "    # 토크나이즈, 불용어 처리, 원형 복원\n",
        "    tokens = [wnl.lemmatize(token)\n",
        "            for token in word_tokenize(sent) if token not in sw]\n",
        "\n",
        "    return tokens # list"
      ],
      "metadata": {
        "id": "o6awL3ehD627"
      },
      "execution_count": null,
      "outputs": []
    },
    {
      "cell_type": "code",
      "source": [
        "# 멀티프로세싱 사용해볼만한 지점\n",
        "# 각각의 문장에 독립적으로 함수를 적용하고 그 결과를 합치면 되기 때문\n",
        "tokens = sents.apply(preprocess)"
      ],
      "metadata": {
        "id": "Q87f2sQoDrKO"
      },
      "execution_count": null,
      "outputs": []
    },
    {
      "cell_type": "code",
      "source": [
        "total_tokens = []\n",
        "\n",
        "[total_tokens.extend(sent_token) for sent_token in tokens]\n",
        "\n",
        "print()"
      ],
      "metadata": {
        "id": "EL_p1grCIfJZ"
      },
      "execution_count": null,
      "outputs": []
    },
    {
      "cell_type": "code",
      "source": [
        "39000\n",
        "\n",
        "# 1차원\n",
        "단어1 = (0.456, 0.245, 0.668)\n",
        "단어2 = (0.1234)\n",
        "\n",
        "단어39496 = (0.25432)\n",
        "\n",
        "# 차원 수 정하는건 memory(하드웨어)와 데이터 수(토큰 수) 종합적으로 고려\n",
        "# 10\n",
        "# 256 -> 차원의 저주\n",
        "# 2 # 적절한 크기\n",
        "\n",
        "# 딥러닝 단어 임베딩 사이즈 (128, 256), 512"
      ],
      "metadata": {
        "id": "U4HtcGt2J3Tg"
      },
      "execution_count": null,
      "outputs": []
    },
    {
      "cell_type": "code",
      "source": [
        "V = len(set(total_tokens))\n",
        "N = 64"
      ],
      "metadata": {
        "id": "dItqEd3WJkq_"
      },
      "execution_count": null,
      "outputs": []
    },
    {
      "cell_type": "code",
      "source": [
        "# 단어 분포, 단어 to index 딕셔너리 생성\n",
        "\n",
        "# 단어 분포\n",
        "# 단어: 빈도, 비율\n",
        "from collections import Counter\n",
        "counter = Counter(total_tokens)\n",
        "\n",
        "# 단어 인덱스\n",
        "# 단어: 인덱스\n",
        "word2idx = {k: i for i, k in enumerate(set(total_tokens))}\n"
      ],
      "metadata": {
        "id": "QMOimCDw_PAm"
      },
      "execution_count": null,
      "outputs": []
    },
    {
      "cell_type": "code",
      "source": [
        "len(word2idx)"
      ],
      "metadata": {
        "colab": {
          "base_uri": "https://localhost:8080/"
        },
        "id": "yrMPidDXL13m",
        "outputId": "e8632aff-9d8c-4c95-ebb9-a6936301d8fb"
      },
      "execution_count": null,
      "outputs": [
        {
          "output_type": "execute_result",
          "data": {
            "text/plain": [
              "39496"
            ]
          },
          "metadata": {},
          "execution_count": 17
        }
      ]
    },
    {
      "cell_type": "code",
      "source": [
        "len_tokens = len(total_tokens)"
      ],
      "metadata": {
        "id": "6rVCn9nsMQph"
      },
      "execution_count": null,
      "outputs": []
    },
    {
      "cell_type": "code",
      "source": [
        "counter_prob = {k: (v/len_tokens)**0.75 for k, v in counter.items()}"
      ],
      "metadata": {
        "id": "27addBQYLxiE"
      },
      "execution_count": null,
      "outputs": []
    },
    {
      "cell_type": "code",
      "source": [
        "tp = sum(counter_prob.values())\n",
        "counter_prob = {k: v/tp for k, v in counter_prob.items()}"
      ],
      "metadata": {
        "id": "KjbfKsJKNgEc"
      },
      "execution_count": null,
      "outputs": []
    },
    {
      "cell_type": "code",
      "source": [
        "import numpy as np\n",
        "# negative sampling\n",
        "# target_word랑 같은건 제외\n",
        "np.random.choice(np.array([word2idx[k] for k in counter_prob]), 3, p=list(counter_prob.values()))"
      ],
      "metadata": {
        "colab": {
          "base_uri": "https://localhost:8080/"
        },
        "id": "yQtoXUWvNGrW",
        "outputId": "e14fb399-563f-475a-e5ca-71e4b6075056"
      },
      "execution_count": null,
      "outputs": [
        {
          "output_type": "execute_result",
          "data": {
            "text/plain": [
              "array([ 5218,  3165, 12508])"
            ]
          },
          "metadata": {},
          "execution_count": 43
        }
      ]
    },
    {
      "cell_type": "code",
      "source": [
        "np.array(counter_prob.values()).shape"
      ],
      "metadata": {
        "colab": {
          "base_uri": "https://localhost:8080/"
        },
        "id": "J52MRZ8fNN0A",
        "outputId": "0d420239-a6ec-4064-b099-5a90a6dbb948"
      },
      "execution_count": null,
      "outputs": [
        {
          "output_type": "execute_result",
          "data": {
            "text/plain": [
              "()"
            ]
          },
          "metadata": {},
          "execution_count": 35
        }
      ]
    },
    {
      "cell_type": "code",
      "source": [
        "# 가중치 랜덤 초기화\n",
        "\n",
        "W1 = np.random.rand(V, N)\n",
        "W2 = np.random.rand(N, V)\n",
        "\n",
        "W1.shape, W2.shape"
      ],
      "metadata": {
        "colab": {
          "base_uri": "https://localhost:8080/"
        },
        "id": "Gz_9MuA0OT1h",
        "outputId": "6d4fd144-7ec5-4837-a9a4-e2e1d61b5b58"
      },
      "execution_count": null,
      "outputs": [
        {
          "output_type": "execute_result",
          "data": {
            "text/plain": [
              "((39496, 64), (64, 39496))"
            ]
          },
          "metadata": {},
          "execution_count": 44
        }
      ]
    },
    {
      "cell_type": "code",
      "source": [
        "# 학습 데이터셋 구축\n",
        "training_data = [\n",
        "    # [target_word, (context_words)]\n",
        "]\n",
        "\n",
        "window_size = 1\n",
        "for sent_token in tokens: # 토큰화된 문장 들 [[문장 1 토큰들], [문장 2 토큰들], ...]\n",
        "    for i, token in enumerate(sent_token): # [토큰1, 토큰2, 토큰3, ...]\n",
        "        if len(sent_token) > 1: # 토큰이 하나만 있는 경우 제외\n",
        "            target_word = token\n",
        "            # context_words = []\n",
        "            if i-1 >= 0:\n",
        "                # context_words.append(sent_token[i-1])\n",
        "                training_data.append((word2idx[target_word], word2idx[sent_token[i-1]]))\n",
        "            if i+1 < len(sent_token):\n",
        "                # context_words.append(sent_token[i+1])\n",
        "                training_data.append((word2idx[target_word], word2idx[sent_token[i+1]]))\n",
        "            # training_data.append([target_word, context_words])\n",
        "# 타겟 단어, [문맥 단어들]\n",
        "# 위의 데이터 구조에서\n",
        "# 타겟 단어, 문맥 단어 1\n",
        "# 타겟 단어, 문맥 단어 2\n",
        "# 이런 데이터 구조로 바꾼 이유?\n",
        "# 배치 학습때문\n",
        "training_data\n",
        "\n",
        "# 타겟단어, 문맥 단어 # 1개 로우\n",
        "# 64 개 뽑으면 타겟단어x64 문맥단어x64"
      ],
      "metadata": {
        "id": "e4kI-NKJOiAe"
      },
      "execution_count": null,
      "outputs": []
    },
    {
      "cell_type": "code",
      "source": [
        "# shuffle\n",
        "\n",
        "batch_size = 64\n",
        "# [index 들 * 64]\n",
        "\n",
        "batch_dataset = [\n",
        "    # [(target, context), (target2, context2)], # batch (batch_size)\n",
        "    # [(target, context), (target2, context2)], # batch (batch_size)\n",
        "    # [(target, context), (target2, context2)], # batch (batch_size)\n",
        "    training_data[i: i + batch_size]\n",
        "    for i in range(0, len(training_data), batch_size)\n",
        "]\n",
        "\n",
        "# 0 * 64 : 1 * 64\n",
        "# 0 : 64\n",
        "# 1 * 64 : 2 * 64\n",
        "# 64: 128\n"
      ],
      "metadata": {
        "id": "xAyOr-4gS3GZ"
      },
      "execution_count": 54,
      "outputs": []
    },
    {
      "cell_type": "code",
      "source": [
        "len(training_data) // 64 + 1"
      ],
      "metadata": {
        "colab": {
          "base_uri": "https://localhost:8080/"
        },
        "id": "4S7TRS6cVzuk",
        "outputId": "4b02720c-d6fa-41bf-9019-168df76c7664"
      },
      "execution_count": 57,
      "outputs": [
        {
          "output_type": "execute_result",
          "data": {
            "text/plain": [
              "13701"
            ]
          },
          "metadata": {},
          "execution_count": 57
        }
      ]
    },
    {
      "cell_type": "code",
      "source": [
        "len(batch_dataset) # ??"
      ],
      "metadata": {
        "colab": {
          "base_uri": "https://localhost:8080/"
        },
        "id": "fkv6VSbQVyTx",
        "outputId": "5c60af7c-1074-48d0-b07e-913ec46bcb4a"
      },
      "execution_count": 56,
      "outputs": [
        {
          "output_type": "execute_result",
          "data": {
            "text/plain": [
              "13701"
            ]
          },
          "metadata": {},
          "execution_count": 56
        }
      ]
    },
    {
      "cell_type": "code",
      "source": [
        "batch_dataset[0]"
      ],
      "metadata": {
        "id": "FD_bKYR6WM7x"
      },
      "execution_count": null,
      "outputs": []
    },
    {
      "cell_type": "code",
      "source": [
        "# 학습 (배치 적용)\n",
        "\n",
        "learning_rate = 0.01\n",
        "\n",
        "loss_list = []\n",
        "for epoch in range(100):\n",
        "    loss_total = 0.0\n",
        "\n",
        "    for batch in batch_dataset:\n",
        "        # 학습\n",
        "        for target_word, context_word in batch: # 64개씩\n",
        "            # Feed Forward\n",
        "            # 1. Input - Hidden (뽑아서 쓰는걸로 개선)\n",
        "            hidden_vector = W1[context_word, :] # (64, )\n",
        "\n",
        "            # Negative Sampling 추가\n",
        "\n",
        "            # 2. Hidden - Output\n",
        "            target_vector = hidden_vector.dot(W2[:, target_word]) # (1, 64) * (64, 1) => (1, 1)\n",
        "            # print(target_vector)\n",
        "\n",
        "            # Activation Function (Sigmoid)\n",
        "            def sigmoid(x):\n",
        "                return 1 / (1+np.exp(-x))\n",
        "\n",
        "            y_hat = sigmoid(target_vector)\n",
        "            y_real = 1\n",
        "\n",
        "            # 3. Loss 계산 binary cross entropy loss\n",
        "            loss = -y_real * np.log(y_hat) + (1-y_real)*np.log(1-y_hat)\n",
        "            loss_total += loss\n",
        "\n",
        "            # 4. Backpropagation\n",
        "            gradient_w2 = hidden_vector.T.dot(y_hat - y_real) # 64x1 * 1x1 -> 64x1 -> w2[:, target_word]\n",
        "\n",
        "            # w1 해당 단어 가중치만 업데이트 (1x64)\n",
        "            gradient_w1 = (y_hat-y_real) * W2.T[target_word, :] # 1x 1 1x 64 -> 1x64\n",
        "            # print(gradient_w1.shape)\n",
        "\n",
        "            W1[context_word, :] -= learning_rate * gradient_w1\n",
        "            W2[:, target_word] -= learning_rate * gradient_w2\n",
        "\n",
        "    loss_list.append(loss_total)\n"
      ],
      "metadata": {
        "id": "El40ANinOYge",
        "colab": {
          "base_uri": "https://localhost:8080/",
          "height": 261
        },
        "outputId": "b77ad030-ae66-4af2-fb6e-4986f32f27f0"
      },
      "execution_count": 68,
      "outputs": [
        {
          "output_type": "error",
          "ename": "KeyboardInterrupt",
          "evalue": "ignored",
          "traceback": [
            "\u001b[0;31m---------------------------------------------------------------------------\u001b[0m",
            "\u001b[0;31mKeyboardInterrupt\u001b[0m                         Traceback (most recent call last)",
            "\u001b[0;32m<ipython-input-68-3ad73e738734>\u001b[0m in \u001b[0;36m<cell line: 6>\u001b[0;34m()\u001b[0m\n\u001b[1;32m     26\u001b[0m \u001b[0;34m\u001b[0m\u001b[0m\n\u001b[1;32m     27\u001b[0m             \u001b[0;31m# 3. Loss 계산 binary cross entropy loss\u001b[0m\u001b[0;34m\u001b[0m\u001b[0;34m\u001b[0m\u001b[0m\n\u001b[0;32m---> 28\u001b[0;31m             \u001b[0mloss\u001b[0m \u001b[0;34m=\u001b[0m \u001b[0;34m-\u001b[0m\u001b[0my_real\u001b[0m \u001b[0;34m*\u001b[0m \u001b[0mnp\u001b[0m\u001b[0;34m.\u001b[0m\u001b[0mlog\u001b[0m\u001b[0;34m(\u001b[0m\u001b[0my_hat\u001b[0m\u001b[0;34m)\u001b[0m \u001b[0;34m+\u001b[0m \u001b[0;34m(\u001b[0m\u001b[0;36m1\u001b[0m\u001b[0;34m-\u001b[0m\u001b[0my_real\u001b[0m\u001b[0;34m)\u001b[0m\u001b[0;34m*\u001b[0m\u001b[0mnp\u001b[0m\u001b[0;34m.\u001b[0m\u001b[0mlog\u001b[0m\u001b[0;34m(\u001b[0m\u001b[0;36m1\u001b[0m\u001b[0;34m-\u001b[0m\u001b[0my_hat\u001b[0m\u001b[0;34m)\u001b[0m\u001b[0;34m\u001b[0m\u001b[0;34m\u001b[0m\u001b[0m\n\u001b[0m\u001b[1;32m     29\u001b[0m             \u001b[0mloss_total\u001b[0m \u001b[0;34m+=\u001b[0m \u001b[0mloss\u001b[0m\u001b[0;34m\u001b[0m\u001b[0;34m\u001b[0m\u001b[0m\n\u001b[1;32m     30\u001b[0m \u001b[0;34m\u001b[0m\u001b[0m\n",
            "\u001b[0;31mKeyboardInterrupt\u001b[0m: "
          ]
        }
      ]
    },
    {
      "cell_type": "code",
      "source": [
        "import matplotlib.pyplot as plt\n",
        "plt.plot(loss_list)"
      ],
      "metadata": {
        "id": "OpJUsM6UTz8J"
      },
      "execution_count": null,
      "outputs": []
    },
    {
      "cell_type": "markdown",
      "metadata": {
        "id": "qbxjGPN05yqn"
      },
      "source": [
        "# 1 Word2Vec"
      ]
    },
    {
      "cell_type": "code",
      "execution_count": 71,
      "metadata": {
        "id": "uZOPysE7617U"
      },
      "outputs": [],
      "source": [
        "# 필요한 데이터를 불러와 it_df와 culture_df에 저장한다\n",
        "import pandas as pd\n",
        "it_df = pd.read_csv('./Word Representation_it.csv').dropna()\n",
        "culture_df = pd.read_csv('./Word Representation_culture.csv').dropna()"
      ]
    },
    {
      "cell_type": "code",
      "execution_count": 72,
      "metadata": {
        "id": "6Ok87rnn6102",
        "colab": {
          "base_uri": "https://localhost:8080/"
        },
        "outputId": "9bed80db-57f3-4e4f-b2a4-4587387e71ea"
      },
      "outputs": [
        {
          "output_type": "stream",
          "name": "stdout",
          "text": [
            "['배', '정회', '신임', '과학기술', '일자리', '진흥', '원장', '아시아', '경제', '이민']\n"
          ]
        }
      ],
      "source": [
        "# word2vec을 하기 위한 전처리\n",
        "# it_df와 culture_df의 컬럼 '1'의 토큰을 리스트 형태로 변경\n",
        "it_token_ls = list(it_df.loc[:,'1'])\n",
        "culture_token_ls = list(culture_df.loc[:,'1'])\n",
        "\n",
        "total_token_ls = it_token_ls + culture_token_ls  # it_df의 리스트와 culture_df의 리스트를 한개로 합침\n",
        "\n",
        "# 리스트의 값을 ','로 분리\n",
        "total_token_ls = [tokens.split(',') for tokens in total_token_ls]\n",
        "print(total_token_ls[0][:10])"
      ]
    },
    {
      "cell_type": "code",
      "source": [
        "total_token_ls[0]"
      ],
      "metadata": {
        "id": "m3cF4jNObuR6"
      },
      "execution_count": null,
      "outputs": []
    },
    {
      "cell_type": "code",
      "execution_count": 74,
      "metadata": {
        "id": "NHsyT7mo67O3"
      },
      "outputs": [],
      "source": [
        "# gensim이라는 패키지에 word2Vec 클래스 사용\n",
        "from gensim.models import Word2Vec\n",
        "word2vec = Word2Vec( sentences = total_token_ls,      # 학습시킬 문장 ([[토큰들] 문장들])\n",
        "                     vector_size = 10,         # 임베딩된 단어 벡터의 차원 크기 n_dim\n",
        "                     alpha = 0.025,     # 학습률(Learning rate)\n",
        "                     min_count=2,       # 2번 미만 등장한 단어는 제외\n",
        "                     window = 4,        # 문맥의 크기 (window_size)\n",
        "                     sample = 0.001,    # sub-sampling\n",
        "                     sg = 1,            # 0: CBOW, 1: Skip-gram\n",
        "                     epochs = 10)         # 전체 문장 반복학습 횟수(epoch)\n"
      ]
    },
    {
      "cell_type": "code",
      "execution_count": 75,
      "metadata": {
        "id": "cWk2rnqV7YMW",
        "colab": {
          "base_uri": "https://localhost:8080/"
        },
        "outputId": "486e15f9-5a8e-41b7-914f-a6ab8307dd17"
      },
      "outputs": [
        {
          "output_type": "stream",
          "name": "stdout",
          "text": [
            "[ 1.0105355  -0.52829117 -0.18008213  0.16697505  1.0054952  -0.83417076\n",
            "  1.3217595  -0.09938464 -0.6107242  -0.28369704]\n"
          ]
        }
      ],
      "source": [
        "# '인공'의 단어 임베딩\n",
        "word_embedding = word2vec.wv.__getitem__('인공')\n",
        "print(word_embedding)"
      ]
    },
    {
      "cell_type": "code",
      "execution_count": 76,
      "metadata": {
        "id": "wJPc-Bcg7Zg7",
        "colab": {
          "base_uri": "https://localhost:8080/"
        },
        "outputId": "9746d199-9c58-4dd9-fdd0-95d3df1b6d19"
      },
      "outputs": [
        {
          "output_type": "stream",
          "name": "stdout",
          "text": [
            "[-0.7001429   0.13424662  0.01299188 -0.09878565  1.3942353  -1.3213834\n",
            "  1.272475    0.691245   -0.82266414 -0.08505181]\n"
          ]
        }
      ],
      "source": [
        "# '데이터'의 단어 임베딩\n",
        "word_embedding = word2vec.wv.__getitem__('데이터')\n",
        "print(word_embedding)"
      ]
    },
    {
      "cell_type": "code",
      "execution_count": 77,
      "metadata": {
        "id": "TZ17uTEO7c1k",
        "colab": {
          "base_uri": "https://localhost:8080/"
        },
        "outputId": "e3b186d9-785b-491a-f785-f871d9a4d819"
      },
      "outputs": [
        {
          "output_type": "stream",
          "name": "stdout",
          "text": [
            "[('지능', 0.9744399785995483), ('기기', 0.9626783132553101), ('형', 0.937897801399231), ('기능', 0.9196540117263794), ('이용', 0.910707414150238), ('블록', 0.9054185152053833), ('개발', 0.9017859697341919), ('커뮤니티', 0.9002499580383301), ('적용', 0.8971827030181885), ('프로젝트', 0.892350971698761)]\n",
            "[('빅', 0.9061788320541382), ('도심', 0.8727111220359802), ('센터', 0.8366978764533997), ('제공', 0.8364999890327454), ('웨이', 0.8347126841545105), ('환경', 0.8290132880210876), ('화', 0.816045880317688), ('앤', 0.8119009137153625), ('투명', 0.8060135245323181), ('엔터테인먼트', 0.8036418557167053)]\n"
          ]
        }
      ],
      "source": [
        "# '인공'과 유사도가 높은 단어\n",
        "word_similar_1 = word2vec.wv.most_similar('인공')\n",
        "print(word_similar_1)\n",
        "\n",
        "#'데이터'와 유사도가 높은 단어\n",
        "word_similar_2 = word2vec.wv.most_similar('데이터')\n",
        "print(word_similar_2)\n"
      ]
    },
    {
      "cell_type": "code",
      "source": [
        "word2vec.wv['너지']"
      ],
      "metadata": {
        "colab": {
          "base_uri": "https://localhost:8080/",
          "height": 341
        },
        "id": "OLCiG3occZfL",
        "outputId": "7a740adc-4ab5-4ad0-8219-dc7f4cb8d212"
      },
      "execution_count": 81,
      "outputs": [
        {
          "output_type": "error",
          "ename": "KeyError",
          "evalue": "ignored",
          "traceback": [
            "\u001b[0;31m---------------------------------------------------------------------------\u001b[0m",
            "\u001b[0;31mKeyError\u001b[0m                                  Traceback (most recent call last)",
            "\u001b[0;32m<ipython-input-81-b02865a88d92>\u001b[0m in \u001b[0;36m<cell line: 1>\u001b[0;34m()\u001b[0m\n\u001b[0;32m----> 1\u001b[0;31m \u001b[0mword2vec\u001b[0m\u001b[0;34m.\u001b[0m\u001b[0mwv\u001b[0m\u001b[0;34m[\u001b[0m\u001b[0;34m'너지'\u001b[0m\u001b[0;34m]\u001b[0m\u001b[0;34m\u001b[0m\u001b[0;34m\u001b[0m\u001b[0m\n\u001b[0m",
            "\u001b[0;32m/usr/local/lib/python3.10/dist-packages/gensim/models/keyedvectors.py\u001b[0m in \u001b[0;36m__getitem__\u001b[0;34m(self, key_or_keys)\u001b[0m\n\u001b[1;32m    401\u001b[0m         \"\"\"\n\u001b[1;32m    402\u001b[0m         \u001b[0;32mif\u001b[0m \u001b[0misinstance\u001b[0m\u001b[0;34m(\u001b[0m\u001b[0mkey_or_keys\u001b[0m\u001b[0;34m,\u001b[0m \u001b[0m_KEY_TYPES\u001b[0m\u001b[0;34m)\u001b[0m\u001b[0;34m:\u001b[0m\u001b[0;34m\u001b[0m\u001b[0;34m\u001b[0m\u001b[0m\n\u001b[0;32m--> 403\u001b[0;31m             \u001b[0;32mreturn\u001b[0m \u001b[0mself\u001b[0m\u001b[0;34m.\u001b[0m\u001b[0mget_vector\u001b[0m\u001b[0;34m(\u001b[0m\u001b[0mkey_or_keys\u001b[0m\u001b[0;34m)\u001b[0m\u001b[0;34m\u001b[0m\u001b[0;34m\u001b[0m\u001b[0m\n\u001b[0m\u001b[1;32m    404\u001b[0m \u001b[0;34m\u001b[0m\u001b[0m\n\u001b[1;32m    405\u001b[0m         \u001b[0;32mreturn\u001b[0m \u001b[0mvstack\u001b[0m\u001b[0;34m(\u001b[0m\u001b[0;34m[\u001b[0m\u001b[0mself\u001b[0m\u001b[0;34m.\u001b[0m\u001b[0mget_vector\u001b[0m\u001b[0;34m(\u001b[0m\u001b[0mkey\u001b[0m\u001b[0;34m)\u001b[0m \u001b[0;32mfor\u001b[0m \u001b[0mkey\u001b[0m \u001b[0;32min\u001b[0m \u001b[0mkey_or_keys\u001b[0m\u001b[0;34m]\u001b[0m\u001b[0;34m)\u001b[0m\u001b[0;34m\u001b[0m\u001b[0;34m\u001b[0m\u001b[0m\n",
            "\u001b[0;32m/usr/local/lib/python3.10/dist-packages/gensim/models/keyedvectors.py\u001b[0m in \u001b[0;36mget_vector\u001b[0;34m(self, key, norm)\u001b[0m\n\u001b[1;32m    444\u001b[0m \u001b[0;34m\u001b[0m\u001b[0m\n\u001b[1;32m    445\u001b[0m         \"\"\"\n\u001b[0;32m--> 446\u001b[0;31m         \u001b[0mindex\u001b[0m \u001b[0;34m=\u001b[0m \u001b[0mself\u001b[0m\u001b[0;34m.\u001b[0m\u001b[0mget_index\u001b[0m\u001b[0;34m(\u001b[0m\u001b[0mkey\u001b[0m\u001b[0;34m)\u001b[0m\u001b[0;34m\u001b[0m\u001b[0;34m\u001b[0m\u001b[0m\n\u001b[0m\u001b[1;32m    447\u001b[0m         \u001b[0;32mif\u001b[0m \u001b[0mnorm\u001b[0m\u001b[0;34m:\u001b[0m\u001b[0;34m\u001b[0m\u001b[0;34m\u001b[0m\u001b[0m\n\u001b[1;32m    448\u001b[0m             \u001b[0mself\u001b[0m\u001b[0;34m.\u001b[0m\u001b[0mfill_norms\u001b[0m\u001b[0;34m(\u001b[0m\u001b[0;34m)\u001b[0m\u001b[0;34m\u001b[0m\u001b[0;34m\u001b[0m\u001b[0m\n",
            "\u001b[0;32m/usr/local/lib/python3.10/dist-packages/gensim/models/keyedvectors.py\u001b[0m in \u001b[0;36mget_index\u001b[0;34m(self, key, default)\u001b[0m\n\u001b[1;32m    418\u001b[0m             \u001b[0;32mreturn\u001b[0m \u001b[0mdefault\u001b[0m\u001b[0;34m\u001b[0m\u001b[0;34m\u001b[0m\u001b[0m\n\u001b[1;32m    419\u001b[0m         \u001b[0;32melse\u001b[0m\u001b[0;34m:\u001b[0m\u001b[0;34m\u001b[0m\u001b[0;34m\u001b[0m\u001b[0m\n\u001b[0;32m--> 420\u001b[0;31m             \u001b[0;32mraise\u001b[0m \u001b[0mKeyError\u001b[0m\u001b[0;34m(\u001b[0m\u001b[0;34mf\"Key '{key}' not present\"\u001b[0m\u001b[0;34m)\u001b[0m\u001b[0;34m\u001b[0m\u001b[0;34m\u001b[0m\u001b[0m\n\u001b[0m\u001b[1;32m    421\u001b[0m \u001b[0;34m\u001b[0m\u001b[0m\n\u001b[1;32m    422\u001b[0m     \u001b[0;32mdef\u001b[0m \u001b[0mget_vector\u001b[0m\u001b[0;34m(\u001b[0m\u001b[0mself\u001b[0m\u001b[0;34m,\u001b[0m \u001b[0mkey\u001b[0m\u001b[0;34m,\u001b[0m \u001b[0mnorm\u001b[0m\u001b[0;34m=\u001b[0m\u001b[0;32mFalse\u001b[0m\u001b[0;34m)\u001b[0m\u001b[0;34m:\u001b[0m\u001b[0;34m\u001b[0m\u001b[0;34m\u001b[0m\u001b[0m\n",
            "\u001b[0;31mKeyError\u001b[0m: \"Key '너지' not present\""
          ]
        }
      ]
    },
    {
      "cell_type": "markdown",
      "metadata": {
        "id": "JwRSC34m5vPs"
      },
      "source": [
        "# 2 GloVe\n",
        "\n",
        "- 더이상 지원하지 않음"
      ]
    },
    {
      "cell_type": "code",
      "execution_count": null,
      "metadata": {
        "id": "v9wo1mA02cHz"
      },
      "outputs": [],
      "source": [
        "# !pip install glove_python_binary\n",
        "\n",
        "# from glove import Corpus, Glove\n",
        "\n",
        "# corpus = Corpus()\n",
        "# corpus.fit(total_token_ls, window=5)\n",
        "# # 훈련 데이터로부터 GloVe에서 사용할 동시 등장 행렬 생성\n",
        "\n",
        "# glove = Glove(no_components=100, learning_rate=0.05)\n",
        "# glove.fit(corpus.matrix, epochs=20, no_threads=4, verbose=True)\n",
        "# glove.add_dictionary(corpus.dictionary)\n",
        "# # 학습에 이용할 쓰레드의 개수는 4로 설정, 에포크는 20.\n",
        "\n",
        "# glove.most_similar(\"인공\")\n",
        "# glove.most_similar(\"지능\")"
      ]
    },
    {
      "cell_type": "markdown",
      "metadata": {
        "id": "dMVqD431-HS4"
      },
      "source": [
        "# 3 FastText"
      ]
    },
    {
      "cell_type": "code",
      "execution_count": 78,
      "metadata": {
        "id": "lfJ-l1Po-IhS"
      },
      "outputs": [],
      "source": [
        "from gensim.models.word2vec import Text8Corpus\n",
        "from gensim.models import FastText\n",
        "\n",
        "# FastText 모델생성\n",
        "ft_model = FastText(total_token_ls,\n",
        "                      vector_size=10,                 # 임베딩된 단어 벡터의 차원 크기\n",
        "                      window=8,                 # 문맥의 크기(window_size)\n",
        "                      min_count=2,            # 2번 미만 등장한 단어는 제외\n",
        "                      alpha = 0.025,                    # 학습률(Learning rate)\n",
        "                      sg = 1,                             # 0: CBOW, 1: Skip-gram\n",
        "                      epochs = 10,              # 전체 문장 반복학습 횟수(epoch)\n",
        "                      min_n=3, max_n=6)            # 최소, 최대 N-gram 수"
      ]
    },
    {
      "cell_type": "code",
      "execution_count": 79,
      "metadata": {
        "id": "SOvGNGjG-LAW",
        "colab": {
          "base_uri": "https://localhost:8080/"
        },
        "outputId": "849bbc09-a28a-4902-d0e6-ad7fc7cb94a1"
      },
      "outputs": [
        {
          "output_type": "stream",
          "name": "stdout",
          "text": [
            "[('지능', 0.9566943049430847), ('강국', 0.9099181890487671), ('룸', 0.908756673336029), ('학습', 0.9064018130302429), ('지형', 0.8965706825256348), ('체인', 0.8930061459541321), ('물론', 0.8896104097366333), ('스토', 0.8870491981506348), ('높아', 0.8869196176528931), ('기기', 0.8842440843582153)]\n",
            "[('지능', 0.9946987628936768), ('블록', 0.9743447303771973), ('체인', 0.9695954322814941), ('인공', 0.9519497156143188), ('강국', 0.9405410289764404), ('결합', 0.9392645955085754), ('관제', 0.9308205842971802), ('학습', 0.925857663154602), ('콘', 0.9208518266677856), ('기반', 0.9198890328407288)]\n"
          ]
        }
      ],
      "source": [
        "# Getting most similar vectors\n",
        "print(ft_model.wv.most_similar('인공'))\n",
        "\n",
        "# Getting most similar vectors\n",
        "print(ft_model.wv.most_similar('안공지능'))"
      ]
    },
    {
      "cell_type": "code",
      "execution_count": 80,
      "metadata": {
        "id": "D0gMrWOj_5de",
        "colab": {
          "base_uri": "https://localhost:8080/"
        },
        "outputId": "37119b4b-bfec-4323-c9e4-9097ab8487d4"
      },
      "outputs": [
        {
          "output_type": "execute_result",
          "data": {
            "text/plain": [
              "array([ 0.01756308,  0.25090715, -0.11907516,  0.30211484, -0.0367735 ,\n",
              "       -0.19040553,  0.47410917,  0.3590832 , -0.35047242,  0.2935659 ],\n",
              "      dtype=float32)"
            ]
          },
          "metadata": {},
          "execution_count": 80
        }
      ],
      "source": [
        "ft_model.wv['너지']"
      ]
    },
    {
      "cell_type": "code",
      "execution_count": null,
      "metadata": {
        "id": "6WvlJkdYj5l-"
      },
      "outputs": [],
      "source": []
    }
  ],
  "metadata": {
    "colab": {
      "provenance": []
    },
    "kernelspec": {
      "display_name": "Python 3",
      "name": "python3"
    }
  },
  "nbformat": 4,
  "nbformat_minor": 0
}