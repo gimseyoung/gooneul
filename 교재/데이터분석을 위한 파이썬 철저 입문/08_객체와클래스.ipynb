{
 "cells": [
  {
   "cell_type": "markdown",
   "metadata": {},
   "source": [
    "## 01. 클래스 선언과 객체 생성\n",
    "- 객체 생성 및 활용"
   ]
  },
  {
   "cell_type": "code",
   "execution_count": 1,
   "metadata": {},
   "outputs": [],
   "source": [
    "class Bicycle(): # 클래스 선언\n",
    "    pass"
   ]
  },
  {
   "cell_type": "code",
   "execution_count": 2,
   "metadata": {},
   "outputs": [
    {
     "data": {
      "text/plain": [
       "<__main__.Bicycle at 0x1069ed490>"
      ]
     },
     "execution_count": 2,
     "metadata": {},
     "output_type": "execute_result"
    }
   ],
   "source": [
    "my_bicycle = Bicycle()\n",
    "my_bicycle"
   ]
  },
  {
   "cell_type": "code",
   "execution_count": 3,
   "metadata": {},
   "outputs": [],
   "source": [
    "my_bicycle.wheel_size = 26\n",
    "my_bicycle.color = 'black'"
   ]
  },
  {
   "cell_type": "code",
   "execution_count": 4,
   "metadata": {},
   "outputs": [
    {
     "name": "stdout",
     "output_type": "stream",
     "text": [
      "바퀴크기: 26\n",
      "색상: black\n"
     ]
    }
   ],
   "source": [
    "print('바퀴크기:', my_bicycle.wheel_size)\n",
    "print('색상:', my_bicycle.color)"
   ]
  },
  {
   "cell_type": "code",
   "execution_count": 5,
   "metadata": {},
   "outputs": [],
   "source": [
    "class Bicycle():\n",
    "\n",
    "    def move(self, speed):\n",
    "        print(f'자전거: 시속 {speed}킬로미터로 전진')\n",
    "\n",
    "    def turn(self, direction):\n",
    "        print(f'자전거: {direction}회전')\n",
    "\n",
    "    def stop(self):\n",
    "        print(f'자전거({self.wheel_size}, {self.color}): 정지')"
   ]
  },
  {
   "cell_type": "code",
   "execution_count": 6,
   "metadata": {},
   "outputs": [
    {
     "name": "stdout",
     "output_type": "stream",
     "text": [
      "자전거: 시속 30킬로미터로 전진\n",
      "자전거: 좌회전\n",
      "자전거(26, black): 정지\n"
     ]
    }
   ],
   "source": [
    "my_bicycle = Bicycle()\n",
    "\n",
    "my_bicycle.wheel_size = 26\n",
    "my_bicycle.color = 'black'\n",
    "\n",
    "my_bicycle.move(30)\n",
    "my_bicycle.turn('좌')\n",
    "my_bicycle.stop()"
   ]
  },
  {
   "cell_type": "code",
   "execution_count": 7,
   "metadata": {},
   "outputs": [
    {
     "name": "stdout",
     "output_type": "stream",
     "text": [
      "자전거: 시속 20킬로미터로 전진\n",
      "자전거: 좌회전\n",
      "자전거(27, red): 정지\n"
     ]
    }
   ],
   "source": [
    "bicycle1 = Bicycle()\n",
    "\n",
    "bicycle1.wheel_size = 27\n",
    "bicycle1.color = 'red'\n",
    "\n",
    "bicycle1.move(20)\n",
    "bicycle1.turn('좌')\n",
    "bicycle1.stop()"
   ]
  },
  {
   "cell_type": "code",
   "execution_count": 8,
   "metadata": {},
   "outputs": [
    {
     "name": "stdout",
     "output_type": "stream",
     "text": [
      "자전거: 시속 15킬로미터로 전진\n",
      "자전거: 우회전\n",
      "자전거(24, blue): 정지\n"
     ]
    }
   ],
   "source": [
    "bicycle2 = Bicycle()\n",
    "\n",
    "bicycle2.wheel_size = 24\n",
    "bicycle2.color = 'blue'\n",
    "\n",
    "bicycle2.move(15)\n",
    "bicycle2.turn('우')\n",
    "bicycle2.stop()"
   ]
  },
  {
   "cell_type": "code",
   "execution_count": 9,
   "metadata": {},
   "outputs": [],
   "source": [
    "class Bicycle():\n",
    "\n",
    "    def __init__(self, wheel_size, color):\n",
    "        self.wheel_size = wheel_size\n",
    "        self.color = color\n",
    "\n",
    "    def move(self, speed):\n",
    "        print(f'자전거: 시속 {speed}킬로미터로 전진')\n",
    "\n",
    "    def turn(self, direction):\n",
    "        print(f'자전거: {direction}회전')\n",
    "\n",
    "    def stop(self):\n",
    "        print(f'자전거({self.wheel_size}, {self.color}): 정지')"
   ]
  },
  {
   "cell_type": "code",
   "execution_count": 10,
   "metadata": {},
   "outputs": [
    {
     "name": "stdout",
     "output_type": "stream",
     "text": [
      "자전거: 시속 30킬로미터로 전진\n",
      "자전거: 좌회전\n",
      "자전거(26, black): 정지\n"
     ]
    }
   ],
   "source": [
    "my_bicycle = Bicycle(26, 'black')\n",
    "\n",
    "my_bicycle.move(30)\n",
    "my_bicycle.turn('좌')\n",
    "my_bicycle.stop()"
   ]
  },
  {
   "cell_type": "markdown",
   "metadata": {},
   "source": [
    "## 02. 클래스를 구성하는 변수와 함수\n",
    "- 클래스에서 사용하는 변수"
   ]
  },
  {
   "cell_type": "code",
   "execution_count": 11,
   "metadata": {},
   "outputs": [],
   "source": [
    "class Car():\n",
    "    # 클래스 변수 생성 및 초기화\n",
    "    instance_count = 0 \n",
    "\n",
    "    def __init__(self, size, color):\n",
    "        # 인스턴스 변수 생성 및 초기화\n",
    "        self.size = size\n",
    "        # 인스턴스 변수 생성 및 초기화\n",
    "        self.color = color\n",
    "        # 클래스 변수 이용\n",
    "        Car.instance_count += 1\n",
    "        print(f'자동차 객체의 수: {Car.instance_count}')\n",
    "\n",
    "    def move(self):\n",
    "        print(f'자동차({self.size} & {self.color})가 움직입니다.')"
   ]
  },
  {
   "cell_type": "code",
   "execution_count": 12,
   "metadata": {},
   "outputs": [
    {
     "name": "stdout",
     "output_type": "stream",
     "text": [
      "자동차 객체의 수: 1\n",
      "자동차 객체의 수: 2\n"
     ]
    }
   ],
   "source": [
    "car1 = Car('small', 'white')\n",
    "car2 = Car('big', 'black')"
   ]
  },
  {
   "cell_type": "code",
   "execution_count": 13,
   "metadata": {},
   "outputs": [
    {
     "name": "stdout",
     "output_type": "stream",
     "text": [
      "자동차(small & white)가 움직입니다.\n",
      "자동차(big & black)가 움직입니다.\n"
     ]
    }
   ],
   "source": [
    "car1.move()\n",
    "car2.move()"
   ]
  },
  {
   "cell_type": "code",
   "execution_count": 14,
   "metadata": {},
   "outputs": [],
   "source": [
    "class Car2():\n",
    "\n",
    "    # 클래스 변수 생성 및 초기화\n",
    "    count = 0\n",
    "\n",
    "    def __init__(self, size, num):\n",
    "        self.size = size\n",
    "        self.count = num\n",
    "        Car2.count += 1\n",
    "        print(f'자동차 객체의 수: Car2.count = {Car2.count}')\n",
    "        print(f'인스턴스 변수 초기화: self.count = {self.count}')\n",
    "\n",
    "    def move(self):\n",
    "        print(f'자동차({self.size} & {self.count})가 움직입니다.')"
   ]
  },
  {
   "cell_type": "code",
   "execution_count": 15,
   "metadata": {},
   "outputs": [
    {
     "name": "stdout",
     "output_type": "stream",
     "text": [
      "자동차 객체의 수: Car2.count = 1\n",
      "인스턴스 변수 초기화: self.count = 30\n"
     ]
    }
   ],
   "source": [
    "car1 = Car2('big', 30)"
   ]
  },
  {
   "cell_type": "markdown",
   "metadata": {},
   "source": [
    "- 클래스에서 사용하는 함수"
   ]
  },
  {
   "cell_type": "code",
   "execution_count": 1,
   "metadata": {},
   "outputs": [],
   "source": [
    "class Car():\n",
    "    # 클래스 변수 생성 및 초기화\n",
    "    instance_count = 0\n",
    "\n",
    "    # 초기화 함수(인스턴스 메서드)\n",
    "    def __init__(self, size, color):\n",
    "        self.size = size\n",
    "        self.color = color\n",
    "        Car.instance_count += 1\n",
    "        print(f'자동차 객체의 수: {Car.instance_count}')\n",
    "\n",
    "    # 인스턴스 메서드\n",
    "    def move(self, speed):\n",
    "        self.speed = speed\n",
    "        print(f'자동차({self.size} & {self.color})가', end='')\n",
    "        print(f'시속 {self.speed}킬로미터로 전진')\n",
    "\n",
    "    def auto_cruise(self):\n",
    "        print('자율주행모드')\n",
    "        self.move(self.speed)"
   ]
  },
  {
   "cell_type": "code",
   "execution_count": 2,
   "metadata": {},
   "outputs": [
    {
     "name": "stdout",
     "output_type": "stream",
     "text": [
      "자동차 객체의 수: 1\n",
      "자동차(small & red)가시속 80킬로미터로 전진\n",
      "자율주행모드\n",
      "자동차(small & red)가시속 80킬로미터로 전진\n"
     ]
    }
   ],
   "source": [
    "car1 = Car('small', 'red')\n",
    "car1.move(80)\n",
    "car1.auto_cruise()"
   ]
  },
  {
   "cell_type": "markdown",
   "metadata": {},
   "source": [
    "- 객체와 클래스를 사용하는 이유"
   ]
  },
  {
   "cell_type": "code",
   "execution_count": 3,
   "metadata": {},
   "outputs": [],
   "source": [
    "robot_name = 'R1' # 로봇 이름\n",
    "robot_pos = 0 # 로봇의 초기 위치\n",
    "\n",
    "def robot_move():\n",
    "    global robot_pos\n",
    "    robot_pos += 1\n",
    "    print(f'{robot_name} position: {robot_pos}')"
   ]
  },
  {
   "cell_type": "code",
   "execution_count": 5,
   "metadata": {},
   "outputs": [
    {
     "name": "stdout",
     "output_type": "stream",
     "text": [
      "R1 position: 1\n"
     ]
    }
   ],
   "source": [
    "robot_move()"
   ]
  },
  {
   "cell_type": "code",
   "execution_count": 6,
   "metadata": {},
   "outputs": [],
   "source": [
    "class Robot():\n",
    "    def __init__(self, name, pos):\n",
    "        self.name = name\n",
    "        self.pos = pos\n",
    "\n",
    "    def move(self):\n",
    "        self.pos += 1\n",
    "        print(f'{robot_name} position: {robot_pos}')"
   ]
  },
  {
   "cell_type": "code",
   "execution_count": null,
   "metadata": {},
   "outputs": [],
   "source": []
  }
 ],
 "metadata": {
  "kernelspec": {
   "display_name": "study",
   "language": "python",
   "name": "python3"
  },
  "language_info": {
   "codemirror_mode": {
    "name": "ipython",
    "version": 3
   },
   "file_extension": ".py",
   "mimetype": "text/x-python",
   "name": "python",
   "nbconvert_exporter": "python",
   "pygments_lexer": "ipython3",
   "version": "3.9.16"
  },
  "orig_nbformat": 4
 },
 "nbformat": 4,
 "nbformat_minor": 2
}
