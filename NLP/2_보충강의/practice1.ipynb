{
 "cells": [
  {
   "cell_type": "markdown",
   "metadata": {},
   "source": [
    "## description content crawl"
   ]
  },
  {
   "cell_type": "code",
   "execution_count": 1,
   "metadata": {},
   "outputs": [
    {
     "name": "stdout",
     "output_type": "stream",
     "text": [
      "200\n"
     ]
    }
   ],
   "source": [
    "import requests # python request\n",
    "\n",
    "# sample url\n",
    "URL = \"https://www.mccormick.northwestern.edu/computer-science/academics/courses/descriptions/337.html\"\n",
    "\n",
    "response = requests.get(URL) # requests -> get Function ( def get() )\n",
    "print(response.status_code)\n",
    "\n",
    "# 200 -> OK NO Problem!"
   ]
  },
  {
   "cell_type": "code",
   "execution_count": 2,
   "metadata": {},
   "outputs": [],
   "source": [
    "from bs4 import BeautifulSoup # BS4 -> Comfortable ( Famous )\n",
    "\n",
    "soup = BeautifulSoup(response.text, \"html.parser\") #xml, json"
   ]
  },
  {
   "cell_type": "code",
   "execution_count": 3,
   "metadata": {},
   "outputs": [
    {
     "name": "stdout",
     "output_type": "stream",
     "text": [
      "<p>A semantics-oriented introduction to natural language processing, broadly construed. Representation of meaning and knowledge inference in story understanding, script/frame theory, plans and plan recognition, counter-planning, and thematic structures.</p>\n",
      "<p><strong>REQUIRED TEXTBOOK</strong>: None.</p>\n"
     ]
    }
   ],
   "source": [
    "content_list = soup.select(\"#main-content p\") # select return -> datatype : list\n",
    "print(content_list[0]) # [0] -> Desc\n",
    "print(content_list[1])"
   ]
  },
  {
   "cell_type": "code",
   "execution_count": 4,
   "metadata": {},
   "outputs": [
    {
     "name": "stdout",
     "output_type": "stream",
     "text": [
      "200\n"
     ]
    }
   ],
   "source": [
    "course_url = \"https://www.mccormick.northwestern.edu/computer-science/academics/courses/\"\n",
    "\n",
    "# /description/XXX.html -> 규칙\n",
    "# table id : course_list > tbody > a href\n",
    "# <a href=\"descriptions/203.html\">COMP_ENG 203</a>\n",
    "# For Loop -> url + XXX.html -> XXX ????\n",
    "\n",
    "response = requests.get(course_url)\n",
    "print(response.status_code)"
   ]
  },
  {
   "cell_type": "code",
   "execution_count": 5,
   "metadata": {},
   "outputs": [
    {
     "name": "stdout",
     "output_type": "stream",
     "text": [
      "<a href=\"descriptions/110.html\">COMP_SCI 110</a>\n"
     ]
    }
   ],
   "source": [
    "soup = BeautifulSoup(response.text, \"html.parser\")\n",
    "# print(soup)\n",
    "course_list = soup.select(\"#course_list tbody a\") # PATH # 앞에 나온게 무조건 위에 있는 Level\n",
    "# # <- id id=\"\"\n",
    "print(course_list[0])"
   ]
  },
  {
   "cell_type": "code",
   "execution_count": 6,
   "metadata": {},
   "outputs": [
    {
     "name": "stdout",
     "output_type": "stream",
     "text": [
      "['descriptions/110.html', 'descriptions/111.html', 'descriptions/150.html', 'descriptions/203.html', 'descriptions/205.html', 'descriptions/211.html', 'descriptions/212.html', 'descriptions/213-20.html', 'descriptions/214.html', 'descriptions/217.html', 'descriptions/260-460.html', 'descriptions/296-1.html', 'descriptions/298-1.html', 'descriptions/301.html', 'descriptions/303.html', 'descriptions/307.html', 'descriptions/310.html', 'descriptions/311.html', 'descriptions/312-412.html', 'descriptions/313-413.html', 'descriptions/314.html', 'descriptions/315-415.html', 'descriptions/321.html', 'descriptions/322.html', 'descriptions/323.html', 'descriptions/325.html', 'descriptions/326.html', 'descriptions/327.html', 'descriptions/329.html', 'descriptions/330-1.html', 'descriptions/332.html', 'descriptions/333.html', 'descriptions/335.html', 'descriptions/336.html', 'descriptions/337.html', 'descriptions/338-1.html', 'descriptions/338-2.html', 'descriptions/339.html', 'descriptions/340.html', 'descriptions/343.html', 'descriptions/344.html', 'descriptions/345.html', 'descriptions/346.html', 'descriptions/347-447.html', 'descriptions/348.html', 'descriptions/349.html', 'descriptions/350.html', 'descriptions/351-1.html', 'descriptions/351-2.html', 'descriptions/354.html', 'descriptions/355.html', 'https://www.mccormick.northwestern.edu/electrical-computer/academics/courses/descriptions/361.html', 'descriptions/362.html', 'descriptions/365-465.html', 'descriptions/368-468.html', 'descriptions/371.html', 'descriptions/372-472.html', 'descriptions/376.html', 'descriptions/377.html', 'descriptions/392.html', 'descriptions/394.html', 'descriptions/396-1.html', 'descriptions/396-2.html', 'descriptions/396-5.html', 'descriptions/396-9.html', 'descriptions/396-10.html', 'descriptions/396-11.html', 'descriptions/396-12.html', 'descriptions/396-14.html', 'descriptions/396-15.html', 'descriptions/396-16.html', 'descriptions/396-17.html', 'descriptions/396-19.html', 'descriptions/396-21.html', 'descriptions/396-22.html', 'descriptions/396-24.html', 'descriptions/396-496-2.html', 'descriptions/396-496-6.html', 'descriptions/396-496-7.html', 'descriptions/396-496-10.html', 'descriptions/396-496-13.html', 'descriptions/396-496-15.html', 'descriptions/396-496-16.html', 'descriptions/396-496-18.html', 'descriptions/396-496-19.html', 'descriptions/396-496-21.html', 'descriptions/396-496-24.html', 'descriptions/396-496-25.html', 'descriptions/396-496-26.html', 'descriptions/396-496-27.html', 'descriptions/397-1.html', 'descriptions/397-2.html', 'descriptions/397-3.html', 'descriptions/397-497-10.html', 'descriptions/397-497-12.html', 'descriptions/397-497-14.html', 'descriptions/397-497-15.html', 'descriptions/397-497-2.html', 'descriptions/397-497-20.html', 'descriptions/397-497-3.html', 'descriptions/397-497-4.html', 'descriptions/401.html', 'descriptions/409.html', 'descriptions/410.html', 'descriptions/440.html', 'descriptions/445.html', 'descriptions/446.html', 'descriptions/449.html', 'descriptions/450.html', 'descriptions/452.html', 'descriptions/453.html', 'descriptions/456.html', 'descriptions/459.html', 'descriptions/469.html', 'descriptions/474.html', 'descriptions/496-7.html', 'descriptions/496-8.html', 'descriptions/496-15.html', 'descriptions/496-20.html', 'descriptions/496-21.html', 'descriptions/496-23.html', 'descriptions/496-24.html', 'descriptions/496-25.html', 'descriptions/496-26.html', 'descriptions/496-29.html', 'descriptions/496-30.html', 'descriptions/496-31.html', 'descriptions/496-32.html', 'descriptions/496-33.html', 'descriptions/496-35.html', 'descriptions/496-36.html', 'descriptions/496-37.html', 'descriptions/496-38.html', 'descriptions/496-39.html', 'descriptions/497-9.html', 'descriptions/497-10.html', 'descriptions/497-11.html', 'descriptions/497-12.html', 'descriptions/497-3.html', 'descriptions/497-4.html', 'descriptions/497-6.html', 'descriptions/497-8.html']\n"
     ]
    }
   ],
   "source": [
    "# List Comprehension\n",
    "# Lambda\n",
    "# course_list_url = [  i[\"href\"] for i in course_list if str(i.text).startswith(\"COMP\") ]\n",
    "# print(course_list_url[0])\n",
    "course_list_url = []\n",
    "for i in course_list:\n",
    "    # i.text -> String\n",
    "    if (i.text).startswith(\"COMP\"):\n",
    "        # print(i)\n",
    "        # print(i[\"href\"])\n",
    "        course_list_url.append(i[\"href\"])\n",
    "print(course_list_url)"
   ]
  },
  {
   "cell_type": "code",
   "execution_count": 7,
   "metadata": {},
   "outputs": [
    {
     "name": "stdout",
     "output_type": "stream",
     "text": [
      "['https://www.mccormick.northwestern.edu/computer-science/academics/courses/descriptions/110.html', 'https://www.mccormick.northwestern.edu/computer-science/academics/courses/descriptions/111.html', 'https://www.mccormick.northwestern.edu/computer-science/academics/courses/descriptions/150.html', 'https://www.mccormick.northwestern.edu/computer-science/academics/courses/descriptions/203.html', 'https://www.mccormick.northwestern.edu/computer-science/academics/courses/descriptions/205.html', 'https://www.mccormick.northwestern.edu/computer-science/academics/courses/descriptions/211.html', 'https://www.mccormick.northwestern.edu/computer-science/academics/courses/descriptions/212.html', 'https://www.mccormick.northwestern.edu/computer-science/academics/courses/descriptions/213-20.html', 'https://www.mccormick.northwestern.edu/computer-science/academics/courses/descriptions/214.html', 'https://www.mccormick.northwestern.edu/computer-science/academics/courses/descriptions/217.html', 'https://www.mccormick.northwestern.edu/computer-science/academics/courses/descriptions/260-460.html', 'https://www.mccormick.northwestern.edu/computer-science/academics/courses/descriptions/296-1.html', 'https://www.mccormick.northwestern.edu/computer-science/academics/courses/descriptions/298-1.html', 'https://www.mccormick.northwestern.edu/computer-science/academics/courses/descriptions/301.html', 'https://www.mccormick.northwestern.edu/computer-science/academics/courses/descriptions/303.html', 'https://www.mccormick.northwestern.edu/computer-science/academics/courses/descriptions/307.html', 'https://www.mccormick.northwestern.edu/computer-science/academics/courses/descriptions/310.html', 'https://www.mccormick.northwestern.edu/computer-science/academics/courses/descriptions/311.html', 'https://www.mccormick.northwestern.edu/computer-science/academics/courses/descriptions/312-412.html', 'https://www.mccormick.northwestern.edu/computer-science/academics/courses/descriptions/313-413.html', 'https://www.mccormick.northwestern.edu/computer-science/academics/courses/descriptions/314.html', 'https://www.mccormick.northwestern.edu/computer-science/academics/courses/descriptions/315-415.html', 'https://www.mccormick.northwestern.edu/computer-science/academics/courses/descriptions/321.html', 'https://www.mccormick.northwestern.edu/computer-science/academics/courses/descriptions/322.html', 'https://www.mccormick.northwestern.edu/computer-science/academics/courses/descriptions/323.html', 'https://www.mccormick.northwestern.edu/computer-science/academics/courses/descriptions/325.html', 'https://www.mccormick.northwestern.edu/computer-science/academics/courses/descriptions/326.html', 'https://www.mccormick.northwestern.edu/computer-science/academics/courses/descriptions/327.html', 'https://www.mccormick.northwestern.edu/computer-science/academics/courses/descriptions/329.html', 'https://www.mccormick.northwestern.edu/computer-science/academics/courses/descriptions/330-1.html', 'https://www.mccormick.northwestern.edu/computer-science/academics/courses/descriptions/332.html', 'https://www.mccormick.northwestern.edu/computer-science/academics/courses/descriptions/333.html', 'https://www.mccormick.northwestern.edu/computer-science/academics/courses/descriptions/335.html', 'https://www.mccormick.northwestern.edu/computer-science/academics/courses/descriptions/336.html', 'https://www.mccormick.northwestern.edu/computer-science/academics/courses/descriptions/337.html', 'https://www.mccormick.northwestern.edu/computer-science/academics/courses/descriptions/338-1.html', 'https://www.mccormick.northwestern.edu/computer-science/academics/courses/descriptions/338-2.html', 'https://www.mccormick.northwestern.edu/computer-science/academics/courses/descriptions/339.html', 'https://www.mccormick.northwestern.edu/computer-science/academics/courses/descriptions/340.html', 'https://www.mccormick.northwestern.edu/computer-science/academics/courses/descriptions/343.html', 'https://www.mccormick.northwestern.edu/computer-science/academics/courses/descriptions/344.html', 'https://www.mccormick.northwestern.edu/computer-science/academics/courses/descriptions/345.html', 'https://www.mccormick.northwestern.edu/computer-science/academics/courses/descriptions/346.html', 'https://www.mccormick.northwestern.edu/computer-science/academics/courses/descriptions/347-447.html', 'https://www.mccormick.northwestern.edu/computer-science/academics/courses/descriptions/348.html', 'https://www.mccormick.northwestern.edu/computer-science/academics/courses/descriptions/349.html', 'https://www.mccormick.northwestern.edu/computer-science/academics/courses/descriptions/350.html', 'https://www.mccormick.northwestern.edu/computer-science/academics/courses/descriptions/351-1.html', 'https://www.mccormick.northwestern.edu/computer-science/academics/courses/descriptions/351-2.html', 'https://www.mccormick.northwestern.edu/computer-science/academics/courses/descriptions/354.html', 'https://www.mccormick.northwestern.edu/computer-science/academics/courses/descriptions/355.html', 'https://www.mccormick.northwestern.edu/computer-science/academics/courses/https://www.mccormick.northwestern.edu/electrical-computer/academics/courses/descriptions/361.html', 'https://www.mccormick.northwestern.edu/computer-science/academics/courses/descriptions/362.html', 'https://www.mccormick.northwestern.edu/computer-science/academics/courses/descriptions/365-465.html', 'https://www.mccormick.northwestern.edu/computer-science/academics/courses/descriptions/368-468.html', 'https://www.mccormick.northwestern.edu/computer-science/academics/courses/descriptions/371.html', 'https://www.mccormick.northwestern.edu/computer-science/academics/courses/descriptions/372-472.html', 'https://www.mccormick.northwestern.edu/computer-science/academics/courses/descriptions/376.html', 'https://www.mccormick.northwestern.edu/computer-science/academics/courses/descriptions/377.html', 'https://www.mccormick.northwestern.edu/computer-science/academics/courses/descriptions/392.html', 'https://www.mccormick.northwestern.edu/computer-science/academics/courses/descriptions/394.html', 'https://www.mccormick.northwestern.edu/computer-science/academics/courses/descriptions/396-1.html', 'https://www.mccormick.northwestern.edu/computer-science/academics/courses/descriptions/396-2.html', 'https://www.mccormick.northwestern.edu/computer-science/academics/courses/descriptions/396-5.html', 'https://www.mccormick.northwestern.edu/computer-science/academics/courses/descriptions/396-9.html', 'https://www.mccormick.northwestern.edu/computer-science/academics/courses/descriptions/396-10.html', 'https://www.mccormick.northwestern.edu/computer-science/academics/courses/descriptions/396-11.html', 'https://www.mccormick.northwestern.edu/computer-science/academics/courses/descriptions/396-12.html', 'https://www.mccormick.northwestern.edu/computer-science/academics/courses/descriptions/396-14.html', 'https://www.mccormick.northwestern.edu/computer-science/academics/courses/descriptions/396-15.html', 'https://www.mccormick.northwestern.edu/computer-science/academics/courses/descriptions/396-16.html', 'https://www.mccormick.northwestern.edu/computer-science/academics/courses/descriptions/396-17.html', 'https://www.mccormick.northwestern.edu/computer-science/academics/courses/descriptions/396-19.html', 'https://www.mccormick.northwestern.edu/computer-science/academics/courses/descriptions/396-21.html', 'https://www.mccormick.northwestern.edu/computer-science/academics/courses/descriptions/396-22.html', 'https://www.mccormick.northwestern.edu/computer-science/academics/courses/descriptions/396-24.html', 'https://www.mccormick.northwestern.edu/computer-science/academics/courses/descriptions/396-496-2.html', 'https://www.mccormick.northwestern.edu/computer-science/academics/courses/descriptions/396-496-6.html', 'https://www.mccormick.northwestern.edu/computer-science/academics/courses/descriptions/396-496-7.html', 'https://www.mccormick.northwestern.edu/computer-science/academics/courses/descriptions/396-496-10.html', 'https://www.mccormick.northwestern.edu/computer-science/academics/courses/descriptions/396-496-13.html', 'https://www.mccormick.northwestern.edu/computer-science/academics/courses/descriptions/396-496-15.html', 'https://www.mccormick.northwestern.edu/computer-science/academics/courses/descriptions/396-496-16.html', 'https://www.mccormick.northwestern.edu/computer-science/academics/courses/descriptions/396-496-18.html', 'https://www.mccormick.northwestern.edu/computer-science/academics/courses/descriptions/396-496-19.html', 'https://www.mccormick.northwestern.edu/computer-science/academics/courses/descriptions/396-496-21.html', 'https://www.mccormick.northwestern.edu/computer-science/academics/courses/descriptions/396-496-24.html', 'https://www.mccormick.northwestern.edu/computer-science/academics/courses/descriptions/396-496-25.html', 'https://www.mccormick.northwestern.edu/computer-science/academics/courses/descriptions/396-496-26.html', 'https://www.mccormick.northwestern.edu/computer-science/academics/courses/descriptions/396-496-27.html', 'https://www.mccormick.northwestern.edu/computer-science/academics/courses/descriptions/397-1.html', 'https://www.mccormick.northwestern.edu/computer-science/academics/courses/descriptions/397-2.html', 'https://www.mccormick.northwestern.edu/computer-science/academics/courses/descriptions/397-3.html', 'https://www.mccormick.northwestern.edu/computer-science/academics/courses/descriptions/397-497-10.html', 'https://www.mccormick.northwestern.edu/computer-science/academics/courses/descriptions/397-497-12.html', 'https://www.mccormick.northwestern.edu/computer-science/academics/courses/descriptions/397-497-14.html', 'https://www.mccormick.northwestern.edu/computer-science/academics/courses/descriptions/397-497-15.html', 'https://www.mccormick.northwestern.edu/computer-science/academics/courses/descriptions/397-497-2.html', 'https://www.mccormick.northwestern.edu/computer-science/academics/courses/descriptions/397-497-20.html', 'https://www.mccormick.northwestern.edu/computer-science/academics/courses/descriptions/397-497-3.html', 'https://www.mccormick.northwestern.edu/computer-science/academics/courses/descriptions/397-497-4.html', 'https://www.mccormick.northwestern.edu/computer-science/academics/courses/descriptions/401.html', 'https://www.mccormick.northwestern.edu/computer-science/academics/courses/descriptions/409.html', 'https://www.mccormick.northwestern.edu/computer-science/academics/courses/descriptions/410.html', 'https://www.mccormick.northwestern.edu/computer-science/academics/courses/descriptions/440.html', 'https://www.mccormick.northwestern.edu/computer-science/academics/courses/descriptions/445.html', 'https://www.mccormick.northwestern.edu/computer-science/academics/courses/descriptions/446.html', 'https://www.mccormick.northwestern.edu/computer-science/academics/courses/descriptions/449.html', 'https://www.mccormick.northwestern.edu/computer-science/academics/courses/descriptions/450.html', 'https://www.mccormick.northwestern.edu/computer-science/academics/courses/descriptions/452.html', 'https://www.mccormick.northwestern.edu/computer-science/academics/courses/descriptions/453.html', 'https://www.mccormick.northwestern.edu/computer-science/academics/courses/descriptions/456.html', 'https://www.mccormick.northwestern.edu/computer-science/academics/courses/descriptions/459.html', 'https://www.mccormick.northwestern.edu/computer-science/academics/courses/descriptions/469.html', 'https://www.mccormick.northwestern.edu/computer-science/academics/courses/descriptions/474.html', 'https://www.mccormick.northwestern.edu/computer-science/academics/courses/descriptions/496-7.html', 'https://www.mccormick.northwestern.edu/computer-science/academics/courses/descriptions/496-8.html', 'https://www.mccormick.northwestern.edu/computer-science/academics/courses/descriptions/496-15.html', 'https://www.mccormick.northwestern.edu/computer-science/academics/courses/descriptions/496-20.html', 'https://www.mccormick.northwestern.edu/computer-science/academics/courses/descriptions/496-21.html', 'https://www.mccormick.northwestern.edu/computer-science/academics/courses/descriptions/496-23.html', 'https://www.mccormick.northwestern.edu/computer-science/academics/courses/descriptions/496-24.html', 'https://www.mccormick.northwestern.edu/computer-science/academics/courses/descriptions/496-25.html', 'https://www.mccormick.northwestern.edu/computer-science/academics/courses/descriptions/496-26.html', 'https://www.mccormick.northwestern.edu/computer-science/academics/courses/descriptions/496-29.html', 'https://www.mccormick.northwestern.edu/computer-science/academics/courses/descriptions/496-30.html', 'https://www.mccormick.northwestern.edu/computer-science/academics/courses/descriptions/496-31.html', 'https://www.mccormick.northwestern.edu/computer-science/academics/courses/descriptions/496-32.html', 'https://www.mccormick.northwestern.edu/computer-science/academics/courses/descriptions/496-33.html', 'https://www.mccormick.northwestern.edu/computer-science/academics/courses/descriptions/496-35.html', 'https://www.mccormick.northwestern.edu/computer-science/academics/courses/descriptions/496-36.html', 'https://www.mccormick.northwestern.edu/computer-science/academics/courses/descriptions/496-37.html', 'https://www.mccormick.northwestern.edu/computer-science/academics/courses/descriptions/496-38.html', 'https://www.mccormick.northwestern.edu/computer-science/academics/courses/descriptions/496-39.html', 'https://www.mccormick.northwestern.edu/computer-science/academics/courses/descriptions/497-9.html', 'https://www.mccormick.northwestern.edu/computer-science/academics/courses/descriptions/497-10.html', 'https://www.mccormick.northwestern.edu/computer-science/academics/courses/descriptions/497-11.html', 'https://www.mccormick.northwestern.edu/computer-science/academics/courses/descriptions/497-12.html', 'https://www.mccormick.northwestern.edu/computer-science/academics/courses/descriptions/497-3.html', 'https://www.mccormick.northwestern.edu/computer-science/academics/courses/descriptions/497-4.html', 'https://www.mccormick.northwestern.edu/computer-science/academics/courses/descriptions/497-6.html', 'https://www.mccormick.northwestern.edu/computer-science/academics/courses/descriptions/497-8.html']\n"
     ]
    }
   ],
   "source": [
    "# \"https://www.mccormick.northwestern.edu/computer-science/academics/courses/descriptions/337.html\"\n",
    "loop_url = \"https://www.mccormick.northwestern.edu/computer-science/academics/courses/\"\n",
    "course_list = []\n",
    "for course in course_list_url:\n",
    "    # print(f\"{loop_url}{course}\")\n",
    "    course_list.append(loop_url + course) # str_1 + str_2 -> str 1,2\n",
    "print(course_list) # course_list <- 우리가 들어가려는 모든 주소"
   ]
  },
  {
   "cell_type": "code",
   "execution_count": 8,
   "metadata": {},
   "outputs": [
    {
     "name": "stdout",
     "output_type": "stream",
     "text": [
      "                                             CS_Course Desc\n",
      "0    https://www.mccormick.northwestern.edu/compute...  NaN\n",
      "1    https://www.mccormick.northwestern.edu/compute...  NaN\n",
      "2    https://www.mccormick.northwestern.edu/compute...  NaN\n",
      "3    https://www.mccormick.northwestern.edu/compute...  NaN\n",
      "4    https://www.mccormick.northwestern.edu/compute...  NaN\n",
      "..                                                 ...  ...\n",
      "137  https://www.mccormick.northwestern.edu/compute...  NaN\n",
      "138  https://www.mccormick.northwestern.edu/compute...  NaN\n",
      "139  https://www.mccormick.northwestern.edu/compute...  NaN\n",
      "140  https://www.mccormick.northwestern.edu/compute...  NaN\n",
      "141  https://www.mccormick.northwestern.edu/compute...  NaN\n",
      "\n",
      "[142 rows x 2 columns]\n"
     ]
    }
   ],
   "source": [
    "import pandas as pd # pandas python DB, Excel\n",
    "df = pd.DataFrame(columns=[\"CS_Course\", \"Desc\"])\n",
    "df[\"CS_Course\"] = course_list\n",
    "print(df)"
   ]
  },
  {
   "cell_type": "code",
   "execution_count": 9,
   "metadata": {},
   "outputs": [
    {
     "name": "stdout",
     "output_type": "stream",
     "text": [
      "200\n",
      "200\n",
      "200\n",
      "200\n",
      "200\n",
      "200\n",
      "200\n",
      "200\n",
      "200\n",
      "200\n",
      "200\n",
      "200\n",
      "200\n",
      "200\n",
      "200\n",
      "200\n",
      "200\n",
      "200\n",
      "200\n",
      "200\n",
      "200\n",
      "200\n",
      "200\n",
      "200\n",
      "200\n",
      "200\n",
      "200\n",
      "200\n",
      "200\n",
      "200\n",
      "200\n",
      "200\n",
      "200\n",
      "200\n",
      "200\n",
      "200\n",
      "200\n",
      "200\n",
      "200\n",
      "200\n",
      "200\n",
      "200\n",
      "200\n",
      "200\n",
      "200\n",
      "200\n",
      "200\n",
      "200\n",
      "200\n",
      "200\n",
      "200\n",
      "404\n",
      "200\n",
      "200\n",
      "200\n",
      "200\n",
      "200\n",
      "200\n",
      "200\n",
      "200\n",
      "200\n",
      "200\n",
      "200\n",
      "200\n",
      "200\n",
      "200\n",
      "200\n",
      "200\n",
      "200\n",
      "200\n",
      "200\n",
      "200\n",
      "200\n",
      "200\n",
      "200\n",
      "200\n",
      "200\n",
      "200\n",
      "200\n",
      "200\n",
      "200\n",
      "200\n",
      "200\n",
      "200\n",
      "200\n",
      "200\n",
      "200\n",
      "200\n",
      "200\n",
      "200\n",
      "200\n",
      "200\n",
      "200\n",
      "200\n",
      "200\n",
      "200\n",
      "200\n",
      "200\n",
      "200\n",
      "200\n",
      "200\n",
      "200\n",
      "200\n",
      "200\n",
      "200\n",
      "200\n",
      "200\n",
      "200\n",
      "200\n",
      "200\n",
      "200\n",
      "200\n",
      "200\n",
      "200\n",
      "200\n",
      "200\n",
      "200\n",
      "200\n",
      "200\n",
      "200\n",
      "200\n",
      "200\n",
      "200\n",
      "200\n",
      "200\n",
      "200\n",
      "200\n",
      "200\n",
      "200\n",
      "200\n",
      "200\n",
      "200\n",
      "200\n",
      "200\n",
      "200\n",
      "200\n",
      "200\n",
      "200\n",
      "200\n",
      "200\n",
      "200\n",
      "200\n"
     ]
    }
   ],
   "source": [
    "# take a few minutes\n",
    "import time\n",
    "for idx in df.index:\n",
    "    response = requests.get(df.loc[idx, \"CS_Course\"])\n",
    "    print(response.status_code)\n",
    "    soup = BeautifulSoup(response.text, \"html.parser\")\n",
    "    content_list = soup.select(\"#main-content p\")\n",
    "    df.at[idx, \"Desc\"] = content_list[0]\n",
    "    # time.sleep(1) # 1초 Sleep\n",
    "    # 이 코드가 정상적으로 실행된 뒤에 넘어가라"
   ]
  },
  {
   "cell_type": "code",
   "execution_count": 10,
   "metadata": {},
   "outputs": [],
   "source": [
    "df.to_csv(\"./course_description.csv\")"
   ]
  },
  {
   "cell_type": "code",
   "execution_count": null,
   "metadata": {},
   "outputs": [],
   "source": []
  }
 ],
 "metadata": {
  "kernelspec": {
   "display_name": "tuto",
   "language": "python",
   "name": "python3"
  },
  "language_info": {
   "codemirror_mode": {
    "name": "ipython",
    "version": 3
   },
   "file_extension": ".py",
   "mimetype": "text/x-python",
   "name": "python",
   "nbconvert_exporter": "python",
   "pygments_lexer": "ipython3",
   "version": "3.11.0"
  },
  "orig_nbformat": 4
 },
 "nbformat": 4,
 "nbformat_minor": 2
}
