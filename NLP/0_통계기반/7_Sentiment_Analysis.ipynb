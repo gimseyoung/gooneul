{
  "cells": [
    {
      "cell_type": "markdown",
      "metadata": {
        "id": "yPyMXdYHE0wn"
      },
      "source": [
        "# 감정분석(Sentiment Analysis)"
      ]
    },
    {
      "cell_type": "markdown",
      "metadata": {
        "id": "j61gv6QEE71q"
      },
      "source": [
        "# 1 사전기반 감정분석"
      ]
    },
    {
      "cell_type": "code",
      "execution_count": null,
      "metadata": {
        "id": "rVgDReTWWlDi"
      },
      "outputs": [],
      "source": [
        "#KnuSentiLex 다운로드\n",
        "!wget https://raw.githubusercontent.com/park1200656/KnuSentiLex/master/pos_pol_word.txt\n",
        "!wget https://raw.githubusercontent.com/park1200656/KnuSentiLex/master/neg_pol_word.txt"
      ]
    },
    {
      "cell_type": "code",
      "execution_count": 2,
      "metadata": {
        "colab": {
          "base_uri": "https://localhost:8080/"
        },
        "id": "p3o_a5Zoc7Qy",
        "outputId": "4ae8d97a-bb5b-4123-dc8c-411825c1dbbb"
      },
      "outputs": [
        {
          "output_type": "stream",
          "name": "stdout",
          "text": [
            "['(-;', '(^^)', '(^-^)', '(^^*', '(^_^)', '(^o^)', '*^^*', '/^o^\\\\', ':(', \":'-(\"]\n",
            "['가난', '가난뱅이', '가난살이', '가난살이하다', '가난설음', '가난에', '가난에 쪼들려서', '가난하게', '가난하고', '가난하고 어렵다']\n"
          ]
        }
      ],
      "source": [
        "dct = {}\n",
        "\n",
        "# 긍정단어 조회\n",
        "with open(\"pos_pol_word.txt\", \"r\") as f :\n",
        "    dct['pos'] = f.read().split(\"\\n\")[19:]\n",
        "\n",
        "# 부정단어 조회\n",
        "with open(\"neg_pol_word.txt\", \"r\") as f :\n",
        "    dct['neg'] = f.read().split(\"\\n\")[19:]\n",
        "\n",
        "print(dct['pos'][:10])\n",
        "print(dct['neg'][:10])"
      ]
    },
    {
      "cell_type": "code",
      "execution_count": 3,
      "metadata": {
        "id": "IzR_KFqQQ-pN"
      },
      "outputs": [],
      "source": [
        "txt = \"코로나19의 여파로 전 세계 교사들과 학생들 모두 혼란스러운 시기를 보내고 있습니다. 초유의 상황에서도, 학생들을 위해 최선을 다하려는 선생님들의 노력이 계속되고 있는데요. 어려움 속에서, 선생님들은 어떤 방법으로 사랑을 전하고 있을까요? 뉴스G에서 전해드립니다. [리포트] 중국 저장성의 한 산골 마을. 초등학교 교사 왕진량 씨는 지난 2월 말부터, 매일 새벽 다섯 시면 부지런히 집을 나섭니다. 온라인 수업을 받을 수 없는, 깊은 산골 마을에 살고 있는 학생들을 찾아가기 위해서인데요. 선생님이 하루 동안 이동하는 거리는 대략 30km정도. 차도 없이 도보로 네 개의 마을을 돌아다니며 학생들을 만납니다. 매일 이어지는 강행군이지만, 오로지 아이들의 학습이 중단되어서는 안 된다는 생각뿐입니다. 혹시 모를 사태에 대비해 학생들과의 접촉은 최대한 줄입니다. 숙제를 내주고, 검사 후에 모르는 문제를 알려주는 식으로 일대일 수업을 진행하고 있는데요. 아이들에게 배우는 즐거움이 얼마나 소중한 것인지 잘 알기에, 선생님은 이렇게라도 수업을 할 수 있다는 데서 행복을 느낍니다. 영국의 한 초등학교 교사인 젠 포울스 씨는 매일 아침, 무거운 짐을 앞 뒤, 양 옆으로 짊어지고 씩씩하게 발걸음을 옮깁니다. 코로나19로 학교가 문을 닫은 뒤, 형편이 어려운 학생들을 위해 매일 78인분의 점심 도시락을 배달하고 있는데요. 선생님이 재직 중인 초등학교는 전체 학생의 41퍼센트가 무상 급식 대상자이기 때문입니다. 도시락의 무게는 18kg, 걸어야 하는 거리는 8km에 달하지만 기다리는 학생들을 생각하며 지치지 않고 발걸음을 재촉합니다. 학생들은 창문을 통해서 반갑게 인사하기도 하고, 선생님이 볼 수 있게 감사 메시지를 붙여 놓기도 하는데요. 선생님이 정성껏 준비해 손수 배달한 사랑의 도시락. 봉쇄된 도시의 굶주린 아이들에게 소중한 한 끼 식사, 그 이상의 의미가 되고 있습니다. 미국 사우스다코타 주의 중학교 수학 교사인 크리스 와바 씨는, 커다란 화이트보드를 들고 학생의 집을 찾았습니다. 온라인 수업 후, 학생에게 이메일로 방정식 풀이법에 대한 질문을 받았기 때문인데요. 이메일로 답변해주는 것보다 직접 풀이 과정을 보여주는 게 낫다는 생각이었죠. 깜짝 놀란 학생을 마주한 채, 선생님은 현관문 앞에서 열정적으로 문제를 풀기 시작했습니다. 이 열정적인 강의는, 학생이 풀이법을 완벽히 이해할 때까지 이어졌는데요. 바이러스는 전 세계 교실에 혼란을 불러왔지만, 선생님들의 노력은 저마다의 방식으로 계속되고 있습니다. 어려움 속에서도 학생들을 위해 안간힘을 쓰고 있는 모든 선생님들에게, 응원과 박수를 함께 보냅니다.\""
      ]
    },
    {
      "cell_type": "code",
      "execution_count": 4,
      "metadata": {
        "id": "ZTgyj8kJSCkG"
      },
      "outputs": [],
      "source": [
        "# 텍스트에 positive 사전에 있는 토큰이 있는지\n",
        "# 텍스트에 negatvie 사전에 있는 토큰이 있는지\n",
        "pos_count = 0\n",
        "neg_count = 0\n",
        "for token in txt.split():\n",
        "    pos_count += token in dct['pos']\n",
        "    neg_count += token in dct['neg']"
      ]
    },
    {
      "cell_type": "code",
      "execution_count": 5,
      "metadata": {
        "colab": {
          "base_uri": "https://localhost:8080/"
        },
        "id": "TVRRF_5SSiNf",
        "outputId": "66595cc9-67e4-4bb5-c2b7-8c99cc6e7415"
      },
      "outputs": [
        {
          "output_type": "execute_result",
          "data": {
            "text/plain": [
              "(12, 6)"
            ]
          },
          "metadata": {},
          "execution_count": 5
        }
      ],
      "source": [
        "pos_count, neg_count"
      ]
    },
    {
      "cell_type": "markdown",
      "metadata": {
        "id": "anKdEE0eEk8z"
      },
      "source": [
        "# 2 나이브 베이즈 분류기 활용 감정분석"
      ]
    },
    {
      "cell_type": "markdown",
      "metadata": {
        "id": "xTVyt3BRKY7M"
      },
      "source": [
        "## 2.1 간단 예제"
      ]
    },
    {
      "cell_type": "code",
      "execution_count": 42,
      "metadata": {
        "id": "IoLvW8daCLbo"
      },
      "outputs": [],
      "source": [
        "train_data = [\n",
        "    (\"I love you\", \"P\"),\n",
        "    (\"love happy weekend\", \"P\"),\n",
        "    (\"bore work job\", \"N\"),\n",
        "    (\"I hate you\", \"N\"),\n",
        "    (\"bore weekend\", \"N\"),\n",
        "    (\"happy together\", \"P\")\n",
        "]"
      ]
    },
    {
      "cell_type": "code",
      "source": [
        "# Mecab 설치\n",
        "!apt-get update\n",
        "!apt-get install g++ openjdk-8-jdk\n",
        "!pip3 install konlpy JPype1-py3\n",
        "!bash <(curl -s https://raw.githubusercontent.com/konlpy/konlpy/master/scripts/mecab.sh)"
      ],
      "metadata": {
        "id": "dmS-07CBEhl3"
      },
      "execution_count": null,
      "outputs": []
    },
    {
      "cell_type": "code",
      "source": [
        "!pip install mecab-python3"
      ],
      "metadata": {
        "colab": {
          "base_uri": "https://localhost:8080/"
        },
        "id": "vq3AqwDVEtGO",
        "outputId": "7b6edf70-7e79-46de-b7ed-169feee344ea"
      },
      "execution_count": 15,
      "outputs": [
        {
          "output_type": "stream",
          "name": "stdout",
          "text": [
            "Collecting mecab-python3\n",
            "  Downloading mecab_python3-1.0.6-cp310-cp310-manylinux_2_17_x86_64.manylinux2014_x86_64.whl (581 kB)\n",
            "\u001b[?25l     \u001b[90m━━━━━━━━━━━━━━━━━━━━━━━━━━━━━━━━━━━━━━━━\u001b[0m \u001b[32m0.0/581.6 kB\u001b[0m \u001b[31m?\u001b[0m eta \u001b[36m-:--:--\u001b[0m\r\u001b[2K     \u001b[91m━━━━━━\u001b[0m\u001b[90m╺\u001b[0m\u001b[90m━━━━━━━━━━━━━━━━━━━━━━━━━━━━━━━━━\u001b[0m \u001b[32m92.2/581.6 kB\u001b[0m \u001b[31m2.6 MB/s\u001b[0m eta \u001b[36m0:00:01\u001b[0m\r\u001b[2K     \u001b[90m━━━━━━━━━━━━━━━━━━━━━━━━━━━━━━━━━━━━━━━\u001b[0m \u001b[32m581.6/581.6 kB\u001b[0m \u001b[31m8.8 MB/s\u001b[0m eta \u001b[36m0:00:00\u001b[0m\n",
            "\u001b[?25hInstalling collected packages: mecab-python3\n",
            "Successfully installed mecab-python3-1.0.6\n"
          ]
        }
      ]
    },
    {
      "cell_type": "code",
      "source": [
        "from konlpy.tag import Mecab"
      ],
      "metadata": {
        "id": "YbXh4LclH4ed"
      },
      "execution_count": 16,
      "outputs": []
    },
    {
      "cell_type": "code",
      "source": [
        "mecab = Mecab()\n",
        "def my_tokenizer(txt):\n",
        "    return [t for t in mecab.morphs(txt) if len(t) > 1]"
      ],
      "metadata": {
        "id": "6bmGpafKIChI"
      },
      "execution_count": 86,
      "outputs": []
    },
    {
      "cell_type": "code",
      "source": [
        "sentiment_dict.get(0, [])"
      ],
      "metadata": {
        "colab": {
          "base_uri": "https://localhost:8080/"
        },
        "id": "M-YhjWCuLRmh",
        "outputId": "72a26cd2-fe57-4f76-fb83-cbc9415bbacf"
      },
      "execution_count": 31,
      "outputs": [
        {
          "output_type": "execute_result",
          "data": {
            "text/plain": [
              "[]"
            ]
          },
          "metadata": {},
          "execution_count": 31
        }
      ]
    },
    {
      "cell_type": "code",
      "source": [
        "# NLP 토큰 처리를 위한 사전 처리 (token2idx 사전 / 긍정, 부정 별 토큰 목록 사전)\n",
        "unique_tokens = []\n",
        "sentiment_dict = {}\n",
        "for sent, label in train_data:\n",
        "    tokens = sent.split() # my_tokenizer(sent)\n",
        "    sentiment_dict[label] = sentiment_dict.get(label, []) + tokens\n",
        "    unique_tokens.extend(tokens)\n",
        "\n",
        "word2idx = {v:i for i, v in enumerate(set(unique_tokens))}\n",
        "word2idx, sentiment_dict"
      ],
      "metadata": {
        "colab": {
          "base_uri": "https://localhost:8080/"
        },
        "id": "0HJ1S5fjK1SX",
        "outputId": "41c21384-4046-4ae9-c6dc-c10b5f189f77"
      },
      "execution_count": 44,
      "outputs": [
        {
          "output_type": "execute_result",
          "data": {
            "text/plain": [
              "({'work': 0,\n",
              "  'hate': 1,\n",
              "  'you': 2,\n",
              "  'job': 3,\n",
              "  'together': 4,\n",
              "  'I': 5,\n",
              "  'weekend': 6,\n",
              "  'bore': 7,\n",
              "  'happy': 8,\n",
              "  'love': 9},\n",
              " {'P': ['I', 'love', 'you', 'love', 'happy', 'weekend', 'happy', 'together'],\n",
              "  'N': ['bore', 'work', 'job', 'I', 'hate', 'you', 'bore', 'weekend']})"
            ]
          },
          "metadata": {},
          "execution_count": 44
        }
      ]
    },
    {
      "cell_type": "code",
      "source": [
        "# 토큰별로 긍정/부정에서의 조건부 확률 계산\n",
        "sentiment_logs = []\n",
        "k = 0.5\n",
        "for token in word2idx:\n",
        "    temp = []\n",
        "    for label in sentiment_dict:\n",
        "        # 특정 라벨에서 토큰이 몇번 등장하는지 카운트\n",
        "        prob = (sentiment_dict[label].count(token) + k) / (len(sentiment_dict[label]) + 2*k)\n",
        "        temp.append(np.log(prob))\n",
        "    sentiment_logs.append(temp)\n",
        "sentiment_logs"
      ],
      "metadata": {
        "colab": {
          "base_uri": "https://localhost:8080/"
        },
        "id": "VZU8nlKJbisM",
        "outputId": "b732c3ec-2040-4208-f07a-446d0dcd4806"
      },
      "execution_count": 45,
      "outputs": [
        {
          "output_type": "execute_result",
          "data": {
            "text/plain": [
              "[[-2.890371757896165, -1.791759469228055],\n",
              " [-2.890371757896165, -1.791759469228055],\n",
              " [-1.791759469228055, -1.791759469228055],\n",
              " [-2.890371757896165, -1.791759469228055],\n",
              " [-1.791759469228055, -2.890371757896165],\n",
              " [-1.791759469228055, -1.791759469228055],\n",
              " [-1.791759469228055, -1.791759469228055],\n",
              " [-2.890371757896165, -1.2809338454620642],\n",
              " [-1.2809338454620642, -2.890371757896165],\n",
              " [-1.2809338454620642, -2.890371757896165]]"
            ]
          },
          "metadata": {},
          "execution_count": 45
        }
      ]
    },
    {
      "cell_type": "code",
      "source": [
        "sentiment_logs[word2idx['happy']][0] # positive"
      ],
      "metadata": {
        "colab": {
          "base_uri": "https://localhost:8080/"
        },
        "id": "kTe-4mX-K-32",
        "outputId": "226d9744-0ef1-422c-9a30-3d2c5b8dc9c8"
      },
      "execution_count": 47,
      "outputs": [
        {
          "output_type": "execute_result",
          "data": {
            "text/plain": [
              "-1.2809338454620642"
            ]
          },
          "metadata": {},
          "execution_count": 47
        }
      ]
    },
    {
      "cell_type": "code",
      "source": [
        "[v for v in sentiment_dict.values()]\n",
        "total_tokens = len(sum([v for v in sentiment_dict.values()], []))"
      ],
      "metadata": {
        "id": "iW0t6xu0dPBI"
      },
      "execution_count": 55,
      "outputs": []
    },
    {
      "cell_type": "code",
      "source": [
        "prob_logs = []\n",
        "for label in sentiment_dict:\n",
        "    prob_logs.append(np.log(len(sentiment_dict[label]) / total_tokens))\n",
        "\n",
        "prob_logs"
      ],
      "metadata": {
        "colab": {
          "base_uri": "https://localhost:8080/"
        },
        "id": "l8G6tU4-c8Kf",
        "outputId": "9d197905-270b-43aa-8aab-5348b470d520"
      },
      "execution_count": 56,
      "outputs": [
        {
          "output_type": "execute_result",
          "data": {
            "text/plain": [
              "[-0.6931471805599453, -0.6931471805599453]"
            ]
          },
          "metadata": {},
          "execution_count": 56
        }
      ]
    },
    {
      "cell_type": "code",
      "source": [
        "# predict\n",
        "target_text = 'happy weekend'\n",
        "target_tokens = target_text.split()\n",
        "\n",
        "log_sum = ['긍정 log값', '부정 log값']\n",
        "log_sum = [prob_logs[0], prob_logs[1]] # prob_logs.copy()\n",
        "\n",
        "for token in target_tokens:\n",
        "    log_sum[0] += sentiment_logs[word2idx[token]][0]\n",
        "    log_sum[1] += sentiment_logs[word2idx[token]][1]\n",
        "\n",
        "log_sum"
      ],
      "metadata": {
        "colab": {
          "base_uri": "https://localhost:8080/"
        },
        "id": "Evuy2ePMdKz7",
        "outputId": "4cc44492-831a-4055-decf-240f97456ba9"
      },
      "execution_count": 57,
      "outputs": [
        {
          "output_type": "execute_result",
          "data": {
            "text/plain": [
              "[-3.7658404952500644, -5.375278407684165]"
            ]
          },
          "metadata": {},
          "execution_count": 57
        }
      ]
    },
    {
      "cell_type": "code",
      "source": [
        "np.exp(log_sum[0]) / (np.exp(log_sum[0]) + np.exp(log_sum[1])),\\\n",
        " np.exp(log_sum[1]) / (np.exp(log_sum[0]) + np.exp(log_sum[1]))"
      ],
      "metadata": {
        "colab": {
          "base_uri": "https://localhost:8080/"
        },
        "id": "_eaQ-cpze2Jk",
        "outputId": "53928ce7-fae7-4e43-a062-4fdc85833401"
      },
      "execution_count": 62,
      "outputs": [
        {
          "output_type": "execute_result",
          "data": {
            "text/plain": [
              "(0.8333333333333334, 0.1666666666666666)"
            ]
          },
          "metadata": {},
          "execution_count": 62
        }
      ]
    },
    {
      "cell_type": "code",
      "source": [
        "# NBC 구현\n",
        "# 영문 / 한글 텍스트 전처리 (토큰화, 불용어 처리, 원형복원 등)\n",
        "# 토큰화 시 단순하게 .split()을 사용할 수도 있지만, Mecab을 활용할 수도 있음\n",
        "\n",
        "class NBC:\n",
        "    \"\"\"\n",
        "    나이브 베이즈 분류기 모델 클래스\n",
        "    word2idx\n",
        "    sentiment_logs\n",
        "    log_probs\n",
        "    \"\"\"\n",
        "    def __init__(self, k=0.5, tokenizer=None):\n",
        "        self.tokenizer = tokenizer\n",
        "        self.k = k\n",
        "\n",
        "    def fit(self, train_data:list[tuple]) -> None:\n",
        "        # NLP 학습을 위한 사전 처리\n",
        "            # 1. 전체 문서 토큰화\n",
        "            # 2. 토큰 사전 구축\n",
        "        unique_tokens = []\n",
        "        sentiment_dict = {}\n",
        "        for sent, label in train_data:\n",
        "            tokens = self.tokenizer(sent) if self.tokenizer else sent.split()\n",
        "            sentiment_dict[label] = sentiment_dict.get(label, []) + tokens\n",
        "            unique_tokens += tokens\n",
        "\n",
        "        word2idx = {k: i for i, k in enumerate(set(unique_tokens))}\n",
        "        self.word2idx = word2idx\n",
        "\n",
        "        # 토큰들의 사전 확률(조건부확률=우도) 계산\n",
        "            # 1. 긍정/부정 별 토큰 데이터 구축\n",
        "            # 2. 긍정에서 토큰이 몇 번 등장하였는지 / 부정에서 토큰이 몇 번 등장하였는지 카운팅\n",
        "            # 3. 긍정/부정 별 조건부 확률 계산 (laplace smoothing)\n",
        "            # 4. 언더플로우 방지를 위한 log 씌우기\n",
        "        sentiment_logs = []\n",
        "        for token in word2idx:\n",
        "            temp = []\n",
        "            for label in sentiment_dict:\n",
        "                prob = (sentiment_dict[label].count(token) + self.k) / (len(sentiment_dict[label]) + 2 * self.k)\n",
        "                temp.append(np.log(prob))\n",
        "            sentiment_logs.append(temp)\n",
        "        self.sentiment_logs = sentiment_logs\n",
        "\n",
        "        # 긍정 / 부정 사전확률 계산\n",
        "            # 긍정 토큰 수 / 전체 토큰 수\n",
        "            # 부정 토큰 수 / 전체 토큰 수\n",
        "            # log 씌우기\n",
        "        log_probs = []\n",
        "        for label in sentiment_dict:\n",
        "            log_probs.append(np.log(len(sentiment_dict[label]) / len(unique_tokens)))\n",
        "        self.log_probs = log_probs\n",
        "\n",
        "    def predict(self, test_data: list[str]) -> list[int]:\n",
        "        # 텍스트가 주어졌을 때, 긍정 / 부정으로 분류\n",
        "        # P(긍정|단어들) =\n",
        "        # P(긍정) * P(단어1|긍정) * P(단어2|긍정) * ... * P(단어n|긍정)\n",
        "        # P(긍정) * P(단어1|긍정) * P(단어2|긍정) * ... * P(단어n|긍정) +\n",
        "        # P(부정) * P(단어1|부정) * P(단어2|부정) * ... * P(단어n|부정)\n",
        "        # P(부정|단어들)\n",
        "        result = []\n",
        "        for target_text in test_data:\n",
        "            target_tokens = self.tokenizer(target_text) if self.tokenizer else target_text.split()\n",
        "            log_sum = self.log_probs.copy() # []\n",
        "            for token in target_tokens:\n",
        "                # 생각해볼 사항: 학습하지못한 토큰 처리를 어떻게 할 것인가? try-except, containment_test\n",
        "                if token in self.word2idx:\n",
        "                    for label_idx in range(len(log_sum)):\n",
        "                        log_sum[label_idx] += self.sentiment_logs[self.word2idx[token]][label_idx]\n",
        "            predict_prob = []\n",
        "            for l in log_sum:\n",
        "                predict_prob.append(np.exp(l) / sum([np.exp(v) for v in log_sum]))\n",
        "            result.append(np.argmax(predict_prob))\n",
        "\n",
        "        return result\n"
      ],
      "metadata": {
        "id": "V4BXS9J89yiN"
      },
      "execution_count": 95,
      "outputs": []
    },
    {
      "cell_type": "code",
      "source": [
        "nbc = NBC()\n",
        "nbc.fit(train_data)"
      ],
      "metadata": {
        "id": "Yins6kLh_qFa"
      },
      "execution_count": 96,
      "outputs": []
    },
    {
      "cell_type": "code",
      "source": [
        "nbc.predict([sent for sent, v in train_data])"
      ],
      "metadata": {
        "colab": {
          "base_uri": "https://localhost:8080/"
        },
        "id": "0D3cf-ADle7G",
        "outputId": "b1d25f8f-7422-4e77-fbb9-938293e880f3"
      },
      "execution_count": 80,
      "outputs": [
        {
          "output_type": "stream",
          "name": "stdout",
          "text": [
            "[0.8333333333333331, 0.16666666666666677]\n",
            "[0.9615384615384616, 0.03846153846153839]\n",
            "[0.02173913043478259, 0.9782608695652173]\n",
            "[0.25000000000000017, 0.7499999999999999]\n",
            "[0.1666666666666666, 0.8333333333333334]\n",
            "[0.9375, 0.062499999999999944]\n"
          ]
        },
        {
          "output_type": "execute_result",
          "data": {
            "text/plain": [
              "[0, 0, 1, 1, 1, 0]"
            ]
          },
          "metadata": {},
          "execution_count": 80
        }
      ]
    },
    {
      "cell_type": "code",
      "source": [],
      "metadata": {
        "id": "mDKI_wa8lsr1"
      },
      "execution_count": null,
      "outputs": []
    },
    {
      "cell_type": "code",
      "execution_count": null,
      "metadata": {
        "id": "tUNAlJcICqQj"
      },
      "outputs": [],
      "source": [
        "X_train = [t[0] for t in text]\n",
        "Y_train = [t[1] for t in text]\n",
        "X_train"
      ]
    },
    {
      "cell_type": "code",
      "execution_count": null,
      "metadata": {
        "id": "b8MGr_sZibyp"
      },
      "outputs": [],
      "source": [
        "from sklearn.feature_extraction.text import CountVectorizer\n",
        "from sklearn.naive_bayes import MultinomialNB\n",
        "\n",
        "count_vect = CountVectorizer()\n",
        "X_train_counts = count_vect.fit_transform(X_train)\n",
        "clf = MultinomialNB().fit(X_train_counts, Y_train)"
      ]
    },
    {
      "cell_type": "code",
      "execution_count": null,
      "metadata": {
        "id": "x8zJ50ooDOTq"
      },
      "outputs": [],
      "source": [
        "print(clf.predict(count_vect.transform([\"happy weekend\"])))\n",
        "print(clf.predict_proba(count_vect.transform([\"happy weekend\"])))"
      ]
    },
    {
      "cell_type": "code",
      "execution_count": null,
      "metadata": {
        "id": "4r34wFrfGzOo"
      },
      "outputs": [],
      "source": []
    },
    {
      "cell_type": "markdown",
      "metadata": {
        "id": "ZFINscB8FS7Q"
      },
      "source": [
        "## 2.2 네이버 영화 리뷰 감정분석"
      ]
    },
    {
      "cell_type": "code",
      "execution_count": 81,
      "metadata": {
        "colab": {
          "base_uri": "https://localhost:8080/"
        },
        "id": "ovFtoItjDfFs",
        "outputId": "78003896-d70b-49d6-e0bc-ccf3fb45cb98"
      },
      "outputs": [
        {
          "output_type": "stream",
          "name": "stdout",
          "text": [
            "--2023-08-11 08:16:26--  https://github.com/e9t/nsmc/raw/master/ratings.txt\n",
            "Resolving github.com (github.com)... 140.82.112.3\n",
            "Connecting to github.com (github.com)|140.82.112.3|:443... connected.\n",
            "HTTP request sent, awaiting response... 302 Found\n",
            "Location: https://raw.githubusercontent.com/e9t/nsmc/master/ratings.txt [following]\n",
            "--2023-08-11 08:16:26--  https://raw.githubusercontent.com/e9t/nsmc/master/ratings.txt\n",
            "Resolving raw.githubusercontent.com (raw.githubusercontent.com)... 185.199.108.133, 185.199.109.133, 185.199.110.133, ...\n",
            "Connecting to raw.githubusercontent.com (raw.githubusercontent.com)|185.199.108.133|:443... connected.\n",
            "HTTP request sent, awaiting response... 200 OK\n",
            "Length: 19515078 (19M) [text/plain]\n",
            "Saving to: ‘ratings.txt.1’\n",
            "\n",
            "ratings.txt.1       100%[===================>]  18.61M  --.-KB/s    in 0.06s   \n",
            "\n",
            "2023-08-11 08:16:27 (316 MB/s) - ‘ratings.txt.1’ saved [19515078/19515078]\n",
            "\n"
          ]
        }
      ],
      "source": [
        "# 네이버 영화 리뷰 다운로드\n",
        "!wget https://github.com/e9t/nsmc/raw/master/ratings.txt"
      ]
    },
    {
      "cell_type": "code",
      "execution_count": 82,
      "metadata": {
        "id": "gQIY8T7NFe0n"
      },
      "outputs": [],
      "source": [
        "import pandas as pd\n",
        "import numpy as np\n",
        "df = pd.read_csv(\"./ratings.txt\",sep='\\t').dropna()"
      ]
    },
    {
      "cell_type": "code",
      "source": [
        "df"
      ],
      "metadata": {
        "colab": {
          "base_uri": "https://localhost:8080/",
          "height": 485
        },
        "id": "lTh4BAVO9-ji",
        "outputId": "4b404a55-ae77-43af-8958-9bc7da4c58ee"
      },
      "execution_count": 83,
      "outputs": [
        {
          "output_type": "execute_result",
          "data": {
            "text/plain": [
              "              id                                           document  label\n",
              "0        8112052                                어릴때보고 지금다시봐도 재밌어요ㅋㅋ      1\n",
              "1        8132799  디자인을 배우는 학생으로, 외국디자이너와 그들이 일군 전통을 통해 발전해가는 문화산...      1\n",
              "2        4655635               폴리스스토리 시리즈는 1부터 뉴까지 버릴께 하나도 없음.. 최고.      1\n",
              "3        9251303  와.. 연기가 진짜 개쩔구나.. 지루할거라고 생각했는데 몰입해서 봤다.. 그래 이런...      1\n",
              "4       10067386                        안개 자욱한 밤하늘에 떠 있는 초승달 같은 영화.      1\n",
              "...          ...                                                ...    ...\n",
              "199995   8963373                                     포켓 몬스터 짜가 ㅡㅡ;;      0\n",
              "199996   3302770                                              쓰.레.기      0\n",
              "199997   5458175                  완전 사이코영화. 마지막은 더욱더 이 영화의질을 떨어트린다.      0\n",
              "199998   6908648                왜난 재미없었지 ㅠㅠ 라따뚜이 보고나서 스머프 봐서 그런가 ㅋㅋ      0\n",
              "199999   8548411                                    포풍저그가나가신다영차영차영차      0\n",
              "\n",
              "[199992 rows x 3 columns]"
            ],
            "text/html": [
              "\n",
              "\n",
              "  <div id=\"df-22020fb0-004e-480e-9a85-14190d81f915\">\n",
              "    <div class=\"colab-df-container\">\n",
              "      <div>\n",
              "<style scoped>\n",
              "    .dataframe tbody tr th:only-of-type {\n",
              "        vertical-align: middle;\n",
              "    }\n",
              "\n",
              "    .dataframe tbody tr th {\n",
              "        vertical-align: top;\n",
              "    }\n",
              "\n",
              "    .dataframe thead th {\n",
              "        text-align: right;\n",
              "    }\n",
              "</style>\n",
              "<table border=\"1\" class=\"dataframe\">\n",
              "  <thead>\n",
              "    <tr style=\"text-align: right;\">\n",
              "      <th></th>\n",
              "      <th>id</th>\n",
              "      <th>document</th>\n",
              "      <th>label</th>\n",
              "    </tr>\n",
              "  </thead>\n",
              "  <tbody>\n",
              "    <tr>\n",
              "      <th>0</th>\n",
              "      <td>8112052</td>\n",
              "      <td>어릴때보고 지금다시봐도 재밌어요ㅋㅋ</td>\n",
              "      <td>1</td>\n",
              "    </tr>\n",
              "    <tr>\n",
              "      <th>1</th>\n",
              "      <td>8132799</td>\n",
              "      <td>디자인을 배우는 학생으로, 외국디자이너와 그들이 일군 전통을 통해 발전해가는 문화산...</td>\n",
              "      <td>1</td>\n",
              "    </tr>\n",
              "    <tr>\n",
              "      <th>2</th>\n",
              "      <td>4655635</td>\n",
              "      <td>폴리스스토리 시리즈는 1부터 뉴까지 버릴께 하나도 없음.. 최고.</td>\n",
              "      <td>1</td>\n",
              "    </tr>\n",
              "    <tr>\n",
              "      <th>3</th>\n",
              "      <td>9251303</td>\n",
              "      <td>와.. 연기가 진짜 개쩔구나.. 지루할거라고 생각했는데 몰입해서 봤다.. 그래 이런...</td>\n",
              "      <td>1</td>\n",
              "    </tr>\n",
              "    <tr>\n",
              "      <th>4</th>\n",
              "      <td>10067386</td>\n",
              "      <td>안개 자욱한 밤하늘에 떠 있는 초승달 같은 영화.</td>\n",
              "      <td>1</td>\n",
              "    </tr>\n",
              "    <tr>\n",
              "      <th>...</th>\n",
              "      <td>...</td>\n",
              "      <td>...</td>\n",
              "      <td>...</td>\n",
              "    </tr>\n",
              "    <tr>\n",
              "      <th>199995</th>\n",
              "      <td>8963373</td>\n",
              "      <td>포켓 몬스터 짜가 ㅡㅡ;;</td>\n",
              "      <td>0</td>\n",
              "    </tr>\n",
              "    <tr>\n",
              "      <th>199996</th>\n",
              "      <td>3302770</td>\n",
              "      <td>쓰.레.기</td>\n",
              "      <td>0</td>\n",
              "    </tr>\n",
              "    <tr>\n",
              "      <th>199997</th>\n",
              "      <td>5458175</td>\n",
              "      <td>완전 사이코영화. 마지막은 더욱더 이 영화의질을 떨어트린다.</td>\n",
              "      <td>0</td>\n",
              "    </tr>\n",
              "    <tr>\n",
              "      <th>199998</th>\n",
              "      <td>6908648</td>\n",
              "      <td>왜난 재미없었지 ㅠㅠ 라따뚜이 보고나서 스머프 봐서 그런가 ㅋㅋ</td>\n",
              "      <td>0</td>\n",
              "    </tr>\n",
              "    <tr>\n",
              "      <th>199999</th>\n",
              "      <td>8548411</td>\n",
              "      <td>포풍저그가나가신다영차영차영차</td>\n",
              "      <td>0</td>\n",
              "    </tr>\n",
              "  </tbody>\n",
              "</table>\n",
              "<p>199992 rows × 3 columns</p>\n",
              "</div>\n",
              "      <button class=\"colab-df-convert\" onclick=\"convertToInteractive('df-22020fb0-004e-480e-9a85-14190d81f915')\"\n",
              "              title=\"Convert this dataframe to an interactive table.\"\n",
              "              style=\"display:none;\">\n",
              "\n",
              "  <svg xmlns=\"http://www.w3.org/2000/svg\" height=\"24px\"viewBox=\"0 0 24 24\"\n",
              "       width=\"24px\">\n",
              "    <path d=\"M0 0h24v24H0V0z\" fill=\"none\"/>\n",
              "    <path d=\"M18.56 5.44l.94 2.06.94-2.06 2.06-.94-2.06-.94-.94-2.06-.94 2.06-2.06.94zm-11 1L8.5 8.5l.94-2.06 2.06-.94-2.06-.94L8.5 2.5l-.94 2.06-2.06.94zm10 10l.94 2.06.94-2.06 2.06-.94-2.06-.94-.94-2.06-.94 2.06-2.06.94z\"/><path d=\"M17.41 7.96l-1.37-1.37c-.4-.4-.92-.59-1.43-.59-.52 0-1.04.2-1.43.59L10.3 9.45l-7.72 7.72c-.78.78-.78 2.05 0 2.83L4 21.41c.39.39.9.59 1.41.59.51 0 1.02-.2 1.41-.59l7.78-7.78 2.81-2.81c.8-.78.8-2.07 0-2.86zM5.41 20L4 18.59l7.72-7.72 1.47 1.35L5.41 20z\"/>\n",
              "  </svg>\n",
              "      </button>\n",
              "\n",
              "\n",
              "\n",
              "    <div id=\"df-cb065404-e3eb-4619-8405-a623189046f5\">\n",
              "      <button class=\"colab-df-quickchart\" onclick=\"quickchart('df-cb065404-e3eb-4619-8405-a623189046f5')\"\n",
              "              title=\"Suggest charts.\"\n",
              "              style=\"display:none;\">\n",
              "\n",
              "<svg xmlns=\"http://www.w3.org/2000/svg\" height=\"24px\"viewBox=\"0 0 24 24\"\n",
              "     width=\"24px\">\n",
              "    <g>\n",
              "        <path d=\"M19 3H5c-1.1 0-2 .9-2 2v14c0 1.1.9 2 2 2h14c1.1 0 2-.9 2-2V5c0-1.1-.9-2-2-2zM9 17H7v-7h2v7zm4 0h-2V7h2v10zm4 0h-2v-4h2v4z\"/>\n",
              "    </g>\n",
              "</svg>\n",
              "      </button>\n",
              "    </div>\n",
              "\n",
              "<style>\n",
              "  .colab-df-quickchart {\n",
              "    background-color: #E8F0FE;\n",
              "    border: none;\n",
              "    border-radius: 50%;\n",
              "    cursor: pointer;\n",
              "    display: none;\n",
              "    fill: #1967D2;\n",
              "    height: 32px;\n",
              "    padding: 0 0 0 0;\n",
              "    width: 32px;\n",
              "  }\n",
              "\n",
              "  .colab-df-quickchart:hover {\n",
              "    background-color: #E2EBFA;\n",
              "    box-shadow: 0px 1px 2px rgba(60, 64, 67, 0.3), 0px 1px 3px 1px rgba(60, 64, 67, 0.15);\n",
              "    fill: #174EA6;\n",
              "  }\n",
              "\n",
              "  [theme=dark] .colab-df-quickchart {\n",
              "    background-color: #3B4455;\n",
              "    fill: #D2E3FC;\n",
              "  }\n",
              "\n",
              "  [theme=dark] .colab-df-quickchart:hover {\n",
              "    background-color: #434B5C;\n",
              "    box-shadow: 0px 1px 3px 1px rgba(0, 0, 0, 0.15);\n",
              "    filter: drop-shadow(0px 1px 2px rgba(0, 0, 0, 0.3));\n",
              "    fill: #FFFFFF;\n",
              "  }\n",
              "</style>\n",
              "\n",
              "    <script>\n",
              "      async function quickchart(key) {\n",
              "        const containerElement = document.querySelector('#' + key);\n",
              "        const charts = await google.colab.kernel.invokeFunction(\n",
              "            'suggestCharts', [key], {});\n",
              "      }\n",
              "    </script>\n",
              "\n",
              "      <script>\n",
              "\n",
              "function displayQuickchartButton(domScope) {\n",
              "  let quickchartButtonEl =\n",
              "    domScope.querySelector('#df-cb065404-e3eb-4619-8405-a623189046f5 button.colab-df-quickchart');\n",
              "  quickchartButtonEl.style.display =\n",
              "    google.colab.kernel.accessAllowed ? 'block' : 'none';\n",
              "}\n",
              "\n",
              "        displayQuickchartButton(document);\n",
              "      </script>\n",
              "      <style>\n",
              "    .colab-df-container {\n",
              "      display:flex;\n",
              "      flex-wrap:wrap;\n",
              "      gap: 12px;\n",
              "    }\n",
              "\n",
              "    .colab-df-convert {\n",
              "      background-color: #E8F0FE;\n",
              "      border: none;\n",
              "      border-radius: 50%;\n",
              "      cursor: pointer;\n",
              "      display: none;\n",
              "      fill: #1967D2;\n",
              "      height: 32px;\n",
              "      padding: 0 0 0 0;\n",
              "      width: 32px;\n",
              "    }\n",
              "\n",
              "    .colab-df-convert:hover {\n",
              "      background-color: #E2EBFA;\n",
              "      box-shadow: 0px 1px 2px rgba(60, 64, 67, 0.3), 0px 1px 3px 1px rgba(60, 64, 67, 0.15);\n",
              "      fill: #174EA6;\n",
              "    }\n",
              "\n",
              "    [theme=dark] .colab-df-convert {\n",
              "      background-color: #3B4455;\n",
              "      fill: #D2E3FC;\n",
              "    }\n",
              "\n",
              "    [theme=dark] .colab-df-convert:hover {\n",
              "      background-color: #434B5C;\n",
              "      box-shadow: 0px 1px 3px 1px rgba(0, 0, 0, 0.15);\n",
              "      filter: drop-shadow(0px 1px 2px rgba(0, 0, 0, 0.3));\n",
              "      fill: #FFFFFF;\n",
              "    }\n",
              "  </style>\n",
              "\n",
              "      <script>\n",
              "        const buttonEl =\n",
              "          document.querySelector('#df-22020fb0-004e-480e-9a85-14190d81f915 button.colab-df-convert');\n",
              "        buttonEl.style.display =\n",
              "          google.colab.kernel.accessAllowed ? 'block' : 'none';\n",
              "\n",
              "        async function convertToInteractive(key) {\n",
              "          const element = document.querySelector('#df-22020fb0-004e-480e-9a85-14190d81f915');\n",
              "          const dataTable =\n",
              "            await google.colab.kernel.invokeFunction('convertToInteractive',\n",
              "                                                     [key], {});\n",
              "          if (!dataTable) return;\n",
              "\n",
              "          const docLinkHtml = 'Like what you see? Visit the ' +\n",
              "            '<a target=\"_blank\" href=https://colab.research.google.com/notebooks/data_table.ipynb>data table notebook</a>'\n",
              "            + ' to learn more about interactive tables.';\n",
              "          element.innerHTML = '';\n",
              "          dataTable['output_type'] = 'display_data';\n",
              "          await google.colab.output.renderOutput(dataTable, element);\n",
              "          const docLink = document.createElement('div');\n",
              "          docLink.innerHTML = docLinkHtml;\n",
              "          element.appendChild(docLink);\n",
              "        }\n",
              "      </script>\n",
              "    </div>\n",
              "  </div>\n"
            ]
          },
          "metadata": {},
          "execution_count": 83
        }
      ]
    },
    {
      "cell_type": "code",
      "source": [],
      "metadata": {
        "id": "ZEx1le7Uqxk5"
      },
      "execution_count": null,
      "outputs": []
    },
    {
      "cell_type": "code",
      "execution_count": 84,
      "metadata": {
        "id": "gJnjV-KQFnga",
        "colab": {
          "base_uri": "https://localhost:8080/"
        },
        "outputId": "5bbfa8df-97dc-4020-f4cb-7ee544dd4ecb"
      },
      "outputs": [
        {
          "output_type": "stream",
          "name": "stderr",
          "text": [
            "/usr/local/lib/python3.10/dist-packages/sklearn/feature_extraction/text.py:528: UserWarning: The parameter 'token_pattern' will not be used since 'tokenizer' is not None'\n",
            "  warnings.warn(\n"
          ]
        }
      ],
      "source": [
        "from sklearn.model_selection import train_test_split\n",
        "from sklearn.feature_extraction.text import CountVectorizer\n",
        "from sklearn.feature_extraction.text import TfidfTransformer\n",
        "from sklearn.naive_bayes import MultinomialNB\n",
        "\n",
        "def mytokenizer(x) :\n",
        "    return x.split()\n",
        "\n",
        "X_train, X_test, y_train, y_test = train_test_split(df['document'], df['label'], random_state = 0)\n",
        "count_vect = CountVectorizer(tokenizer=mytokenizer)\n",
        "X_train_counts = count_vect.fit_transform(X_train)\n",
        "tfidf_transformer = TfidfTransformer()\n",
        "X_train_tfidf = tfidf_transformer.fit_transform(X_train_counts)\n",
        "\n",
        "clf = MultinomialNB().fit(X_train_tfidf, y_train)"
      ]
    },
    {
      "cell_type": "code",
      "execution_count": null,
      "metadata": {
        "id": "yGtZtN1YJVKP"
      },
      "outputs": [],
      "source": [
        "count_vect.vocabulary_"
      ]
    },
    {
      "cell_type": "code",
      "execution_count": 13,
      "metadata": {
        "colab": {
          "base_uri": "https://localhost:8080/"
        },
        "id": "2Qecu_93Hwu7",
        "outputId": "6042be13-04ae-46a7-e094-ec40564f7af9"
      },
      "outputs": [
        {
          "output_type": "execute_result",
          "data": {
            "text/plain": [
              "78888                     진짜 개웃김 ㅋㅋㅋ 이런 코드너무 좋다 언능 2나왔음 좋겠다\n",
              "49058     고속버스타고 가는 길에 핸드폰으로 보다가 울었네요 ㅠㅠ 아 슬픈듯.. 개인적으로 진...\n",
              "101711                           개성 없는 모방 일색의 유치하고 가벼운 오락물.\n",
              "97260     상처가없는이들에겐 갖혀있는소녀의 저질액션 미친영화이겠으나 나에겐 꿈처럼시작해서 미련...\n",
              "53590                               아 다시 보고 싶은데 디비디가 안나온다..\n",
              "62095                                            김민종씨 멋집니다.\n",
              "36349          무식하게 거대한 원양어선으로 대량포획하는 미국, 일본 등등 국가들은 반성해라!!\n",
              "151288                                        콜럼버스는 사기꾼이었다!\n",
              "88072                                           재미있어요 재미있어요\n",
              "117532    일주일에 한번봐도 대충 내용이 감이 오는 뻔한 스토리젤 짜증나는건 민세현? 연기 못...\n",
              "Name: document, dtype: object"
            ]
          },
          "metadata": {},
          "execution_count": 13
        }
      ],
      "source": [
        "X_test[:10]"
      ]
    },
    {
      "cell_type": "code",
      "execution_count": 12,
      "metadata": {
        "colab": {
          "base_uri": "https://localhost:8080/"
        },
        "id": "xPzdSWaRFvV1",
        "outputId": "6a654cc7-12d1-499b-c709-f6f6c027fc99"
      },
      "outputs": [
        {
          "output_type": "execute_result",
          "data": {
            "text/plain": [
              "0.8068522740909636"
            ]
          },
          "metadata": {},
          "execution_count": 12
        }
      ],
      "source": [
        "X_new_counts = count_vect.transform(X_test)\n",
        "X_new_tfidf = tfidf_transformer.transform(X_new_counts)\n",
        "\n",
        "predicted = clf.predict(X_new_counts)\n",
        "np.mean(predicted == y_test)"
      ]
    },
    {
      "cell_type": "code",
      "source": [
        "# nbc 적용\n",
        "nbc = NBC(tokenizer=my_tokenizer)"
      ],
      "metadata": {
        "id": "fM_gLxfy-G1s"
      },
      "execution_count": 98,
      "outputs": []
    },
    {
      "cell_type": "code",
      "source": [
        "nbc.fit()"
      ],
      "metadata": {
        "colab": {
          "base_uri": "https://localhost:8080/"
        },
        "id": "gm7qK0b8rPtD",
        "outputId": "492f421c-2940-44fb-8211-5e5d09dae90b"
      },
      "execution_count": 88,
      "outputs": [
        {
          "output_type": "execute_result",
          "data": {
            "text/plain": [
              "<__main__.NBC at 0x7c481ae9a050>"
            ]
          },
          "metadata": {},
          "execution_count": 88
        }
      ]
    },
    {
      "cell_type": "code",
      "source": [
        "[(x, y) for x, y in zip(X_train, y_train)]"
      ],
      "metadata": {
        "id": "yUwpFU5crQu-"
      },
      "execution_count": null,
      "outputs": []
    },
    {
      "cell_type": "code",
      "source": [
        "nbc.fit(list(zip(X_train[:1000], y_train[:1000])))"
      ],
      "metadata": {
        "id": "5t0BAsiprizc"
      },
      "execution_count": 99,
      "outputs": []
    },
    {
      "cell_type": "code",
      "source": [
        "predicted = nbc.predict(X_test[:1000])"
      ],
      "metadata": {
        "id": "_QHo8IBCr6zr"
      },
      "execution_count": 101,
      "outputs": []
    },
    {
      "cell_type": "code",
      "source": [
        "np.mean(np.array(predicted) == y_test[:1000])"
      ],
      "metadata": {
        "colab": {
          "base_uri": "https://localhost:8080/"
        },
        "id": "wWh987VZwufS",
        "outputId": "ee777171-66df-42e9-c96e-f53b3c533b55"
      },
      "execution_count": 103,
      "outputs": [
        {
          "output_type": "execute_result",
          "data": {
            "text/plain": [
              "0.714"
            ]
          },
          "metadata": {},
          "execution_count": 103
        }
      ]
    },
    {
      "cell_type": "code",
      "source": [],
      "metadata": {
        "id": "DLDSzXz3w66W"
      },
      "execution_count": null,
      "outputs": []
    }
  ],
  "metadata": {
    "colab": {
      "provenance": []
    },
    "kernelspec": {
      "display_name": "base",
      "language": "python",
      "name": "python3"
    },
    "language_info": {
      "name": "python",
      "version": "3.9.13"
    },
    "vscode": {
      "interpreter": {
        "hash": "e508c96042fd7b3aa969c1a8875668ac50b0a6c54de6b2bab6d59ac763cd3db2"
      }
    }
  },
  "nbformat": 4,
  "nbformat_minor": 0
}