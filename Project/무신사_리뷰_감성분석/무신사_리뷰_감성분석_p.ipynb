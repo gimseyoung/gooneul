{
 "cells": [
  {
   "attachments": {},
   "cell_type": "markdown",
   "metadata": {},
   "source": [
    "# 실습 목표: 무신사 리뷰 감성분석"
   ]
  },
  {
   "attachments": {},
   "cell_type": "markdown",
   "metadata": {},
   "source": [
    "## 1. 크롤링\n",
    "  - 크롤링 대상 URL : https://www.musinsa.com/goods/reviews/lists\n",
    "  - 수집하고 싶은 리뷰 사이트는 변경 가능 (올리브영, 네이버 쇼핑 등)\n",
    "  - 필수 수집 데이터 (별점, 리뷰 텍스트)\n",
    "  - 추가 수집 데이터 (상품정보나 유저 정보 등)\n"
   ]
  },
  {
   "cell_type": "code",
   "execution_count": 1,
   "metadata": {},
   "outputs": [],
   "source": [
    "headers = {\n",
    "    'User-Agent': 'Mozilla/5.0 (Windows NT 10.0; Win64; x64) AppleWebKit/537.36 (KHTML, like Gecko) Chrome/114.0.0.0 Safari/537.36'\n",
    "}"
   ]
  },
  {
   "cell_type": "code",
   "execution_count": 2,
   "metadata": {},
   "outputs": [],
   "source": [
    "import requests\n",
    "from bs4 import BeautifulSoup as bs"
   ]
  },
  {
   "cell_type": "code",
   "execution_count": 3,
   "metadata": {},
   "outputs": [],
   "source": [
    "musinsa_url = 'https://www.musinsa.com/goods/reviews/lists'\n",
    "response = requests.get(musinsa_url, headers=headers)\n",
    "soup = bs(response.text, 'html.parser')"
   ]
  },
  {
   "cell_type": "code",
   "execution_count": 4,
   "metadata": {},
   "outputs": [
    {
     "data": {
      "text/plain": [
       "[<div class=\"review-contents__text\">디자인 예쁘고 마음에 드네요 ㅎㅎ <br/>소재도 괜찮고 가벼워서 휘뚜루마뚜루템으로 딱일 것 같아요.<br/>가성비도 좋아요! 추천합니다!</div>,\n",
       " <div class=\"review-contents__text\">저렴하게 잘 샀어요 두께는 초겨울정도에 입으면 될 것 같아요</div>,\n",
       " <div class=\"review-contents__text\">좋은 가격에 좋은 상품 좋게 구매한 거 같아요 흡족</div>,\n",
       " <div class=\"review-contents__text\">조금 작을까봐 M을 시켰더니 생각했던것보단 덜 핏되긴하는데 그래도 질도 좋고 짱짱해요! 여기저기 휘뚜루 입고 다니기 아주 좋습니다:)! 배송도 엄청 빨랐어요!</div>,\n",
       " <div class=\"review-contents__text\">기대 이상입니다! 핏이 너무 마음에 들어요 만족합니다~~</div>,\n",
       " <div class=\"review-contents__text\">잘 입을게요 좋은가격에 좋은퀄의 옷이라 만족해요</div>,\n",
       " <div class=\"review-contents__text\">상품 받고 평가 드립니다.<br/><br/>무신사 판매 베스트 상품인것 만큼, 품질 가성비 면에서 매우 만족스럽습니다.<br/><br/>핏 사이즈 모두 무난하며, 착용감이 편안합니다.<br/><br/>또 재 구매 의향 있습니다.</div>,\n",
       " <div class=\"review-contents__text\">디자인 예쁘고 마음에 드네요 ㅎㅎ <br/>소재도 괜찮고 가벼워서 휘뚜루마뚜루템으로 딱일 것 같아요.<br/>가성비도 좋아요! 추천합니다!</div>,\n",
       " <div class=\"review-contents__text\">배송이<br/>느려서 엄청 기다렸지만, 받으니 너무 좋아요!<br/>깔끔하고 심플한 디자인이 너무 이쁘니다.</div>,\n",
       " <div class=\"review-contents__text\">허리만 좀 크고 나머지는 사이즈 괜찮았어요<br/>그리고 바지가 진짜 예쁩니다 !! </div>,\n",
       " <div class=\"review-contents__text\">옷이 조큼 크게 나옷듯해요<br/>신랑이 175인데 넉넉하고 커보였어요<br/>재질도 괜찮고 색상이 너무예쁜거같아요!</div>,\n",
       " <div class=\"review-contents__text\">사이즈가 많이 크게 나와서 기장 수선하고 허리는 벨트 차고 다녀요 그래도 퐁신한 핏이 예뻐서 애용 중입니다 여름에 입기 딱 좋은 청바지예요</div>,\n",
       " <div class=\"review-contents__text\">배송이<br/>느려서 엄청 기다렸지만, 받으니 너무 좋아요!<br/>깔끔하고 심플한 디자인이 너무 이쁘니다.</div>,\n",
       " <div class=\"review-contents__text\">처음으로 밝은색 바지 입어보는데 너무 예쁜 것 같아요</div>,\n",
       " <div class=\"review-contents__text\">옷이 조큼 크게 나옷듯해요<br/>신랑이 175인데 넉넉하고 커보였어요<br/>재질도 괜찮고 색상이 너무예쁜거같아요!</div>,\n",
       " <div class=\"review-contents__text\">너무좋습니다 여름이 잘입고 있어요 다른색도 구매했습니다 감사해요</div>,\n",
       " <div class=\"review-contents__text\">디자인 예쁘고 마음에 드네요 ㅎㅎ <br/>소재도 괜찮고 가벼워서 휘뚜루마뚜루템으로 딱일 것 같아요.<br/>가성비도 좋아요! 추천합니다!</div>,\n",
       " <div class=\"review-contents__text\">기존거보다 기장이 좀 더 길어져서 오버핏 느낌으로 좋습니다</div>,\n",
       " <div class=\"review-contents__text\">청바지나 조거랑 입으면 딱 예쁠 것 같아요 정사이즈 핏으로 떨어지고 무난하게 늦봄 여름 초가을에 입기 좋습니다 비침이 엄청 큰 편은 아니에요</div>,\n",
       " <div class=\"review-contents__text\">너무좋습니다 여름이 잘입고 있어요 다른색도 구매했습니다</div>]"
      ]
     },
     "execution_count": 4,
     "metadata": {},
     "output_type": "execute_result"
    }
   ],
   "source": [
    "soup.select('.review-contents__text')"
   ]
  },
  {
   "cell_type": "code",
   "execution_count": 10,
   "metadata": {},
   "outputs": [],
   "source": [
    "reviews = soup.select('.review-contents__text')"
   ]
  },
  {
   "cell_type": "code",
   "execution_count": 11,
   "metadata": {},
   "outputs": [
    {
     "name": "stdout",
     "output_type": "stream",
     "text": [
      "디자인 예쁘고 마음에 드네요 ㅎㅎ 소재도 괜찮고 가벼워서 휘뚜루마뚜루템으로 딱일 것 같아요.가성비도 좋아요! 추천합니다!\n",
      "저렴하게 잘 샀어요 두께는 초겨울정도에 입으면 될 것 같아요\n",
      "좋은 가격에 좋은 상품 좋게 구매한 거 같아요 흡족\n",
      "조금 작을까봐 M을 시켰더니 생각했던것보단 덜 핏되긴하는데 그래도 질도 좋고 짱짱해요! 여기저기 휘뚜루 입고 다니기 아주 좋습니다:)! 배송도 엄청 빨랐어요!\n",
      "기대 이상입니다! 핏이 너무 마음에 들어요 만족합니다~~\n",
      "잘 입을게요 좋은가격에 좋은퀄의 옷이라 만족해요\n",
      "상품 받고 평가 드립니다.무신사 판매 베스트 상품인것 만큼, 품질 가성비 면에서 매우 만족스럽습니다.핏 사이즈 모두 무난하며, 착용감이 편안합니다.또 재 구매 의향 있습니다.\n",
      "디자인 예쁘고 마음에 드네요 ㅎㅎ 소재도 괜찮고 가벼워서 휘뚜루마뚜루템으로 딱일 것 같아요.가성비도 좋아요! 추천합니다!\n",
      "배송이느려서 엄청 기다렸지만, 받으니 너무 좋아요!깔끔하고 심플한 디자인이 너무 이쁘니다.\n",
      "허리만 좀 크고 나머지는 사이즈 괜찮았어요그리고 바지가 진짜 예쁩니다 !! \n",
      "옷이 조큼 크게 나옷듯해요신랑이 175인데 넉넉하고 커보였어요재질도 괜찮고 색상이 너무예쁜거같아요!\n",
      "사이즈가 많이 크게 나와서 기장 수선하고 허리는 벨트 차고 다녀요 그래도 퐁신한 핏이 예뻐서 애용 중입니다 여름에 입기 딱 좋은 청바지예요\n",
      "배송이느려서 엄청 기다렸지만, 받으니 너무 좋아요!깔끔하고 심플한 디자인이 너무 이쁘니다.\n",
      "처음으로 밝은색 바지 입어보는데 너무 예쁜 것 같아요\n",
      "옷이 조큼 크게 나옷듯해요신랑이 175인데 넉넉하고 커보였어요재질도 괜찮고 색상이 너무예쁜거같아요!\n",
      "너무좋습니다 여름이 잘입고 있어요 다른색도 구매했습니다 감사해요\n",
      "디자인 예쁘고 마음에 드네요 ㅎㅎ 소재도 괜찮고 가벼워서 휘뚜루마뚜루템으로 딱일 것 같아요.가성비도 좋아요! 추천합니다!\n",
      "기존거보다 기장이 좀 더 길어져서 오버핏 느낌으로 좋습니다\n",
      "청바지나 조거랑 입으면 딱 예쁠 것 같아요 정사이즈 핏으로 떨어지고 무난하게 늦봄 여름 초가을에 입기 좋습니다 비침이 엄청 큰 편은 아니에요\n",
      "너무좋습니다 여름이 잘입고 있어요 다른색도 구매했습니다\n"
     ]
    }
   ],
   "source": [
    "for review in reviews:\n",
    "    print(review.text)"
   ]
  },
  {
   "cell_type": "code",
   "execution_count": 13,
   "metadata": {},
   "outputs": [
    {
     "data": {
      "text/plain": [
       "['디자인 예쁘고 마음에 드네요 ㅎㅎ 소재도 괜찮고 가벼워서 휘뚜루마뚜루템으로 딱일 것 같아요.가성비도 좋아요! 추천합니다!',\n",
       " '저렴하게 잘 샀어요 두께는 초겨울정도에 입으면 될 것 같아요',\n",
       " '좋은 가격에 좋은 상품 좋게 구매한 거 같아요 흡족',\n",
       " '조금 작을까봐 M을 시켰더니 생각했던것보단 덜 핏되긴하는데 그래도 질도 좋고 짱짱해요! 여기저기 휘뚜루 입고 다니기 아주 좋습니다:)! 배송도 엄청 빨랐어요!',\n",
       " '기대 이상입니다! 핏이 너무 마음에 들어요 만족합니다~~',\n",
       " '잘 입을게요 좋은가격에 좋은퀄의 옷이라 만족해요',\n",
       " '상품 받고 평가 드립니다.무신사 판매 베스트 상품인것 만큼, 품질 가성비 면에서 매우 만족스럽습니다.핏 사이즈 모두 무난하며, 착용감이 편안합니다.또 재 구매 의향 있습니다.',\n",
       " '디자인 예쁘고 마음에 드네요 ㅎㅎ 소재도 괜찮고 가벼워서 휘뚜루마뚜루템으로 딱일 것 같아요.가성비도 좋아요! 추천합니다!',\n",
       " '배송이느려서 엄청 기다렸지만, 받으니 너무 좋아요!깔끔하고 심플한 디자인이 너무 이쁘니다.',\n",
       " '허리만 좀 크고 나머지는 사이즈 괜찮았어요그리고 바지가 진짜 예쁩니다 !! ',\n",
       " '옷이 조큼 크게 나옷듯해요신랑이 175인데 넉넉하고 커보였어요재질도 괜찮고 색상이 너무예쁜거같아요!',\n",
       " '사이즈가 많이 크게 나와서 기장 수선하고 허리는 벨트 차고 다녀요 그래도 퐁신한 핏이 예뻐서 애용 중입니다 여름에 입기 딱 좋은 청바지예요',\n",
       " '배송이느려서 엄청 기다렸지만, 받으니 너무 좋아요!깔끔하고 심플한 디자인이 너무 이쁘니다.',\n",
       " '처음으로 밝은색 바지 입어보는데 너무 예쁜 것 같아요',\n",
       " '옷이 조큼 크게 나옷듯해요신랑이 175인데 넉넉하고 커보였어요재질도 괜찮고 색상이 너무예쁜거같아요!',\n",
       " '너무좋습니다 여름이 잘입고 있어요 다른색도 구매했습니다 감사해요',\n",
       " '디자인 예쁘고 마음에 드네요 ㅎㅎ 소재도 괜찮고 가벼워서 휘뚜루마뚜루템으로 딱일 것 같아요.가성비도 좋아요! 추천합니다!',\n",
       " '기존거보다 기장이 좀 더 길어져서 오버핏 느낌으로 좋습니다',\n",
       " '청바지나 조거랑 입으면 딱 예쁠 것 같아요 정사이즈 핏으로 떨어지고 무난하게 늦봄 여름 초가을에 입기 좋습니다 비침이 엄청 큰 편은 아니에요',\n",
       " '너무좋습니다 여름이 잘입고 있어요 다른색도 구매했습니다']"
      ]
     },
     "execution_count": 13,
     "metadata": {},
     "output_type": "execute_result"
    }
   ],
   "source": [
    "result_review = []\n",
    "for review in reviews:\n",
    "    result_review.append(review.text)\n",
    "\n",
    "result_review"
   ]
  },
  {
   "cell_type": "code",
   "execution_count": 31,
   "metadata": {},
   "outputs": [
    {
     "data": {
      "text/plain": [
       "[['width: 100%'],\n",
       " ['width: 80%'],\n",
       " ['width: 100%'],\n",
       " ['width: 100%'],\n",
       " ['width: 100%'],\n",
       " ['width: 100%'],\n",
       " ['width: 100%'],\n",
       " ['width: 100%'],\n",
       " ['width: 100%'],\n",
       " ['width: 100%'],\n",
       " ['width: 100%'],\n",
       " ['width: 100%'],\n",
       " ['width: 100%'],\n",
       " ['width: 100%'],\n",
       " ['width: 100%'],\n",
       " ['width: 100%'],\n",
       " ['width: 100%'],\n",
       " ['width: 100%'],\n",
       " ['width: 100%'],\n",
       " ['width: 100%']]"
      ]
     },
     "execution_count": 31,
     "metadata": {},
     "output_type": "execute_result"
    }
   ],
   "source": [
    "ratings = soup.select('.review-list__rating__active')\n",
    "\n",
    "result_rating = []\n",
    "for rating in ratings:\n",
    "    # print(rating.get_attribute_list('style'))\n",
    "    result_rating.append(rating.get_attribute_list('style'))\n",
    "\n",
    "result_rating"
   ]
  },
  {
   "cell_type": "code",
   "execution_count": null,
   "metadata": {},
   "outputs": [],
   "source": []
  },
  {
   "cell_type": "code",
   "execution_count": null,
   "metadata": {},
   "outputs": [],
   "source": []
  },
  {
   "cell_type": "code",
   "execution_count": null,
   "metadata": {},
   "outputs": [],
   "source": []
  },
  {
   "attachments": {},
   "cell_type": "markdown",
   "metadata": {},
   "source": [
    "## 2. 데이터 전처리\n",
    "  - EDA (데이터 확인, 문장 길이 체크)\n",
    "  - 감성분석 가능하도록 데이터 전처리 (텍스트, 라벨)\n",
    "  - 사전학습 모델을 위한 tokenizer, input_transformer 정의\n",
    "  - 데이터셋, 데이터로더 정의\n"
   ]
  },
  {
   "cell_type": "code",
   "execution_count": null,
   "metadata": {},
   "outputs": [],
   "source": []
  },
  {
   "attachments": {},
   "cell_type": "markdown",
   "metadata": {},
   "source": [
    "## 3. 모델링\n",
    "  - 사전학습 모델 선택, pretrained weight 가져오기\n",
    "  - 모델 커스터마이징 (가져오는 모델에 따라서 num_labels를 수정하거나 linear layer 추가)"
   ]
  },
  {
   "cell_type": "code",
   "execution_count": null,
   "metadata": {},
   "outputs": [],
   "source": []
  },
  {
   "attachments": {},
   "cell_type": "markdown",
   "metadata": {},
   "source": [
    "## 4. 학습\n",
    "  - 옵티마이저, 손실함수 지정\n",
    "  - warmup scheduler 적용\n",
    "  - 학습, 검증"
   ]
  },
  {
   "cell_type": "code",
   "execution_count": null,
   "metadata": {},
   "outputs": [],
   "source": []
  },
  {
   "attachments": {},
   "cell_type": "markdown",
   "metadata": {},
   "source": [
    "## 5. 예측\n",
    "  - 새로운 리뷰 데이터셋에 대하여 예측 (테스트셋)\n",
    "  - predict 함수 정의 (문장 -> 라벨 반환)"
   ]
  },
  {
   "cell_type": "code",
   "execution_count": null,
   "metadata": {},
   "outputs": [],
   "source": []
  },
  {
   "cell_type": "code",
   "execution_count": null,
   "metadata": {},
   "outputs": [],
   "source": []
  }
 ],
 "metadata": {
  "kernelspec": {
   "display_name": "tuto",
   "language": "python",
   "name": "python3"
  },
  "language_info": {
   "codemirror_mode": {
    "name": "ipython",
    "version": 3
   },
   "file_extension": ".py",
   "mimetype": "text/x-python",
   "name": "python",
   "nbconvert_exporter": "python",
   "pygments_lexer": "ipython3",
   "version": "3.11.0"
  },
  "orig_nbformat": 4
 },
 "nbformat": 4,
 "nbformat_minor": 2
}
