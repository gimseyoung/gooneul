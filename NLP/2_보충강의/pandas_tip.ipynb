{
 "cells": [
  {
   "cell_type": "markdown",
   "id": "82a1e6b1-c4e7-4372-a705-bdf1556655dc",
   "metadata": {
    "tags": []
   },
   "source": [
    "# Pandas\n",
    "\n",
    "dtype, astype\n",
    "\n",
    "dtype - Return the dtypes in the DataFrame. This returns a Series with the data type of each column. ( type () )\n",
    "astype - Cast a pandas object to a specified dtype.\n",
    "\n",
    "https://pandas.pydata.org/docs/reference/api/pandas.DataFrame.astype.html"
   ]
  },
  {
   "cell_type": "code",
   "execution_count": 2,
   "id": "596658fd-17f7-4faf-8237-f251dcbed739",
   "metadata": {
    "collapsed": true,
    "jupyter": {
     "outputs_hidden": true
    },
    "tags": []
   },
   "outputs": [
    {
     "name": "stdout",
     "output_type": "stream",
     "text": [
      "   col1  col2\n",
      "0     1     3\n",
      "1     2     4\n",
      "col1    int64\n",
      "col2    int64\n",
      "dtype: object\n",
      "int64\n"
     ]
    },
    {
     "data": {
      "text/plain": [
       "col1    float64\n",
       "col2    float64\n",
       "dtype: object"
      ]
     },
     "execution_count": 2,
     "metadata": {},
     "output_type": "execute_result"
    }
   ],
   "source": [
    "import pandas as pd\n",
    "\n",
    "d = {'col1': [1, 2], 'col2': [3, 4]}\n",
    "df = pd.DataFrame(data=d)\n",
    "print(df)\n",
    "\n",
    "print(df.dtypes)\n",
    "print(df[\"col1\"].dtype)\n",
    "\n",
    "df.astype(\"float\").dtypes"
   ]
  },
  {
   "cell_type": "markdown",
   "id": "b6b5c459-e260-41c3-a608-d20ad36ca5f5",
   "metadata": {},
   "source": [
    "# Pandas\n",
    "\n",
    "copy, deepcopy\n",
    "\n",
    "Make a copy of this object’s indices and data. ( deep=True, deep=False )"
   ]
  },
  {
   "cell_type": "code",
   "execution_count": 3,
   "id": "dd81c00f-c5da-42d5-8735-7eb1b22e1215",
   "metadata": {
    "collapsed": true,
    "jupyter": {
     "outputs_hidden": true
    },
    "tags": []
   },
   "outputs": [
    {
     "name": "stdout",
     "output_type": "stream",
     "text": [
      "   col1  col2\n",
      "0     1     3\n",
      "1     2     4\n",
      "   col1  col2\n",
      "0    99     3\n",
      "1     2     4\n"
     ]
    }
   ],
   "source": [
    "d = {'col1': [1, 2], 'col2': [3, 4]}\n",
    "df = pd.DataFrame(data=d)\n",
    "\n",
    "df_copy_1 = df.copy(deep=True)\n",
    "df_copy_2 = df.copy(deep=False)\n",
    "\n",
    "df.at[0, \"col1\"] = 99\n",
    "print(df_copy_1)\n",
    "print(df_copy_2)"
   ]
  },
  {
   "cell_type": "markdown",
   "id": "3b38854a-15ab-4509-959f-bbf1d1bbdd21",
   "metadata": {},
   "source": [
    "# eval, exec\n",
    "\n",
    "Eval() only evaluates the single expression, not the complex logic code, whereas Exec can be used to execute any number of expression. exec() accept the source code which contains statements like, for, while, print, import, class."
   ]
  },
  {
   "cell_type": "code",
   "execution_count": 4,
   "id": "4cfc57a0-6294-4c86-b8c8-c1af5b6110f4",
   "metadata": {
    "tags": []
   },
   "outputs": [],
   "source": [
    "d = {'col1': [\"[1,2,3,4]\", \"a=3+5\"]}\n",
    "df = pd.DataFrame(data=d)"
   ]
  },
  {
   "cell_type": "code",
   "execution_count": 5,
   "id": "85687281-c210-43bc-bb87-931ed9231a39",
   "metadata": {
    "collapsed": true,
    "jupyter": {
     "outputs_hidden": true
    },
    "tags": []
   },
   "outputs": [
    {
     "name": "stdout",
     "output_type": "stream",
     "text": [
      "[1,2,3,4]\n",
      "a=3+5\n",
      "<class 'str'>\n",
      "<class 'str'>\n",
      "[1, 2, 3, 4]\n",
      "<class 'list'>\n"
     ]
    },
    {
     "data": {
      "text/plain": [
       "8"
      ]
     },
     "execution_count": 5,
     "metadata": {},
     "output_type": "execute_result"
    }
   ],
   "source": [
    "print(df.loc[0, \"col1\"])\n",
    "print(df.loc[1, \"col1\"])\n",
    "print(type(df.loc[0, \"col1\"]))\n",
    "print(type(df.loc[1, \"col1\"]))\n",
    "\n",
    "list_type = eval(df.loc[0, \"col1\"])\n",
    "print(list_type)\n",
    "print(type(list_type))\n",
    "\n",
    "exec(df.loc[1, \"col1\"])\n",
    "a"
   ]
  },
  {
   "cell_type": "markdown",
   "id": "684001e7-17f0-4e31-a161-4e85d6252c90",
   "metadata": {},
   "source": [
    "# groupby\n",
    "\n",
    "https://pandas.pydata.org/docs/reference/api/pandas.DataFrame.groupby.html\n",
    "\n",
    "1. 기준이 될 Group 을 지정해주고\n",
    "2. 기준이 되는 Group 을 중심으로 지정해준 Column 을 연산한다 "
   ]
  },
  {
   "cell_type": "code",
   "execution_count": 6,
   "id": "8db9cb58-ba20-4439-bf6b-039b34592034",
   "metadata": {
    "collapsed": true,
    "jupyter": {
     "outputs_hidden": true
    },
    "tags": []
   },
   "outputs": [
    {
     "data": {
      "text/plain": [
       "col1\n",
       "1    abc\n",
       "2    123\n",
       "Name: col2, dtype: object"
      ]
     },
     "execution_count": 6,
     "metadata": {},
     "output_type": "execute_result"
    }
   ],
   "source": [
    "d = {'col1': [1, 1, 1, 2, 2, 2], 'col2': [10, 20, 30, 100, 200, 300]}\n",
    "df = pd.DataFrame(data=d)\n",
    "df.groupby(\"col1\")[\"col2\"].sum()\n",
    "\n",
    "d = {'col1': [1, 1, 1, 2, 2, 2], 'col2': [\"a\", \"b\", \"c\", \"1\", \"2\", \"3\"]}\n",
    "df = pd.DataFrame(data=d)\n",
    "df.groupby(\"col1\")[\"col2\"].sum()"
   ]
  },
  {
   "cell_type": "markdown",
   "id": "0012c6de-b911-41a9-b6d3-e5f876c6148e",
   "metadata": {
    "tags": []
   },
   "source": [
    "# Pandas\n",
    "\n",
    "Using Python Pandas To Find in DataFrame The Desired Values\n"
   ]
  },
  {
   "cell_type": "code",
   "execution_count": 7,
   "id": "e2f24ed3-35c9-4129-b460-f17fc8782ec2",
   "metadata": {
    "collapsed": true,
    "jupyter": {
     "outputs_hidden": true
    },
    "tags": []
   },
   "outputs": [
    {
     "name": "stdout",
     "output_type": "stream",
     "text": [
      "   col1 col2\n",
      "1     1    b\n",
      "7     3    b\n",
      "   col1 col2\n",
      "7     3    b\n",
      "   col1 col2\n",
      "1     1    b\n",
      "6     3    a\n",
      "7     3    b\n",
      "8     3    c\n"
     ]
    }
   ],
   "source": [
    "d = {'col1': [1, 1, 1, 2, 2, 2, 3, 3, 3], 'col2': [\"a\", \"b\", \"c\", \"1\", \"2\", \"3\", \"a\", \"b\", \"c\"]}\n",
    "df = pd.DataFrame(data=d)\n",
    "\n",
    "con_1 = (df[\"col2\"] == \"b\")\n",
    "ret_1 = df[con_1]\n",
    "print(ret_1)\n",
    "\n",
    "con_2 = (df[\"col1\"] == 3)\n",
    "ret_2 = df[con_1 & con_2]\n",
    "print(ret_2)\n",
    "\n",
    "ret_3 = df[con_1 | con_2]\n",
    "print(ret_3)"
   ]
  },
  {
   "cell_type": "markdown",
   "id": "e6c762bc-a295-453d-b4b3-fc0fe0da3c5d",
   "metadata": {},
   "source": [
    "# Pandas\n",
    "\n",
    "read_csv - Parameter\n",
    "\n",
    "https://pandas.pydata.org/docs/reference/api/pandas.read_csv.html\n",
    "\n",
    "1. usecols -> 불러오고 싶은 column 만 지정해줄 수 있다.\n",
    "2. encoding -> 불러오는 Data 의 Encoding Type 을 지정. \n",
    "3. encoding_errors -> ignore 로 해버리면 강제로 불러올 수 있다.\n",
    "4. header -> column 이 시작되는 위치를 지정해줄 수 있다.\n"
   ]
  },
  {
   "cell_type": "markdown",
   "id": "89f44f26-c69e-4651-be6f-db4c4e3debd7",
   "metadata": {},
   "source": [
    "# Pandas\n",
    "\n",
    "https://pandas.pydata.org/docs/reference/api/pandas.DataFrame.to_excel.html\n",
    "\n",
    "1. to_csv 뿐만 아니라 to_excel 로 사용할 수 있다.\n",
    "2. to_excel 에서의 장점은 Sheet 이름을 지정해줄 수 있다는 점이다.\n",
    "\n",
    "parameter - sheet_name\n"
   ]
  },
  {
   "cell_type": "code",
   "execution_count": 8,
   "id": "c9230e76-d616-43ef-a654-5a6869323cd3",
   "metadata": {
    "tags": []
   },
   "outputs": [],
   "source": [
    "d = {'col1': [1, 1, 1, 2, 2, 2, 3, 3, 3], 'col2': [\"a\", \"b\", \"c\", \"1\", \"2\", \"3\", \"a\", \"b\", \"c\"]}\n",
    "df = pd.DataFrame(data=d)\n",
    "xlsx_writer = pd.ExcelWriter(\"sample_2.xlsx\")\n",
    "df.to_excel(xlsx_writer, sheet_name=\"sheet1\")\n",
    "df.to_excel(xlsx_writer, sheet_name=\"sheet2\")\n",
    "xlsx_writer.close()"
   ]
  },
  {
   "cell_type": "code",
   "execution_count": null,
   "id": "346b76b3-6f39-420f-8c15-9638e0a11a6d",
   "metadata": {},
   "outputs": [],
   "source": []
  }
 ],
 "metadata": {
  "kernelspec": {
   "display_name": "Python 3 (ipykernel)",
   "language": "python",
   "name": "python3"
  },
  "language_info": {
   "codemirror_mode": {
    "name": "ipython",
    "version": 3
   },
   "file_extension": ".py",
   "mimetype": "text/x-python",
   "name": "python",
   "nbconvert_exporter": "python",
   "pygments_lexer": "ipython3",
   "version": "3.9.17"
  }
 },
 "nbformat": 4,
 "nbformat_minor": 5
}
