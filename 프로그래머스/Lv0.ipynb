{
 "cells": [
  {
   "cell_type": "markdown",
   "metadata": {},
   "source": [
    "## 옷가게 할인받기"
   ]
  },
  {
   "cell_type": "code",
   "execution_count": 1,
   "metadata": {},
   "outputs": [],
   "source": [
    "def solution(price):\n",
    "    if price <100000:\n",
    "        return int(price)\n",
    "    elif price <300000:\n",
    "        return int(price*0.95)\n",
    "    elif price <500000:\n",
    "        return int(price*0.9)\n",
    "    else:\n",
    "        return int(price*0.8)"
   ]
  },
  {
   "cell_type": "markdown",
   "metadata": {},
   "source": [
    "## 직각삼각형 출력하기"
   ]
  },
  {
   "cell_type": "code",
   "execution_count": 2,
   "metadata": {},
   "outputs": [
    {
     "name": "stdout",
     "output_type": "stream",
     "text": [
      "*\n",
      "**\n",
      "***\n",
      "****\n",
      "*****\n"
     ]
    }
   ],
   "source": [
    "n = int(input())\n",
    "for i in range(1,n+1):\n",
    "    print('*'*i)"
   ]
  },
  {
   "cell_type": "markdown",
   "metadata": {},
   "source": [
    "# 짝수 홀수 개수"
   ]
  },
  {
   "cell_type": "code",
   "execution_count": 3,
   "metadata": {},
   "outputs": [],
   "source": [
    "def solution(num_list):\n",
    "    odd_num = 0\n",
    "    even_num = 0\n",
    "    for i in num_list:\n",
    "        if i % 2 != 0:\n",
    "            odd_num +=1\n",
    "        elif i % 2 == 0:\n",
    "            even_num +=1 \n",
    "    return [even_num, odd_num]"
   ]
  },
  {
   "cell_type": "markdown",
   "metadata": {},
   "source": [
    "## 양꼬치"
   ]
  },
  {
   "cell_type": "code",
   "execution_count": 5,
   "metadata": {},
   "outputs": [],
   "source": [
    "def solution(n, k):\n",
    "    if n < 10: \n",
    "        return (12000*n) + (2000*k)\n",
    "    elif n >=10:\n",
    "        return (12000*n) + (2000*(k-n//10))"
   ]
  },
  {
   "cell_type": "markdown",
   "metadata": {},
   "source": [
    "## 짝수의 합"
   ]
  },
  {
   "cell_type": "code",
   "execution_count": 6,
   "metadata": {},
   "outputs": [],
   "source": [
    "def solution(n):\n",
    "    arr = list(range(1,n+1))\n",
    "    return sum(arr[1::2])"
   ]
  },
  {
   "cell_type": "markdown",
   "metadata": {},
   "source": [
    "## 진료 순서 정하기"
   ]
  },
  {
   "cell_type": "code",
   "execution_count": 7,
   "metadata": {},
   "outputs": [],
   "source": [
    "def solution(emergency):\n",
    "    answer = []\n",
    "    tmp = sorted(emergency, reverse=True)\n",
    "    for i in emergency:\n",
    "        answer.append(tmp.index(i)+1)\n",
    "    return answer"
   ]
  },
  {
   "cell_type": "markdown",
   "metadata": {},
   "source": [
    "## 순서쌍의 개수"
   ]
  },
  {
   "cell_type": "code",
   "execution_count": null,
   "metadata": {},
   "outputs": [],
   "source": [
    "def solution(n):\n",
    "    answer = []\n",
    "    for i in range(1,n+1):\n",
    "        if n % i == 0:\n",
    "            answer.extend([(i, n//i)])\n",
    "    return len(answer) "
   ]
  },
  {
   "cell_type": "markdown",
   "metadata": {},
   "source": [
    "## 머쓱이보다 키 큰 사람"
   ]
  },
  {
   "cell_type": "code",
   "execution_count": null,
   "metadata": {},
   "outputs": [],
   "source": [
    "def solution(array, height):\n",
    "    array.append(height)\n",
    "    array.sort(reverse=True)\n",
    "    return array.index(height)"
   ]
  },
  {
   "cell_type": "markdown",
   "metadata": {},
   "source": [
    "## k의 개수"
   ]
  },
  {
   "cell_type": "code",
   "execution_count": 1,
   "metadata": {},
   "outputs": [],
   "source": [
    "def solution(i, j, k):\n",
    "    answer = 0\n",
    "    for n in range(i, j + 1):\n",
    "        answer += str(n).count(str(k))\n",
    "    return answer\n",
    "\n",
    "#def solution(i: int, j: int, k: int) -> int:\n",
    "#    answer = 0\n",
    "#    for x in range(i, j + 1):\n",
    "#        answer += sum([1 for x in list(str(x)) if x == str(k)])\n",
    "#    return answer"
   ]
  },
  {
   "cell_type": "markdown",
   "metadata": {},
   "source": [
    "## 구슬을 나누는 경우의 수\n",
    "- 머쓱이는 구슬을 친구들에게 나누어주려고 합니다. 구슬은 모두 다르게 생겼습니다. 머쓱이가 갖고 있는 구슬의 개수 balls와 친구들에게 나누어 줄 구슬 개수 share이 매개변수로 주어질 때, balls개의 구슬 중 share개의 구슬을 고르는 가능한 모든 경우의 수를 return 하는 solution 함수를 완성해주세요."
   ]
  },
  {
   "cell_type": "code",
   "execution_count": 3,
   "metadata": {},
   "outputs": [],
   "source": [
    "from math import factorial as fac\n",
    "\n",
    "def solution(balls, share):\n",
    "    m = fac(balls)\n",
    "    n = fac(share)\n",
    "    bottom = fac(balls-share)*n\n",
    "    return m/bottom"
   ]
  },
  {
   "cell_type": "markdown",
   "metadata": {},
   "source": [
    "## 공 던지기\n",
    "- 머쓱이는 친구들과 동그랗게 서서 공 던지기 게임을 하고 있습니다. 공은 1번부터 던지며 오른쪽으로 한 명을 건너뛰고 그다음 사람에게만 던질 수 있습니다. 친구들의 번호가 들어있는 정수 배열 numbers와 정수 K가 주어질 때, k번째로 공을 던지는 사람의 번호는 무엇인지 return 하도록 solution 함수를 완성해보세요."
   ]
  },
  {
   "cell_type": "code",
   "execution_count": 5,
   "metadata": {},
   "outputs": [],
   "source": [
    "def solution(numbers, k):\n",
    "    answer = numbers[2*(k-1) % len(numbers)]\n",
    "    return answer"
   ]
  },
  {
   "cell_type": "markdown",
   "metadata": {},
   "source": [
    "## 배열 회전시키기\n",
    "- 정수가 담긴 배열 numbers와 문자열 direction가 매개변수로 주어집니다. 배열 numbers의 원소를 direction방향으로 한 칸씩 회전시킨 배열을 return하도록 solution 함수를 완성해주세요."
   ]
  },
  {
   "cell_type": "code",
   "execution_count": 6,
   "metadata": {},
   "outputs": [],
   "source": [
    "def solution(numbers, direction):\n",
    "    answer = []\n",
    "    \n",
    "    if direction == 'right':\n",
    "        answer = numbers[-1:] + numbers[:-1]\n",
    "    elif direction == 'left':\n",
    "        answer = numbers[1:] + numbers[:1]\n",
    "    \n",
    "    return answer"
   ]
  },
  {
   "cell_type": "markdown",
   "metadata": {},
   "source": [
    "## 주사위의 개수\n",
    "- 머쓱이는 직육면체 모양의 상자를 하나 가지고 있는데 이 상자에 정육면체 모양의 주사위를 최대한 많이 채우고 싶습니다. 상자의 가로, 세로, 높이가 저장되어있는 배열 box와 주사위 모서리의 길이 정수 n이 매개변수로 주어졌을 때, 상자에 들어갈 수 있는 주사위의 최대 개수를 return 하도록 solution 함수를 완성해주세요."
   ]
  },
  {
   "cell_type": "code",
   "execution_count": 8,
   "metadata": {},
   "outputs": [],
   "source": [
    "def solution(box, n):\n",
    "    # box의 가로를 n으로 나눈 몫\n",
    "    a = box[0] // n\n",
    "    \n",
    "    # box의 세로를 n으로 나눈 몫\n",
    "    b = box[1] // n\n",
    "    \n",
    "    # box의 높이를 n으로 나눈 몫\n",
    "    c = box[2] // n\n",
    "    \n",
    "    return a*b*c"
   ]
  },
  {
   "cell_type": "markdown",
   "metadata": {},
   "source": [
    "## 합성수 찾기\n",
    "- 약수의 개수가 세 개 이상인 수를 합성수라고 합니다. 자연수 n이 매개변수로 주어질 때 n이하의 합성수의 개수를 return하도록 solution 함수를 완성해주세요."
   ]
  },
  {
   "cell_type": "code",
   "execution_count": null,
   "metadata": {},
   "outputs": [],
   "source": []
  },
  {
   "cell_type": "code",
   "execution_count": null,
   "metadata": {},
   "outputs": [],
   "source": []
  },
  {
   "cell_type": "code",
   "execution_count": null,
   "metadata": {},
   "outputs": [],
   "source": []
  }
 ],
 "metadata": {
  "kernelspec": {
   "display_name": "base",
   "language": "python",
   "name": "python3"
  },
  "language_info": {
   "codemirror_mode": {
    "name": "ipython",
    "version": 3
   },
   "file_extension": ".py",
   "mimetype": "text/x-python",
   "name": "python",
   "nbconvert_exporter": "python",
   "pygments_lexer": "ipython3",
   "version": "3.10.9"
  },
  "orig_nbformat": 4
 },
 "nbformat": 4,
 "nbformat_minor": 2
}
