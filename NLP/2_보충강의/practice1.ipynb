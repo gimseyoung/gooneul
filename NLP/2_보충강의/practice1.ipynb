{
 "cells": [
  {
   "cell_type": "markdown",
   "metadata": {},
   "source": [
    "## description content crawl"
   ]
  },
  {
   "cell_type": "code",
   "execution_count": 1,
   "metadata": {},
   "outputs": [
    {
     "name": "stdout",
     "output_type": "stream",
     "text": [
      "200\n"
     ]
    }
   ],
   "source": [
    "import requests # python request\n",
    "\n",
    "# sample url\n",
    "URL = \"https://www.mccormick.northwestern.edu/computer-science/academics/courses/descriptions/337.html\"\n",
    "\n",
    "response = requests.get(URL) # requests -> get Function ( def get() )\n",
    "print(response.status_code)\n",
    "\n",
    "# 200 -> OK NO Problem!"
   ]
  },
  {
   "cell_type": "code",
   "execution_count": 2,
   "metadata": {},
   "outputs": [],
   "source": [
    "from bs4 import BeautifulSoup # BS4 -> Comfortable ( Famous )\n",
    "\n",
    "soup = BeautifulSoup(response.text, \"html.parser\") #xml, json"
   ]
  },
  {
   "cell_type": "code",
   "execution_count": 3,
   "metadata": {},
   "outputs": [
    {
     "name": "stdout",
     "output_type": "stream",
     "text": [
      "<p>A semantics-oriented introduction to natural language processing, broadly construed. Representation of meaning and knowledge inference in story understanding, script/frame theory, plans and plan recognition, counter-planning, and thematic structures.</p>\n",
      "<p><strong>REQUIRED TEXTBOOK</strong>: None.</p>\n"
     ]
    }
   ],
   "source": [
    "content_list = soup.select(\"#main-content p\") # select return -> datatype : list\n",
    "print(content_list[0]) # [0] -> Desc\n",
    "print(content_list[1])"
   ]
  },
  {
   "cell_type": "code",
   "execution_count": 4,
   "metadata": {},
   "outputs": [
    {
     "name": "stdout",
     "output_type": "stream",
     "text": [
      "200\n"
     ]
    }
   ],
   "source": [
    "course_url = \"https://www.mccormick.northwestern.edu/computer-science/academics/courses/\"\n",
    "\n",
    "# /description/XXX.html -> 규칙\n",
    "# table id : course_list > tbody > a href\n",
    "# <a href=\"descriptions/203.html\">COMP_ENG 203</a>\n",
    "# For Loop -> url + XXX.html -> XXX ????\n",
    "\n",
    "response = requests.get(course_url)\n",
    "print(response.status_code)"
   ]
  },
  {
   "cell_type": "code",
   "execution_count": null,
   "metadata": {},
   "outputs": [],
   "source": []
  }
 ],
 "metadata": {
  "kernelspec": {
   "display_name": "tuto",
   "language": "python",
   "name": "python3"
  },
  "language_info": {
   "codemirror_mode": {
    "name": "ipython",
    "version": 3
   },
   "file_extension": ".py",
   "mimetype": "text/x-python",
   "name": "python",
   "nbconvert_exporter": "python",
   "pygments_lexer": "ipython3",
   "version": "3.11.0"
  },
  "orig_nbformat": 4
 },
 "nbformat": 4,
 "nbformat_minor": 2
}
