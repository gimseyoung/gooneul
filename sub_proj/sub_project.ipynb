{
 "cells": [
  {
   "cell_type": "markdown",
   "metadata": {},
   "source": [
    "## 해외축구 경기 정보 받기\n",
    "- 관심있는 축구 경기 정보 받기\n",
    "- 보고싶은 경기를 시청할 수 없을 때, 스코어에 변화가 생길떄마다 현재 경기 스코어와 득점 정보를 전송\n",
    "- 보고싶은 경기가 진행되는 카테고리(컵, 리그)를 먼저 정해야 함\n",
    "- (경기 시작 전) 라인업 정보가 뜨면 각 팀의 선발 명단 크롤링\n",
    "- (경기 종료 후) 최종 스코어와 세부 기록 크롤링"
   ]
  },
  {
   "cell_type": "code",
   "execution_count": 1,
   "metadata": {},
   "outputs": [],
   "source": [
    "import requests\n",
    "from bs4 import BeautifulSoup as bs\n",
    "\n",
    "headers = {\n",
    "    'User-Agent': 'Mozilla/5.0 (Windows NT 10.0; Win64; x64) AppleWebKit/537.36 (KHTML, like Gecko) Chrome/114.0.0.0 Safari/537.36'\n",
    "}"
   ]
  },
  {
   "cell_type": "code",
   "execution_count": 2,
   "metadata": {},
   "outputs": [],
   "source": [
    "schedule_url = 'https://sports.news.naver.com/wfootball/schedule/index'\n",
    "\n",
    "category = ['epl', 'primera', 'bundesliga', 'seria', 'ligue1',\n",
    "            'denmark', 'champs', 'europa', 'uecl', 'facup',\n",
    "            'carlingcup', 'copadelrey', 'clubworldcup']\n",
    "\n",
    "lineup_url = 'https://m.sports.naver.com/game/2023081465041892243/lineup'\n",
    "record_url = 'https://m.sports.naver.com/game/2023081465041892243/record'"
   ]
  },
  {
   "cell_type": "code",
   "execution_count": null,
   "metadata": {},
   "outputs": [],
   "source": []
  }
 ],
 "metadata": {
  "kernelspec": {
   "display_name": "base",
   "language": "python",
   "name": "python3"
  },
  "language_info": {
   "codemirror_mode": {
    "name": "ipython",
    "version": 3
   },
   "file_extension": ".py",
   "mimetype": "text/x-python",
   "name": "python",
   "nbconvert_exporter": "python",
   "pygments_lexer": "ipython3",
   "version": "3.10.9"
  },
  "orig_nbformat": 4
 },
 "nbformat": 4,
 "nbformat_minor": 2
}
